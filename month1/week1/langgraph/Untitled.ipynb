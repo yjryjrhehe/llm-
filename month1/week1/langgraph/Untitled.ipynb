{
 "cells": [
  {
   "cell_type": "code",
   "execution_count": 2,
   "id": "34545463-393d-4050-ba30-17ed94612b54",
   "metadata": {},
   "outputs": [],
   "source": [
    "from tools.tools import search"
   ]
  },
  {
   "cell_type": "code",
   "execution_count": null,
   "id": "d7508786-9f43-45ac-969a-6d8244608ba5",
   "metadata": {},
   "outputs": [],
   "source": []
  }
 ],
 "metadata": {
  "kernelspec": {
   "display_name": "Python 3 (ipykernel)",
   "language": "python",
   "name": "python3"
  },
  "language_info": {
   "codemirror_mode": {
    "name": "ipython",
    "version": 3
   },
   "file_extension": ".py",
   "mimetype": "text/x-python",
   "name": "python",
   "nbconvert_exporter": "python",
   "pygments_lexer": "ipython3",
   "version": "3.12.7"
  }
 },
 "nbformat": 4,
 "nbformat_minor": 5
}
