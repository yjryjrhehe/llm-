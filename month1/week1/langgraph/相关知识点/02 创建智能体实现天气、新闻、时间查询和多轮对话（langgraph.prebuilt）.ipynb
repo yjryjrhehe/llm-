{
 "cells": [
  {
   "cell_type": "code",
   "execution_count": 33,
   "id": "21b4d4b0-b0b3-4c4e-8f61-a7d4c282b432",
   "metadata": {},
   "outputs": [],
   "source": [
    "#示例：langgraph_hello.py\n",
    "import os\n",
    "from dotenv import load_dotenv\n",
    "from typing import Literal\n",
    "from langchain_core.messages import HumanMessage\n",
    "from langchain_core.tools import tool\n",
    "from langchain_community.chat_models import ChatZhipuAI\n",
    "# pip install langgraph\n",
    "from langgraph.checkpoint.memory import MemorySaver\n",
    "from langgraph.graph import END, START, StateGraph, MessagesState\n",
    "from langgraph.prebuilt import ToolNode\n",
    "import requests\n",
    "import json\n",
    "\n",
    "\n",
    "# 加载 .env 文件中的环境变量\n",
    "load_dotenv(dotenv_path='D:/02File/05练习项目/04llm_learning/KEYs.env', override=True)\n",
    "# 获取 API 密钥\n",
    "llm_api_key = os.environ[\"ZHIPUAI_API_KEY\"] \n",
    "\n",
    "llm = ChatZhipuAI(\n",
    "    model=\"GLM-4-Air\",\n",
    "    api_key=llm_api_key,\n",
    "    temperature=0\n",
    ")\n",
    "\n",
    "weather_api_key = os.environ[\"WEATHER_API_KEY\"]\n",
    "\n",
    "def city_code_search(city_name: str) -> str:\n",
    "    \"\"\"\n",
    "    输入城市名称，返回城市代码。\n",
    "    \"\"\"\n",
    "    # 打开并读取JSON文件\n",
    "    with open(\"D:/02File/05练习项目/04llm_learning/month1/week1/langgraph/tools/city_code.json\", 'r', encoding='utf-8') as file:\n",
    "        data = json.load(file)\n",
    "    # 访问数据\n",
    "    for province in data['list']:\n",
    "        for city in province['list']:\n",
    "            if city['name'] == city_name:\n",
    "                city_id = city['city_id']\n",
    "    if city_name not in [\"北京\",\"天津\",\"上海\",\"重庆\"]:\n",
    "        return city_id+\"01\"\n",
    "    else:\n",
    "        return city_id\n",
    "    return None\n",
    "# 定义工具函数，用于代理调用外部工具\n",
    "@tool\n",
    "def search(city_name: str) -> str:\n",
    "    \"\"\"\n",
    "    输入城市名称，获取天气信息。\n",
    "    \"\"\"\n",
    "    city_code = city_code_search(city_name)\n",
    "    if city_code:\n",
    "        # API 地址\n",
    "        url = \"http://api.yytianqi.com/observe\"\n",
    "        # 可选的查询参数\n",
    "        params = {\n",
    "            \"city\": city_code,\n",
    "            \"key\": weather_api_key\n",
    "        }\n",
    "        # 发送 GET 请求\n",
    "        response = requests.get(url, params=params)\n",
    "        # 检查响应状态码\n",
    "        if response.status_code == 200:\n",
    "            # 解析返回的数据（假设是 JSON 格式）\n",
    "            data = response.json()\n",
    "            print(f\"API Response Data: {data}\")\n",
    "            \n",
    "            tq = data['data']['tq']\n",
    "            qw = data['data']['qw']\n",
    "            return f\"查询城市当前天气{tq}，气温{qw}度。\"\n",
    "        else:\n",
    "            print(f\"Error: {response.status_code}\")   \n",
    "    else:\n",
    "        return \"不支持查询该城市的天气\""
   ]
  },
  {
   "cell_type": "code",
   "execution_count": 38,
   "id": "525315bd-514e-4f95-9143-25e4b97e71a5",
   "metadata": {},
   "outputs": [],
   "source": [
    "from datetime import datetime\n",
    "\n",
    "@tool\n",
    "def time(query: Annotated[str, \"任意输入\"]) -> str:\n",
    "    \"\"\"\n",
    "    需要获取当前时间时调用此函数。\n",
    "    \"\"\"\n",
    "    # 获取当前的日期和时间\n",
    "    now = datetime.now()\n",
    "    # 格式化日期时间输出\n",
    "    formatted_time = now.strftime(\"%Y年%m月%d日，星期%w %H时%M分\")\n",
    "    # 将星期天从“星期0”替换为“星期日”\n",
    "    formatted_time = formatted_time.replace(\"星期0\", \"星期日\")\n",
    "    return formatted_time"
   ]
  },
  {
   "cell_type": "code",
   "execution_count": 18,
   "id": "03c6b1ad-e2e4-4fe6-b14b-4109170e53c7",
   "metadata": {},
   "outputs": [
    {
     "data": {
      "text/plain": [
       "'2025年05月11日，星期日 22时36分'"
      ]
     },
     "execution_count": 18,
     "metadata": {},
     "output_type": "execute_result"
    }
   ],
   "source": [
    "time.invoke(\"ss\")"
   ]
  },
  {
   "cell_type": "code",
   "execution_count": 39,
   "id": "856904b1-09e4-4f93-86dc-de87dd48001a",
   "metadata": {},
   "outputs": [],
   "source": [
    "# 定义工具函数，用于代理调用外部工具\n",
    "from langchain_community.tools.tavily_search import TavilySearchResults\n",
    "tavily_api_key = os.environ[\"TAVILY_API_KEY\"]\n",
    "# 创建TavilySearchResults工具，设置最大结果数为1\n",
    "tools = [TavilySearchResults(max_results=1, tavily_api_key=tavily_api_key), search, time]"
   ]
  },
  {
   "cell_type": "code",
   "execution_count": 40,
   "id": "fa7a4122-f061-4742-b4d7-66edc90790c4",
   "metadata": {},
   "outputs": [],
   "source": [
    "from langgraph.prebuilt import create_react_agent\n",
    "\n",
    "# 从LangChain的Hub中获取prompt模板，可以进行修改\n",
    "# prompt = hub.pull(\"wfh/react-agent-executor\")\n",
    "# prompt.pretty_print()\n",
    "\n",
    "# 创建一个REACT代理执行器，使用指定的LLM和工具，并应用从Hub中获取的prompt\n",
    "agent_executor = create_react_agent(llm, tools)"
   ]
  },
  {
   "cell_type": "code",
   "execution_count": 41,
   "id": "3a6938ee-7201-4109-a631-7541211959d3",
   "metadata": {
    "scrolled": true
   },
   "outputs": [
    {
     "data": {
      "text/plain": [
       "{'messages': [HumanMessage(content='查找2024年巴黎奥运会100米自由泳决赛冠军', additional_kwargs={}, response_metadata={}, id='688fce1d-2424-4599-a31e-a40821e2ac03'),\n",
       "  AIMessage(content='', additional_kwargs={'tool_calls': [{'function': {'arguments': '{\"query\": \"2024年巴黎奥运会100米自由泳决赛冠军\"}', 'name': 'tavily_search_results_json'}, 'id': 'call_-8724726023226009934', 'index': 0, 'type': 'function'}]}, response_metadata={'token_usage': {'completion_tokens': 24, 'prompt_tokens': 385, 'total_tokens': 409}, 'model_name': 'GLM-4-Air', 'finish_reason': 'tool_calls'}, id='run-7c8d5dfe-0983-4b2a-8d89-96baf82adb7b-0', tool_calls=[{'name': 'tavily_search_results_json', 'args': {'query': '2024年巴黎奥运会100米自由泳决赛冠军'}, 'id': 'call_-8724726023226009934', 'type': 'tool_call'}]),\n",
       "  ToolMessage(content='[{\"title\": \"男子100米自由泳决赛：中国选手潘展乐夺冠_2024巴黎奥运会 - 新华网\", \"url\": \"http://www.news.cn/sports/20240801/bf63660fb33d4751be87d0b4b445d593/c.html\", \"content\": \"7月31日，冠军中国选手潘展乐（中）、亚军澳大利亚选手查默斯（左）与季军罗马尼亚选手波波维奇在颁奖仪式上合影。新华社记者 雒圆 摄\\\\n\\\\n\\\\n\\\\n7月31日，中国选手潘展乐在颁奖仪式上。新华社记者 雒圆 摄\\\\n\\\\n\\\\n\\\\n7月31日，中国选手潘展乐在颁奖仪式上。新华社记者 王鹏 摄\\\\n\\\\n\\\\n\\\\n7月31日，中国选手潘展乐在比赛后。新华社记者 王鹏 摄\\\\n\\\\n\\\\n\\\\n7月31日，中国选手潘展乐在比赛前。新华社记者 王鹏 摄\\\\n\\\\n\\\\n\\\\n7月31日，中国选手潘展乐在比赛中入水。新华社记者 王鹏 摄\\\\n\\\\n\\\\n\\\\n7月31日，中国选手潘展乐（右二）在比赛前。新华社记者 王鹏 摄\\\\n\\\\n\\\\n\\\\n7月31日，中国选手潘展乐在新闻发布会上。新华社记者 夏一方 摄\\\\n\\\\n\\\\n\\\\n7月31日，中国选手潘展乐在新闻发布会上。新华社记者 夏一方 摄\\\\n\\\\n\\\\n\\\\n7月31日，中国选手潘展乐在新闻发布会上。新华社记者 夏一方 摄\\\\n\\\\n\\\\n\\\\n7月31日，中国选手潘展乐在赛后新闻发布会上。新华社记者 雒圆 摄\\\\n\\\\n\\\\n\\\\n7月31日，中国选手潘展乐（中）在赛后新闻发布会上。新华社记者 雒圆 摄\\\\n\\\\n\\\\n\\\\n7月31日，中国选手潘展乐在夺冠后庆祝。新华社记者 杜宇 摄 [...] 巴黎奥运会丨游泳——男子100米自由泳决赛：中国选手潘展乐夺冠\\\\n\\\\n\\\\n\\\\n7月31日，潘展乐在比赛中入水。新华社记者 夏一方 摄\\\\n\\\\n当日，在巴黎奥运会游泳项目男子100米自由泳决赛中，中国选手潘展乐以46秒40的成绩夺冠并打破世界纪录。\\\\n\\\\n\\\\n\\\\n7月31日，潘展乐在比赛后庆祝夺冠。新华社记者 夏一方 摄\\\\n\\\\n\\\\n\\\\n7月31日，潘展乐在比赛后庆祝夺冠。新华社记者 夏一方 摄\\\\n\\\\n\\\\n\\\\n7月31日，潘展乐庆祝夺冠。新华社记者 夏一方 摄\\\\n\\\\n\\\\n\\\\n7月31日，中国选手潘展乐在比赛后庆祝。新华社记者 薛宇舸 摄\\\\n\\\\n\\\\n\\\\n7月31日，中国选手潘展乐在比赛后庆祝。新华社记者 杜宇 摄\\\\n\\\\n\\\\n\\\\n7月31日，中国选手潘展乐在比赛后庆祝。新华社记者 雒圆 摄\\\\n\\\\n\\\\n\\\\n7月31日，中国选手潘展乐在比赛后庆祝。新华社记者 雒圆 摄\\\\n\\\\n\\\\n\\\\n7月31日，中国选手潘展乐在比赛后庆祝。新华社记者 杜宇 摄\\\\n\\\\n\\\\n\\\\n7月31日，中国选手潘展乐（右）与亚军澳大利亚选手查默斯在比赛后庆祝。新华社记者 杜宇 摄\\\\n\\\\n\\\\n\\\\n7月31日，中国选手潘展乐在比赛后庆祝。新华社记者 杜宇 摄\\\\n\\\\n\\\\n\\\\n7月31日，中国选手潘展乐在比赛后庆祝。新华社记者 杜宇 摄 [...] 7月31日，中国选手潘展乐在颁奖仪式后。新华社记者 薛宇舸 摄\\\\n\\\\n\\\\n\\\\n7月31日，中国选手潘展乐在比赛中。新华社记者 薛宇舸 摄\\\\n\\\\n\\\\n\\\\n7月31日，冠军中国选手潘展乐（中）、亚军澳大利亚选手查默斯（左）与季军罗马尼亚选手波波维奇在颁奖仪式上。新华社记者 薛宇舸 摄\\\\n\\\\n\\\\n\\\\n7月31日，中国选手潘展乐在比赛后庆祝。新华社记者 杜宇 摄\\\\n\\\\n\\\\n\\\\n这是7月31日拍摄的中国选手潘展乐获得的金牌。新华社记者 杜宇 摄\\\\n\\\\n\\\\n\\\\n7月31日，中国选手潘展乐在比赛前。新华社记者 夏一方 摄\\\\n\\\\n\\\\n\\\\n7月31日，中国选手潘展乐在比赛后庆祝。新华社记者 夏一方 摄\\\\n\\\\n\\\\n\\\\n7月31日，中国选手潘展乐（右）与亚军澳大利亚选手查默斯在比赛后庆祝。新华社记者 薛宇舸 摄\\\\n\\\\n\\\\n\\\\n7月31日，中国选手潘展乐在颁奖仪式上。新华社记者 雒圆 摄\\\\n\\\\n\\\\n\\\\n7月31日，中国选手潘展乐在颁奖仪式上。新华社记者 杜宇 摄\\\\n\\\\n\\\\n\\\\n7月31日，冠军中国选手潘展乐在颁奖仪式后与观众合影。新华社记者 薛宇舸 摄\\\\n\\\\n\\\\n\\\\n7月31日，冠军中国选手潘展乐（左）与季军罗马尼亚选手波波维奇在颁奖仪式上。新华社记者 薛宇舸 摄\", \"score\": 0.8976328}]', name='tavily_search_results_json', id='bff483d0-3c9c-49de-839a-8470fea4e671', tool_call_id='call_-8724726023226009934', artifact={'query': '2024年巴黎奥运会100米自由泳决赛冠军', 'follow_up_questions': None, 'answer': None, 'images': [], 'results': [{'url': 'http://www.news.cn/sports/20240801/bf63660fb33d4751be87d0b4b445d593/c.html', 'title': '男子100米自由泳决赛：中国选手潘展乐夺冠_2024巴黎奥运会 - 新华网', 'content': '7月31日，冠军中国选手潘展乐（中）、亚军澳大利亚选手查默斯（左）与季军罗马尼亚选手波波维奇在颁奖仪式上合影。新华社记者 雒圆 摄\\n\\n\\n\\n7月31日，中国选手潘展乐在颁奖仪式上。新华社记者 雒圆 摄\\n\\n\\n\\n7月31日，中国选手潘展乐在颁奖仪式上。新华社记者 王鹏 摄\\n\\n\\n\\n7月31日，中国选手潘展乐在比赛后。新华社记者 王鹏 摄\\n\\n\\n\\n7月31日，中国选手潘展乐在比赛前。新华社记者 王鹏 摄\\n\\n\\n\\n7月31日，中国选手潘展乐在比赛中入水。新华社记者 王鹏 摄\\n\\n\\n\\n7月31日，中国选手潘展乐（右二）在比赛前。新华社记者 王鹏 摄\\n\\n\\n\\n7月31日，中国选手潘展乐在新闻发布会上。新华社记者 夏一方 摄\\n\\n\\n\\n7月31日，中国选手潘展乐在新闻发布会上。新华社记者 夏一方 摄\\n\\n\\n\\n7月31日，中国选手潘展乐在新闻发布会上。新华社记者 夏一方 摄\\n\\n\\n\\n7月31日，中国选手潘展乐在赛后新闻发布会上。新华社记者 雒圆 摄\\n\\n\\n\\n7月31日，中国选手潘展乐（中）在赛后新闻发布会上。新华社记者 雒圆 摄\\n\\n\\n\\n7月31日，中国选手潘展乐在夺冠后庆祝。新华社记者 杜宇 摄 [...] 巴黎奥运会丨游泳——男子100米自由泳决赛：中国选手潘展乐夺冠\\n\\n\\n\\n7月31日，潘展乐在比赛中入水。新华社记者 夏一方 摄\\n\\n当日，在巴黎奥运会游泳项目男子100米自由泳决赛中，中国选手潘展乐以46秒40的成绩夺冠并打破世界纪录。\\n\\n\\n\\n7月31日，潘展乐在比赛后庆祝夺冠。新华社记者 夏一方 摄\\n\\n\\n\\n7月31日，潘展乐在比赛后庆祝夺冠。新华社记者 夏一方 摄\\n\\n\\n\\n7月31日，潘展乐庆祝夺冠。新华社记者 夏一方 摄\\n\\n\\n\\n7月31日，中国选手潘展乐在比赛后庆祝。新华社记者 薛宇舸 摄\\n\\n\\n\\n7月31日，中国选手潘展乐在比赛后庆祝。新华社记者 杜宇 摄\\n\\n\\n\\n7月31日，中国选手潘展乐在比赛后庆祝。新华社记者 雒圆 摄\\n\\n\\n\\n7月31日，中国选手潘展乐在比赛后庆祝。新华社记者 雒圆 摄\\n\\n\\n\\n7月31日，中国选手潘展乐在比赛后庆祝。新华社记者 杜宇 摄\\n\\n\\n\\n7月31日，中国选手潘展乐（右）与亚军澳大利亚选手查默斯在比赛后庆祝。新华社记者 杜宇 摄\\n\\n\\n\\n7月31日，中国选手潘展乐在比赛后庆祝。新华社记者 杜宇 摄\\n\\n\\n\\n7月31日，中国选手潘展乐在比赛后庆祝。新华社记者 杜宇 摄 [...] 7月31日，中国选手潘展乐在颁奖仪式后。新华社记者 薛宇舸 摄\\n\\n\\n\\n7月31日，中国选手潘展乐在比赛中。新华社记者 薛宇舸 摄\\n\\n\\n\\n7月31日，冠军中国选手潘展乐（中）、亚军澳大利亚选手查默斯（左）与季军罗马尼亚选手波波维奇在颁奖仪式上。新华社记者 薛宇舸 摄\\n\\n\\n\\n7月31日，中国选手潘展乐在比赛后庆祝。新华社记者 杜宇 摄\\n\\n\\n\\n这是7月31日拍摄的中国选手潘展乐获得的金牌。新华社记者 杜宇 摄\\n\\n\\n\\n7月31日，中国选手潘展乐在比赛前。新华社记者 夏一方 摄\\n\\n\\n\\n7月31日，中国选手潘展乐在比赛后庆祝。新华社记者 夏一方 摄\\n\\n\\n\\n7月31日，中国选手潘展乐（右）与亚军澳大利亚选手查默斯在比赛后庆祝。新华社记者 薛宇舸 摄\\n\\n\\n\\n7月31日，中国选手潘展乐在颁奖仪式上。新华社记者 雒圆 摄\\n\\n\\n\\n7月31日，中国选手潘展乐在颁奖仪式上。新华社记者 杜宇 摄\\n\\n\\n\\n7月31日，冠军中国选手潘展乐在颁奖仪式后与观众合影。新华社记者 薛宇舸 摄\\n\\n\\n\\n7月31日，冠军中国选手潘展乐（左）与季军罗马尼亚选手波波维奇在颁奖仪式上。新华社记者 薛宇舸 摄', 'score': 0.8976328, 'raw_content': None}], 'response_time': 2.06}),\n",
       "  AIMessage(content='2024年巴黎奥运会男子100米自由泳决赛的冠军是中国选手潘展乐。他在比赛中以46秒40的成绩夺冠并打破了世界纪录。', additional_kwargs={}, response_metadata={'token_usage': {'completion_tokens': 34, 'prompt_tokens': 1534, 'total_tokens': 1568}, 'model_name': 'GLM-4-Air', 'finish_reason': 'stop'}, id='run-ee2dfa5e-2239-49d3-a82d-fa5cb6d1b503-0')]}"
      ]
     },
     "execution_count": 41,
     "metadata": {},
     "output_type": "execute_result"
    }
   ],
   "source": [
    "agent_executor.invoke({\"messages\": [(\"user\", \"查找2024年巴黎奥运会100米自由泳决赛冠军\")]})"
   ]
  },
  {
   "cell_type": "code",
   "execution_count": 42,
   "id": "0f9c2444-c7bc-47b8-b10e-7d9f221ca78c",
   "metadata": {},
   "outputs": [
    {
     "data": {
      "text/plain": [
       "{'messages': [HumanMessage(content='查询现在的时间', additional_kwargs={}, response_metadata={}, id='53f4fc98-502e-47e2-a2fe-7644e3e6e0ca'),\n",
       "  AIMessage(content='', additional_kwargs={'tool_calls': [{'function': {'arguments': '{\"query\": \"现在的时间是多少\"}', 'name': 'time'}, 'id': 'call_-8724720525666815989', 'index': 0, 'type': 'function'}]}, response_metadata={'token_usage': {'completion_tokens': 11, 'prompt_tokens': 376, 'total_tokens': 387}, 'model_name': 'GLM-4-Air', 'finish_reason': 'tool_calls'}, id='run-31280dd4-b303-4ac1-a026-58dec7056978-0', tool_calls=[{'name': 'time', 'args': {'query': '现在的时间是多少'}, 'id': 'call_-8724720525666815989', 'type': 'tool_call'}]),\n",
       "  ToolMessage(content='2025年05月11日，星期日 22时52分', name='time', id='179aba6b-d061-4d37-be96-8f7650e47e17', tool_call_id='call_-8724720525666815989'),\n",
       "  AIMessage(content='当前时间是2025年5月11日，星期日，晚上10点52分。', additional_kwargs={}, response_metadata={'token_usage': {'completion_tokens': 21, 'prompt_tokens': 395, 'total_tokens': 416}, 'model_name': 'GLM-4-Air', 'finish_reason': 'stop'}, id='run-4979c229-3597-45fb-b83d-ed1a679cc903-0')]}"
      ]
     },
     "execution_count": 42,
     "metadata": {},
     "output_type": "execute_result"
    }
   ],
   "source": [
    "agent_executor.invoke({\"messages\": [(\"user\", \"查询现在的时间\")]})"
   ]
  },
  {
   "cell_type": "code",
   "execution_count": 43,
   "id": "c4d1acee-dcea-49b3-948d-1fe94beffd8a",
   "metadata": {},
   "outputs": [
    {
     "name": "stdout",
     "output_type": "stream",
     "text": [
      "API Response Data: {'code': 1, 'msg': 'Sucess', 'counts': 13, 'data': {'cityId': 'CH070201', 'cityName': '大连', 'lastUpdate': '2025-05-11 22:44:22', 'tq': '晴', 'numtq': '00', 'qw': '16', 'numfl': 2, 'fl': '4-5级', 'fx': '南风', 'numfx': '4', 'sd': '55'}}\n"
     ]
    },
    {
     "data": {
      "text/plain": [
       "{'messages': [HumanMessage(content='大连天气怎么样', additional_kwargs={}, response_metadata={}, id='c7fb468b-6f20-40ad-9717-ec43508cd647'),\n",
       "  AIMessage(content='', additional_kwargs={'tool_calls': [{'function': {'arguments': '{\"city_name\": \"大连\"}', 'name': 'search'}, 'id': 'call_-8724728325328989224', 'index': 0, 'type': 'function'}]}, response_metadata={'token_usage': {'completion_tokens': 10, 'prompt_tokens': 376, 'total_tokens': 386}, 'model_name': 'GLM-4-Air', 'finish_reason': 'tool_calls'}, id='run-6e95ab94-4fbe-4094-b201-e92edd6e3c71-0', tool_calls=[{'name': 'search', 'args': {'city_name': '大连'}, 'id': 'call_-8724728325328989224', 'type': 'tool_call'}]),\n",
       "  ToolMessage(content='查询城市当前天气晴，气温16度。', name='search', id='4bd29015-2174-4647-95a6-27ff989606c2', tool_call_id='call_-8724728325328989224'),\n",
       "  AIMessage(content='当前大连的天气晴朗，气温为16摄氏度。如果您需要更详细的天气信息，比如风力、湿度等，请告诉我，我可以为您提供。', additional_kwargs={}, response_metadata={'token_usage': {'completion_tokens': 34, 'prompt_tokens': 390, 'total_tokens': 424}, 'model_name': 'GLM-4-Air', 'finish_reason': 'stop'}, id='run-2c3442f4-b572-467a-94ba-2c0aa30ee659-0')]}"
      ]
     },
     "execution_count": 43,
     "metadata": {},
     "output_type": "execute_result"
    }
   ],
   "source": [
    "agent_executor.invoke({\"messages\": [(\"user\", \"大连天气怎么样\")]})"
   ]
  },
  {
   "cell_type": "code",
   "execution_count": 72,
   "id": "bbef5578-0a7a-4a0b-af59-f8cfc097dd32",
   "metadata": {},
   "outputs": [],
   "source": [
    "# 定义函数，决定是否继续执行\n",
    "def should_continue(state: MessagesState) -> Literal[\"tools\", END]: # type: ignore\n",
    "    messages = state['messages']\n",
    "    last_message = messages[-1]\n",
    "    # 如果LLM调用了工具，则转到“tools”节点\n",
    "    if last_message.tool_calls:\n",
    "        return \"tools\"\n",
    "    # 否则，停止（回复用户）\n",
    "    return END\n",
    "\n",
    "\n",
    "# 定义调用模型的函数\n",
    "def call_model(state: MessagesState):\n",
    "    messages = state['messages']\n",
    "    # print(messages)\n",
    "    response = agent_executor.invoke({\"messages\": messages})\n",
    "    # 返回列表，因为这将被添加到现有列表中\n",
    "    return response"
   ]
  },
  {
   "cell_type": "code",
   "execution_count": 73,
   "id": "d987e4ea-5de1-4d18-abbd-c5f0e6575b45",
   "metadata": {},
   "outputs": [],
   "source": [
    "# 创建工具节点\n",
    "tool_node = ToolNode(tools)"
   ]
  },
  {
   "cell_type": "code",
   "execution_count": 74,
   "id": "9e62a4db-0d8c-4a0e-ba53-f931e4de2de6",
   "metadata": {},
   "outputs": [
    {
     "data": {
      "text/plain": [
       "<langgraph.graph.state.StateGraph at 0x2a8bd8eb200>"
      ]
     },
     "execution_count": 74,
     "metadata": {},
     "output_type": "execute_result"
    }
   ],
   "source": [
    "# 2.用状态初始化图，定义一个新的状态图\n",
    "workflow = StateGraph(MessagesState)\n",
    "# 3.定义图节点，定义我们将循环的两个节点\n",
    "workflow.add_node(\"agent\", call_model)\n",
    "workflow.add_node(\"tools\", tool_node)\n",
    "\n",
    "# 4.定义入口点和图边\n",
    "# 设置入口点为“agent”\n",
    "# 这意味着这是第一个被调用的节点\n",
    "workflow.set_entry_point(\"agent\")"
   ]
  },
  {
   "cell_type": "code",
   "execution_count": 75,
   "id": "98c9cd7c-9cda-4f7b-861f-60890e30aade",
   "metadata": {},
   "outputs": [],
   "source": [
    "# 添加条件边\n",
    "workflow.add_conditional_edges(\n",
    "    # 首先，定义起始节点。我们使用`agent`。\n",
    "    # 这意味着这些边是在调用`agent`节点后采取的。\n",
    "    \"agent\",\n",
    "    # 接下来，传递决定下一个调用节点的函数。\n",
    "    should_continue,\n",
    ")\n",
    "\n",
    "# 添加从`tools`到`agent`的普通边。\n",
    "# 这意味着在调用`tools`后，接下来调用`agent`节点。\n",
    "workflow.add_edge(\"tools\", 'agent')\n",
    "\n",
    "# 初始化内存以在图运行之间持久化状态\n",
    "checkpointer = MemorySaver()"
   ]
  },
  {
   "cell_type": "code",
   "execution_count": 76,
   "id": "312b63ec-3ffb-43cd-8ee0-b476886f4213",
   "metadata": {},
   "outputs": [],
   "source": [
    "# 5.编译图\n",
    "# 这将其编译成一个LangChain可运行对象，\n",
    "# 这意味着你可以像使用其他可运行对象一样使用它。\n",
    "# 注意，我们（可选地）在编译图时传递内存\n",
    "app = workflow.compile(checkpointer=checkpointer)\n",
    "# app = workflow.compile()"
   ]
  },
  {
   "cell_type": "code",
   "execution_count": 77,
   "id": "342b5ab1-0e53-460f-8096-dc1ccfddebce",
   "metadata": {},
   "outputs": [
    {
     "name": "stdout",
     "output_type": "stream",
     "text": [
      "API Response Data: {'code': 1, 'msg': 'Sucess', 'counts': 28, 'data': {'cityId': 'CH070201', 'cityName': '大连', 'lastUpdate': '2025-05-11 23:34:06', 'tq': '晴', 'numtq': '00', 'qw': '15', 'numfl': 3, 'fl': '5-6级', 'fx': '西南风', 'numfx': '5', 'sd': '57'}}\n",
      "当前大连的天气晴朗，气温为15摄氏度。如果您需要更详细的天气信息，比如风力、湿度等，请告诉我，我可以为您提供。\n",
      "{'messages': [HumanMessage(content='大连的天气怎么样?', additional_kwargs={}, response_metadata={}, id='1fbb5b01-0e56-4d65-b01e-4903e00e6aa2'), AIMessage(content='', additional_kwargs={'tool_calls': [{'function': {'arguments': '{\"city_name\": \"大连\"}', 'name': 'search'}, 'id': 'call_-8724726298104037640', 'index': 0, 'type': 'function'}]}, response_metadata={'token_usage': {'completion_tokens': 10, 'prompt_tokens': 378, 'total_tokens': 388}, 'model_name': 'GLM-4-Air', 'finish_reason': 'tool_calls'}, id='run-98d3fa36-8be7-4536-ac6c-66e361b2d3f9-0', tool_calls=[{'name': 'search', 'args': {'city_name': '大连'}, 'id': 'call_-8724726298104037640', 'type': 'tool_call'}]), ToolMessage(content='查询城市当前天气晴，气温15度。', name='search', id='bf7c60ab-9201-4f30-bbfc-d81c9d0982da', tool_call_id='call_-8724726298104037640'), AIMessage(content='当前大连的天气晴朗，气温为15摄氏度。如果您需要更详细的天气信息，比如风力、湿度等，请告诉我，我可以为您提供。', additional_kwargs={}, response_metadata={'token_usage': {'completion_tokens': 34, 'prompt_tokens': 392, 'total_tokens': 426}, 'model_name': 'GLM-4-Air', 'finish_reason': 'stop'}, id='run-e0d7b191-cfb6-411b-b03e-af85a80a5c74-0')]}\n"
     ]
    }
   ],
   "source": [
    "# 6.执行图，使用可运行对象\n",
    "final_state = app.invoke(\n",
    "    {\"messages\": [HumanMessage(content=\"大连的天气怎么样?\")]},\n",
    "    config={\"configurable\": {\"thread_id\": 42}}\n",
    ")\n",
    "# 从 final_state 中获取最后一条消息的内容\n",
    "result = final_state[\"messages\"][-1].content\n",
    "print(result)\n",
    "print(final_state)"
   ]
  },
  {
   "cell_type": "code",
   "execution_count": 78,
   "id": "aff0aea1-448c-41ab-850f-42c4d94a2e98",
   "metadata": {},
   "outputs": [
    {
     "name": "stdout",
     "output_type": "stream",
     "text": [
      "特朗普的生日是1946年6月14日。\n",
      "{'messages': [HumanMessage(content='大连的天气怎么样?', additional_kwargs={}, response_metadata={}, id='1fbb5b01-0e56-4d65-b01e-4903e00e6aa2'), AIMessage(content='', additional_kwargs={'tool_calls': [{'function': {'arguments': '{\"city_name\": \"大连\"}', 'name': 'search'}, 'id': 'call_-8724726298104037640', 'index': 0, 'type': 'function'}]}, response_metadata={'token_usage': {'completion_tokens': 10, 'prompt_tokens': 378, 'total_tokens': 388}, 'model_name': 'GLM-4-Air', 'finish_reason': 'tool_calls'}, id='run-98d3fa36-8be7-4536-ac6c-66e361b2d3f9-0', tool_calls=[{'name': 'search', 'args': {'city_name': '大连'}, 'id': 'call_-8724726298104037640', 'type': 'tool_call'}]), ToolMessage(content='查询城市当前天气晴，气温15度。', name='search', id='bf7c60ab-9201-4f30-bbfc-d81c9d0982da', tool_call_id='call_-8724726298104037640'), AIMessage(content='当前大连的天气晴朗，气温为15摄氏度。如果您需要更详细的天气信息，比如风力、湿度等，请告诉我，我可以为您提供。', additional_kwargs={}, response_metadata={'token_usage': {'completion_tokens': 34, 'prompt_tokens': 392, 'total_tokens': 426}, 'model_name': 'GLM-4-Air', 'finish_reason': 'stop'}, id='run-e0d7b191-cfb6-411b-b03e-af85a80a5c74-0'), HumanMessage(content='查询特朗普的生日', additional_kwargs={}, response_metadata={}, id='eb151011-4df4-4b3f-bfec-0425692837f0'), AIMessage(content='', additional_kwargs={'tool_calls': [{'function': {'arguments': '{\"query\": \"特朗普的生日\"}', 'name': 'tavily_search_results_json'}, 'id': 'call_-8724718601521358222', 'index': 0, 'type': 'function'}]}, response_metadata={'token_usage': {'completion_tokens': 16, 'prompt_tokens': 432, 'total_tokens': 448}, 'model_name': 'GLM-4-Air', 'finish_reason': 'tool_calls'}, id='run-994665c8-84ba-44cf-91ef-31e6308b14e7-0', tool_calls=[{'name': 'tavily_search_results_json', 'args': {'query': '特朗普的生日'}, 'id': 'call_-8724718601521358222', 'type': 'tool_call'}]), ToolMessage(content='[{\"title\": \"特朗普的74岁生日，网友祝奥巴马生日快乐-手机新浪网\", \"url\": \"http://news.sina.cn/j_uc.d.html?docid=ircuyvi8629712\", \"content\": \"当地时间6月14日，美国总统特朗普迎来了他的74岁生日。 特朗普1946年6月14日生于美国纽约，2016年11月赢得当年大选时他已经70岁，成为美国历史上年纪最大的当选总统。 如今他\", \"score\": 0.8884594}]', name='tavily_search_results_json', id='f73fd77a-3168-40a5-934b-ba6b66625ada', tool_call_id='call_-8724718601521358222', artifact={'query': '特朗普的生日', 'follow_up_questions': None, 'answer': None, 'images': [], 'results': [{'url': 'http://news.sina.cn/j_uc.d.html?docid=ircuyvi8629712', 'title': '特朗普的74岁生日，网友祝奥巴马生日快乐-手机新浪网', 'content': '当地时间6月14日，美国总统特朗普迎来了他的74岁生日。 特朗普1946年6月14日生于美国纽约，2016年11月赢得当年大选时他已经70岁，成为美国历史上年纪最大的当选总统。 如今他', 'score': 0.8884594, 'raw_content': None}], 'response_time': 2.34}), AIMessage(content='特朗普的生日是1946年6月14日。', additional_kwargs={}, response_metadata={'token_usage': {'completion_tokens': 15, 'prompt_tokens': 551, 'total_tokens': 566}, 'model_name': 'GLM-4-Air', 'finish_reason': 'stop'}, id='run-526428af-f8d8-4587-98b2-e509229373e9-0')]}\n"
     ]
    }
   ],
   "source": [
    "final_state = app.invoke(\n",
    "    {\"messages\": [HumanMessage(content=\"查询特朗普的生日\")]},\n",
    "    config={\"configurable\": {\"thread_id\": 42}}\n",
    ")\n",
    "# 从 final_state 中获取最后一条消息的内容\n",
    "result = final_state[\"messages\"][-1].content\n",
    "print(result)\n",
    "print(final_state)"
   ]
  },
  {
   "cell_type": "code",
   "execution_count": 79,
   "id": "a6667fc2-f6bc-41e7-b2e8-7a5b069f8ed8",
   "metadata": {},
   "outputs": [
    {
     "name": "stdout",
     "output_type": "stream",
     "text": [
      "您询问了大连的天气情况。\n",
      "{'messages': [HumanMessage(content='大连的天气怎么样?', additional_kwargs={}, response_metadata={}, id='1fbb5b01-0e56-4d65-b01e-4903e00e6aa2'), AIMessage(content='', additional_kwargs={'tool_calls': [{'function': {'arguments': '{\"city_name\": \"大连\"}', 'name': 'search'}, 'id': 'call_-8724726298104037640', 'index': 0, 'type': 'function'}]}, response_metadata={'token_usage': {'completion_tokens': 10, 'prompt_tokens': 378, 'total_tokens': 388}, 'model_name': 'GLM-4-Air', 'finish_reason': 'tool_calls'}, id='run-98d3fa36-8be7-4536-ac6c-66e361b2d3f9-0', tool_calls=[{'name': 'search', 'args': {'city_name': '大连'}, 'id': 'call_-8724726298104037640', 'type': 'tool_call'}]), ToolMessage(content='查询城市当前天气晴，气温15度。', name='search', id='bf7c60ab-9201-4f30-bbfc-d81c9d0982da', tool_call_id='call_-8724726298104037640'), AIMessage(content='当前大连的天气晴朗，气温为15摄氏度。如果您需要更详细的天气信息，比如风力、湿度等，请告诉我，我可以为您提供。', additional_kwargs={}, response_metadata={'token_usage': {'completion_tokens': 34, 'prompt_tokens': 392, 'total_tokens': 426}, 'model_name': 'GLM-4-Air', 'finish_reason': 'stop'}, id='run-e0d7b191-cfb6-411b-b03e-af85a80a5c74-0'), HumanMessage(content='查询特朗普的生日', additional_kwargs={}, response_metadata={}, id='eb151011-4df4-4b3f-bfec-0425692837f0'), AIMessage(content='', additional_kwargs={'tool_calls': [{'function': {'arguments': '{\"query\": \"特朗普的生日\"}', 'name': 'tavily_search_results_json'}, 'id': 'call_-8724718601521358222', 'index': 0, 'type': 'function'}]}, response_metadata={'token_usage': {'completion_tokens': 16, 'prompt_tokens': 432, 'total_tokens': 448}, 'model_name': 'GLM-4-Air', 'finish_reason': 'tool_calls'}, id='run-994665c8-84ba-44cf-91ef-31e6308b14e7-0', tool_calls=[{'name': 'tavily_search_results_json', 'args': {'query': '特朗普的生日'}, 'id': 'call_-8724718601521358222', 'type': 'tool_call'}]), ToolMessage(content='[{\"title\": \"特朗普的74岁生日，网友祝奥巴马生日快乐-手机新浪网\", \"url\": \"http://news.sina.cn/j_uc.d.html?docid=ircuyvi8629712\", \"content\": \"当地时间6月14日，美国总统特朗普迎来了他的74岁生日。 特朗普1946年6月14日生于美国纽约，2016年11月赢得当年大选时他已经70岁，成为美国历史上年纪最大的当选总统。 如今他\", \"score\": 0.8884594}]', name='tavily_search_results_json', id='f73fd77a-3168-40a5-934b-ba6b66625ada', tool_call_id='call_-8724718601521358222', artifact={'query': '特朗普的生日', 'follow_up_questions': None, 'answer': None, 'images': [], 'results': [{'url': 'http://news.sina.cn/j_uc.d.html?docid=ircuyvi8629712', 'title': '特朗普的74岁生日，网友祝奥巴马生日快乐-手机新浪网', 'content': '当地时间6月14日，美国总统特朗普迎来了他的74岁生日。 特朗普1946年6月14日生于美国纽约，2016年11月赢得当年大选时他已经70岁，成为美国历史上年纪最大的当选总统。 如今他', 'score': 0.8884594, 'raw_content': None}], 'response_time': 2.34}), AIMessage(content='特朗普的生日是1946年6月14日。', additional_kwargs={}, response_metadata={'token_usage': {'completion_tokens': 15, 'prompt_tokens': 551, 'total_tokens': 566}, 'model_name': 'GLM-4-Air', 'finish_reason': 'stop'}, id='run-526428af-f8d8-4587-98b2-e509229373e9-0'), HumanMessage(content='我问了哪个城市的天气', additional_kwargs={}, response_metadata={}, id='5c350607-e169-4a9e-8978-7e69eea69ce0'), AIMessage(content='您询问了大连的天气情况。', additional_kwargs={}, response_metadata={'token_usage': {'completion_tokens': 10, 'prompt_tokens': 573, 'total_tokens': 583}, 'model_name': 'GLM-4-Air', 'finish_reason': 'stop'}, id='run-566330fd-d744-45c6-a982-15d3ae133731-0')]}\n"
     ]
    }
   ],
   "source": [
    "final_state = app.invoke(\n",
    "    {\"messages\": [HumanMessage(content=\"我问了哪个城市的天气\")]},\n",
    "    config={\"configurable\": {\"thread_id\": 42}}\n",
    ")\n",
    "# 从 final_state 中获取最后一条消息的内容\n",
    "result = final_state[\"messages\"][-1].content\n",
    "print(result)\n",
    "print(final_state)"
   ]
  },
  {
   "cell_type": "code",
   "execution_count": 80,
   "id": "3ec5bca1-4c08-49e5-8adc-e0b831e0c4b8",
   "metadata": {},
   "outputs": [
    {
     "name": "stdout",
     "output_type": "stream",
     "text": [
      "当前时间是2025年5月14日，星期三，07时56分。\n",
      "{'messages': [HumanMessage(content='大连的天气怎么样?', additional_kwargs={}, response_metadata={}, id='1fbb5b01-0e56-4d65-b01e-4903e00e6aa2'), AIMessage(content='', additional_kwargs={'tool_calls': [{'function': {'arguments': '{\"city_name\": \"大连\"}', 'name': 'search'}, 'id': 'call_-8724726298104037640', 'index': 0, 'type': 'function'}]}, response_metadata={'token_usage': {'completion_tokens': 10, 'prompt_tokens': 378, 'total_tokens': 388}, 'model_name': 'GLM-4-Air', 'finish_reason': 'tool_calls'}, id='run-98d3fa36-8be7-4536-ac6c-66e361b2d3f9-0', tool_calls=[{'name': 'search', 'args': {'city_name': '大连'}, 'id': 'call_-8724726298104037640', 'type': 'tool_call'}]), ToolMessage(content='查询城市当前天气晴，气温15度。', name='search', id='bf7c60ab-9201-4f30-bbfc-d81c9d0982da', tool_call_id='call_-8724726298104037640'), AIMessage(content='当前大连的天气晴朗，气温为15摄氏度。如果您需要更详细的天气信息，比如风力、湿度等，请告诉我，我可以为您提供。', additional_kwargs={}, response_metadata={'token_usage': {'completion_tokens': 34, 'prompt_tokens': 392, 'total_tokens': 426}, 'model_name': 'GLM-4-Air', 'finish_reason': 'stop'}, id='run-e0d7b191-cfb6-411b-b03e-af85a80a5c74-0'), HumanMessage(content='查询特朗普的生日', additional_kwargs={}, response_metadata={}, id='eb151011-4df4-4b3f-bfec-0425692837f0'), AIMessage(content='', additional_kwargs={'tool_calls': [{'function': {'arguments': '{\"query\": \"特朗普的生日\"}', 'name': 'tavily_search_results_json'}, 'id': 'call_-8724718601521358222', 'index': 0, 'type': 'function'}]}, response_metadata={'token_usage': {'completion_tokens': 16, 'prompt_tokens': 432, 'total_tokens': 448}, 'model_name': 'GLM-4-Air', 'finish_reason': 'tool_calls'}, id='run-994665c8-84ba-44cf-91ef-31e6308b14e7-0', tool_calls=[{'name': 'tavily_search_results_json', 'args': {'query': '特朗普的生日'}, 'id': 'call_-8724718601521358222', 'type': 'tool_call'}]), ToolMessage(content='[{\"title\": \"特朗普的74岁生日，网友祝奥巴马生日快乐-手机新浪网\", \"url\": \"http://news.sina.cn/j_uc.d.html?docid=ircuyvi8629712\", \"content\": \"当地时间6月14日，美国总统特朗普迎来了他的74岁生日。 特朗普1946年6月14日生于美国纽约，2016年11月赢得当年大选时他已经70岁，成为美国历史上年纪最大的当选总统。 如今他\", \"score\": 0.8884594}]', name='tavily_search_results_json', id='f73fd77a-3168-40a5-934b-ba6b66625ada', tool_call_id='call_-8724718601521358222', artifact={'query': '特朗普的生日', 'follow_up_questions': None, 'answer': None, 'images': [], 'results': [{'url': 'http://news.sina.cn/j_uc.d.html?docid=ircuyvi8629712', 'title': '特朗普的74岁生日，网友祝奥巴马生日快乐-手机新浪网', 'content': '当地时间6月14日，美国总统特朗普迎来了他的74岁生日。 特朗普1946年6月14日生于美国纽约，2016年11月赢得当年大选时他已经70岁，成为美国历史上年纪最大的当选总统。 如今他', 'score': 0.8884594, 'raw_content': None}], 'response_time': 2.34}), AIMessage(content='特朗普的生日是1946年6月14日。', additional_kwargs={}, response_metadata={'token_usage': {'completion_tokens': 15, 'prompt_tokens': 551, 'total_tokens': 566}, 'model_name': 'GLM-4-Air', 'finish_reason': 'stop'}, id='run-526428af-f8d8-4587-98b2-e509229373e9-0'), HumanMessage(content='我问了哪个城市的天气', additional_kwargs={}, response_metadata={}, id='5c350607-e169-4a9e-8978-7e69eea69ce0'), AIMessage(content='您询问了大连的天气情况。', additional_kwargs={}, response_metadata={'token_usage': {'completion_tokens': 10, 'prompt_tokens': 573, 'total_tokens': 583}, 'model_name': 'GLM-4-Air', 'finish_reason': 'stop'}, id='run-566330fd-d744-45c6-a982-15d3ae133731-0'), HumanMessage(content='查询当前时间', additional_kwargs={}, response_metadata={}, id='b4b1fe24-1da1-4778-8608-d649a038fa43'), AIMessage(content='', additional_kwargs={'tool_calls': [{'function': {'arguments': '{\"query\": \"当前时间\"}', 'name': 'time'}, 'id': 'call_-8708163564176203142', 'index': 0, 'type': 'function'}]}, response_metadata={'token_usage': {'completion_tokens': 10, 'prompt_tokens': 588, 'total_tokens': 598}, 'model_name': 'GLM-4-Air', 'finish_reason': 'tool_calls'}, id='run-89397d3b-318b-4c15-9802-41d88dccb696-0', tool_calls=[{'name': 'time', 'args': {'query': '当前时间'}, 'id': 'call_-8708163564176203142', 'type': 'tool_call'}]), ToolMessage(content='2025年05月14日，星期3 07时56分', name='time', id='6e694776-90a2-4a29-b623-ef8ee2613110', tool_call_id='call_-8708163564176203142'), AIMessage(content='当前时间是2025年5月14日，星期三，07时56分。', additional_kwargs={}, response_metadata={'token_usage': {'completion_tokens': 20, 'prompt_tokens': 607, 'total_tokens': 627}, 'model_name': 'GLM-4-Air', 'finish_reason': 'stop'}, id='run-f824a1c7-bf69-4d1b-aeb1-11765b1a2dc6-0')]}\n"
     ]
    }
   ],
   "source": [
    "final_state = app.invoke(\n",
    "    {\"messages\": [HumanMessage(content=\"查询当前时间\")]},\n",
    "    config={\"configurable\": {\"thread_id\": 42}}\n",
    ")\n",
    "# 从 final_state 中获取最后一条消息的内容\n",
    "result = final_state[\"messages\"][-1].content\n",
    "print(result)\n",
    "print(final_state)"
   ]
  },
  {
   "cell_type": "code",
   "execution_count": null,
   "id": "8a7ef59e-4e23-453b-a35a-eec710c1f093",
   "metadata": {},
   "outputs": [],
   "source": []
  }
 ],
 "metadata": {
  "kernelspec": {
   "display_name": "Python 3 (ipykernel)",
   "language": "python",
   "name": "python3"
  },
  "language_info": {
   "codemirror_mode": {
    "name": "ipython",
    "version": 3
   },
   "file_extension": ".py",
   "mimetype": "text/x-python",
   "name": "python",
   "nbconvert_exporter": "python",
   "pygments_lexer": "ipython3",
   "version": "3.12.7"
  }
 },
 "nbformat": 4,
 "nbformat_minor": 5
}
