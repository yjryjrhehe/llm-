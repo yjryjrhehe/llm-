{
 "cells": [
  {
   "cell_type": "code",
   "execution_count": 1,
   "metadata": {
    "vscode": {
     "languageId": "plaintext"
    }
   },
   "outputs": [],
   "source": [
    "import operator\n",
    "from typing import Annotated, List, Tuple, TypedDict\n",
    "import os\n",
    "from dotenv import load_dotenv\n",
    "from typing import Literal\n",
    "from langchain_core.messages import HumanMessage, AIMessage\n",
    "from langchain_core.tools import tool\n",
    "from langchain_community.chat_models import ChatZhipuAI\n",
    "# pip install langgraph\n",
    "from langgraph.checkpoint.memory import MemorySaver\n",
    "from langgraph.graph import END, START, StateGraph, MessagesState\n",
    "from langgraph.prebuilt import ToolNode\n",
    "import requests\n",
    "import json"
   ]
  },
  {
   "cell_type": "code",
   "execution_count": 15,
   "metadata": {},
   "outputs": [
    {
     "name": "stdout",
     "output_type": "stream",
     "text": [
      "查询城市当前天气阴，气温19度。\n"
     ]
    }
   ],
   "source": [
    "import os\n",
    "from dotenv import load_dotenv\n",
    "from langchain_core.tools import tool\n",
    "\n",
    "# 加载 .env 文件中的环境变量\n",
    "load_dotenv(dotenv_path='D:/02File/05练习项目/04llm_learning/KEYs.env', override=True)\n",
    "\n",
    "\n",
    "weather_api_key = os.environ[\"WEATHER_API_KEY\"]\n",
    "\n",
    "def city_code_search(city_name: str) -> str:\n",
    "    \"\"\"\n",
    "    输入城市名称，返回城市代码。\n",
    "    \"\"\"\n",
    "    # 打开并读取JSON文件\n",
    "    with open('tools/city_code.json', 'r', encoding='utf-8') as file:\n",
    "        data = json.load(file)\n",
    "    # 访问数据\n",
    "    for province in data['list']:\n",
    "        for city in province['list']:\n",
    "            if city['name'] == city_name:\n",
    "                return city['city_id']\n",
    "    return None\n",
    "# 定义工具函数，用于代理调用外部工具\n",
    "@tool\n",
    "def search(city_name: str) -> str:\n",
    "    \"\"\"\n",
    "    输入城市名称，获取天气信息。\n",
    "    \"\"\"\n",
    "    city_code = city_code_search(city_name)\n",
    "    if city_code:\n",
    "        # API 地址\n",
    "        url = \"http://api.yytianqi.com/observe\"\n",
    "        # 可选的查询参数\n",
    "        params = {\n",
    "            \"city\": city_code,\n",
    "            \"key\": weather_api_key\n",
    "        }\n",
    "        # 发送 GET 请求\n",
    "        response = requests.get(url, params=params)\n",
    "        # 检查响应状态码\n",
    "        if response.status_code == 200:\n",
    "            # 解析返回的数据（假设是 JSON 格式）\n",
    "            data = response.json()\n",
    "            # print(f\"API Response Data: {data}\")\n",
    "            tq = data['data']['tq']\n",
    "            qw = data['data']['qw']\n",
    "            return f\"查询城市当前天气{tq}，气温{qw}度。\"\n",
    "        else:\n",
    "            print(f\"Error: {response.status_code}\")   \n",
    "    else:\n",
    "        return \"不支持查询该城市的天气\"\n",
    "    \n",
    "print(search.invoke(\"北京\"))"
   ]
  },
  {
   "cell_type": "code",
   "execution_count": 3,
   "metadata": {
    "vscode": {
     "languageId": "plaintext"
    }
   },
   "outputs": [],
   "source": [
    "# 加载 .env 文件中的环境变量\n",
    "load_dotenv(dotenv_path='D:/02File/05练习项目/04llm_learning/KEYs.env', override=True)\n",
    "# 获取 API 密钥\n",
    "llm_api_key = os.environ[\"ZHIPUAI_API_KEY\"] \n",
    "tavily_api_key = os.environ[\"TAVILY_API_KEY\"]\n",
    "\n",
    "llm = ChatZhipuAI(\n",
    "    model=\"GLM-4-Air\",\n",
    "    api_key=llm_api_key,\n",
    "    temperature=0\n",
    ")\n",
    "\n",
    "# 定义一个TypedDict类PlanExecute，用于存储输入、计划、过去的步骤和响应\n",
    "class PlanExecute(TypedDict):\n",
    "    input: str\n",
    "    plan: List[str]\n",
    "    past_steps: Annotated[List[Tuple], operator.add]\n",
    "    response: str"
   ]
  },
  {
   "cell_type": "code",
   "execution_count": 18,
   "metadata": {},
   "outputs": [],
   "source": [
    "# 定义工具函数，用于代理调用外部工具\n",
    "from langchain_community.tools.tavily_search import TavilySearchResults\n",
    "tavily_api_key = os.environ[\"TAVILY_API_KEY\"]\n",
    "# 创建TavilySearchResults工具，设置最大结果数为1\n",
    "tools = [TavilySearchResults(max_results=1, tavily_api_key=tavily_api_key), search]"
   ]
  },
  {
   "cell_type": "code",
   "execution_count": 19,
   "metadata": {},
   "outputs": [],
   "source": [
    "from langgraph.prebuilt import create_react_agent\n",
    "\n",
    "# 从LangChain的Hub中获取prompt模板，可以进行修改\n",
    "# prompt = hub.pull(\"wfh/react-agent-executor\")\n",
    "# prompt.pretty_print()\n",
    "\n",
    "# 创建一个REACT代理执行器，使用指定的LLM和工具，并应用从Hub中获取的prompt\n",
    "agent_executor = create_react_agent(llm, tools)"
   ]
  },
  {
   "cell_type": "code",
   "execution_count": 20,
   "metadata": {},
   "outputs": [
    {
     "data": {
      "text/plain": [
       "{'messages': [HumanMessage(content='查找2024年巴黎奥运会100米自由泳决赛冠军', additional_kwargs={}, response_metadata={}, id='ff20e105-eb7a-4026-8f9f-d7f92d345b4c'),\n",
       "  AIMessage(content='', additional_kwargs={'tool_calls': [{'function': {'arguments': '{\"query\": \"2024年巴黎奥运会100米自由泳决赛冠军\"}', 'name': 'tavily_search_results_json'}, 'id': 'call_-8724726985298640660', 'index': 0, 'type': 'function'}]}, response_metadata={'token_usage': {'completion_tokens': 24, 'prompt_tokens': 289, 'total_tokens': 313}, 'model_name': 'GLM-4-Air', 'finish_reason': 'tool_calls'}, id='run-aa7ce630-ed70-4394-947a-002d4212aa3d-0', tool_calls=[{'name': 'tavily_search_results_json', 'args': {'query': '2024年巴黎奥运会100米自由泳决赛冠军'}, 'id': 'call_-8724726985298640660', 'type': 'tool_call'}]),\n",
       "  ToolMessage(content='[{\"title\": \"男子100米决赛| 游泳| 2024年巴黎奥运会 - Olympics.com\", \"url\": \"https://www.olympics.com/zh/video/men-s-100m-freestyle-final-swimming-olympic-games-paris-2024\", \"content\": \"巴黎奥运会游泳男子100米自由泳决赛于2024年7月31日在巴黎拉德芳斯体育馆举行。潘展乐（中国）以46.40秒的新世界纪录成绩夺得金牌。\", \"score\": 0.94301796}]', name='tavily_search_results_json', id='1beade2b-8ba7-4bf4-9f88-6a0da0d96f0e', tool_call_id='call_-8724726985298640660', artifact={'query': '2024年巴黎奥运会100米自由泳决赛冠军', 'follow_up_questions': None, 'answer': None, 'images': [], 'results': [{'url': 'https://www.olympics.com/zh/video/men-s-100m-freestyle-final-swimming-olympic-games-paris-2024', 'title': '男子100米决赛| 游泳| 2024年巴黎奥运会 - Olympics.com', 'content': '巴黎奥运会游泳男子100米自由泳决赛于2024年7月31日在巴黎拉德芳斯体育馆举行。潘展乐（中国）以46.40秒的新世界纪录成绩夺得金牌。', 'score': 0.94301796, 'raw_content': None}], 'response_time': 1.42}),\n",
       "  AIMessage(content='2024年巴黎奥运会男子100米自由泳决赛的冠军是中国选手潘展乐，他以46.40秒的新世界纪录成绩夺得了金牌。', additional_kwargs={}, response_metadata={'token_usage': {'completion_tokens': 34, 'prompt_tokens': 415, 'total_tokens': 449}, 'model_name': 'GLM-4-Air', 'finish_reason': 'stop'}, id='run-71289d8d-06c8-4d2d-bf69-dc141145fbee-0')]}"
      ]
     },
     "execution_count": 20,
     "metadata": {},
     "output_type": "execute_result"
    }
   ],
   "source": [
    "agent_executor.invoke({\"messages\": [(\"user\", \"查找2024年巴黎奥运会100米自由泳决赛冠军\")]})"
   ]
  },
  {
   "cell_type": "code",
   "execution_count": 40,
   "metadata": {
    "scrolled": true
   },
   "outputs": [
    {
     "data": {
      "text/plain": [
       "{'messages': [HumanMessage(content='今天大连市天气怎么样', additional_kwargs={}, response_metadata={}, id='2c9250dc-88b5-4963-badc-3f64d7dd8380'),\n",
       "  AIMessage(content='', additional_kwargs={'tool_calls': [{'function': {'arguments': '{\"city_name\": \"大连\"}', 'name': 'search'}, 'id': 'call_-8724726779140144497', 'index': 0, 'type': 'function'}]}, response_metadata={'token_usage': {'completion_tokens': 10, 'prompt_tokens': 282, 'total_tokens': 292}, 'model_name': 'GLM-4-Air', 'finish_reason': 'tool_calls'}, id='run-5b78b31d-3005-4bee-9a47-d0f16688b602-0', tool_calls=[{'name': 'search', 'args': {'city_name': '大连'}, 'id': 'call_-8724726779140144497', 'type': 'tool_call'}]),\n",
       "  ToolMessage(content='Error: TypeError(\"\\'NoneType\\' object is not subscriptable\")\\n Please fix your mistakes.', name='search', id='c000a65e-d906-4c39-a2f0-50fba198218c', tool_call_id='call_-8724726779140144497', status='error'),\n",
       "  AIMessage(content='', additional_kwargs={'tool_calls': [{'function': {'arguments': '{\"city_name\": \"大连\"}', 'name': 'search'}, 'id': 'call_-8724728497127455421', 'index': 0, 'type': 'function'}]}, response_metadata={'token_usage': {'completion_tokens': 10, 'prompt_tokens': 304, 'total_tokens': 314}, 'model_name': 'GLM-4-Air', 'finish_reason': 'tool_calls'}, id='run-63732491-f693-475e-8e27-a23153e4545e-0', tool_calls=[{'name': 'search', 'args': {'city_name': '大连'}, 'id': 'call_-8724728497127455421', 'type': 'tool_call'}]),\n",
       "  ToolMessage(content=\"Error: KeyError('data')\\n Please fix your mistakes.\", name='search', id='50c3950a-7157-47d7-b48f-471c60c6ef03', tool_call_id='call_-8724728497127455421', status='error'),\n",
       "  AIMessage(content='', additional_kwargs={'tool_calls': [{'function': {'arguments': '{\"city_name\": \"大连\"}', 'name': 'search'}, 'id': 'call_-8724729390480858225', 'index': 0, 'type': 'function'}]}, response_metadata={'token_usage': {'completion_tokens': 10, 'prompt_tokens': 319, 'total_tokens': 329}, 'model_name': 'GLM-4-Air', 'finish_reason': 'tool_calls'}, id='run-7d339a81-6660-43e0-a8ec-581b5eb21b9e-0', tool_calls=[{'name': 'search', 'args': {'city_name': '大连'}, 'id': 'call_-8724729390480858225', 'type': 'tool_call'}]),\n",
       "  ToolMessage(content=\"Error: KeyError('data')\\n Please fix your mistakes.\", name='search', id='969da06d-f202-4c7e-aad9-5d1244739a29', tool_call_id='call_-8724729390480858225', status='error'),\n",
       "  AIMessage(content='', additional_kwargs={'tool_calls': [{'function': {'arguments': '{\"city_name\": \"大连\"}', 'name': 'search'}, 'id': 'call_-8724734613162073175', 'index': 0, 'type': 'function'}]}, response_metadata={'token_usage': {'completion_tokens': 10, 'prompt_tokens': 334, 'total_tokens': 344}, 'model_name': 'GLM-4-Air', 'finish_reason': 'tool_calls'}, id='run-b03af156-2e82-4751-a649-4e54e49fba5a-0', tool_calls=[{'name': 'search', 'args': {'city_name': '大连'}, 'id': 'call_-8724734613162073175', 'type': 'tool_call'}]),\n",
       "  ToolMessage(content=\"Error: KeyError('data')\\n Please fix your mistakes.\", name='search', id='22450cfc-b7fd-4897-a17a-a0bd933f5068', tool_call_id='call_-8724734613162073175', status='error'),\n",
       "  AIMessage(content='', additional_kwargs={'tool_calls': [{'function': {'arguments': '{\"city_name\": \"大连\"}', 'name': 'search'}, 'id': 'call_-8724726985298640385', 'index': 0, 'type': 'function'}]}, response_metadata={'token_usage': {'completion_tokens': 10, 'prompt_tokens': 349, 'total_tokens': 359}, 'model_name': 'GLM-4-Air', 'finish_reason': 'tool_calls'}, id='run-6e1307df-3cb0-4377-84fa-dcc7e1709871-0', tool_calls=[{'name': 'search', 'args': {'city_name': '大连'}, 'id': 'call_-8724726985298640385', 'type': 'tool_call'}]),\n",
       "  ToolMessage(content=\"Error: KeyError('data')\\n Please fix your mistakes.\", name='search', id='9c46b135-3ecf-4588-821b-ee0788cba4ee', tool_call_id='call_-8724726985298640385', status='error'),\n",
       "  AIMessage(content='很抱歉，目前我无法获取大连市今天的天气信息，因为在尝试获取数据时遇到了一些技术问题。如果您需要查询大连市的天气，我建议您使用其他天气服务，如天气预报网站、手机应用程序或搜索引擎。对于给您带来的不便，我深表歉意。', additional_kwargs={}, response_metadata={'token_usage': {'completion_tokens': 59, 'prompt_tokens': 364, 'total_tokens': 423}, 'model_name': 'GLM-4-Air', 'finish_reason': 'stop'}, id='run-6c31b4b6-2b2d-45db-a7f3-971c3f133529-0')]}"
      ]
     },
     "execution_count": 40,
     "metadata": {},
     "output_type": "execute_result"
    }
   ],
   "source": [
    "agent_executor.invoke({\"messages\": [(\"user\", \"今天大连市天气怎么样\")]})"
   ]
  },
  {
   "cell_type": "code",
   "execution_count": 42,
   "metadata": {},
   "outputs": [
    {
     "ename": "KeyError",
     "evalue": "'data'",
     "output_type": "error",
     "traceback": [
      "\u001b[31m---------------------------------------------------------------------------\u001b[39m",
      "\u001b[31mKeyError\u001b[39m                                  Traceback (most recent call last)",
      "\u001b[36mCell\u001b[39m\u001b[36m \u001b[39m\u001b[32mIn[42]\u001b[39m\u001b[32m, line 1\u001b[39m\n\u001b[32m----> \u001b[39m\u001b[32m1\u001b[39m \u001b[43msearch\u001b[49m\u001b[43m(\u001b[49m\u001b[33;43m\"\u001b[39;49m\u001b[33;43m大连\u001b[39;49m\u001b[33;43m\"\u001b[39;49m\u001b[43m)\u001b[49m\n",
      "\u001b[36mFile \u001b[39m\u001b[32mD:\\02File\\05练习项目\\04llm_learning\\myenv\\Lib\\site-packages\\langchain_core\\_api\\deprecation.py:191\u001b[39m, in \u001b[36mdeprecated.<locals>.deprecate.<locals>.warning_emitting_wrapper\u001b[39m\u001b[34m(*args, **kwargs)\u001b[39m\n\u001b[32m    189\u001b[39m     warned = \u001b[38;5;28;01mTrue\u001b[39;00m\n\u001b[32m    190\u001b[39m     emit_warning()\n\u001b[32m--> \u001b[39m\u001b[32m191\u001b[39m \u001b[38;5;28;01mreturn\u001b[39;00m \u001b[43mwrapped\u001b[49m\u001b[43m(\u001b[49m\u001b[43m*\u001b[49m\u001b[43margs\u001b[49m\u001b[43m,\u001b[49m\u001b[43m \u001b[49m\u001b[43m*\u001b[49m\u001b[43m*\u001b[49m\u001b[43mkwargs\u001b[49m\u001b[43m)\u001b[49m\n",
      "\u001b[36mFile \u001b[39m\u001b[32mD:\\02File\\05练习项目\\04llm_learning\\myenv\\Lib\\site-packages\\langchain_core\\tools\\base.py:896\u001b[39m, in \u001b[36mBaseTool.__call__\u001b[39m\u001b[34m(self, tool_input, callbacks)\u001b[39m\n\u001b[32m    893\u001b[39m \u001b[38;5;129m@deprecated\u001b[39m(\u001b[33m\"\u001b[39m\u001b[33m0.1.47\u001b[39m\u001b[33m\"\u001b[39m, alternative=\u001b[33m\"\u001b[39m\u001b[33minvoke\u001b[39m\u001b[33m\"\u001b[39m, removal=\u001b[33m\"\u001b[39m\u001b[33m1.0\u001b[39m\u001b[33m\"\u001b[39m)\n\u001b[32m    894\u001b[39m \u001b[38;5;28;01mdef\u001b[39;00m\u001b[38;5;250m \u001b[39m\u001b[34m__call__\u001b[39m(\u001b[38;5;28mself\u001b[39m, tool_input: \u001b[38;5;28mstr\u001b[39m, callbacks: Callbacks = \u001b[38;5;28;01mNone\u001b[39;00m) -> \u001b[38;5;28mstr\u001b[39m:\n\u001b[32m    895\u001b[39m \u001b[38;5;250m    \u001b[39m\u001b[33;03m\"\"\"Make tool callable.\"\"\"\u001b[39;00m\n\u001b[32m--> \u001b[39m\u001b[32m896\u001b[39m     \u001b[38;5;28;01mreturn\u001b[39;00m \u001b[38;5;28;43mself\u001b[39;49m\u001b[43m.\u001b[49m\u001b[43mrun\u001b[49m\u001b[43m(\u001b[49m\u001b[43mtool_input\u001b[49m\u001b[43m,\u001b[49m\u001b[43m \u001b[49m\u001b[43mcallbacks\u001b[49m\u001b[43m=\u001b[49m\u001b[43mcallbacks\u001b[49m\u001b[43m)\u001b[49m\n",
      "\u001b[36mFile \u001b[39m\u001b[32mD:\\02File\\05练习项目\\04llm_learning\\myenv\\Lib\\site-packages\\langchain_core\\tools\\base.py:774\u001b[39m, in \u001b[36mBaseTool.run\u001b[39m\u001b[34m(self, tool_input, verbose, start_color, color, callbacks, tags, metadata, run_name, run_id, config, tool_call_id, **kwargs)\u001b[39m\n\u001b[32m    772\u001b[39m \u001b[38;5;28;01mif\u001b[39;00m error_to_raise:\n\u001b[32m    773\u001b[39m     run_manager.on_tool_error(error_to_raise)\n\u001b[32m--> \u001b[39m\u001b[32m774\u001b[39m     \u001b[38;5;28;01mraise\u001b[39;00m error_to_raise\n\u001b[32m    775\u001b[39m output = _format_output(content, artifact, tool_call_id, \u001b[38;5;28mself\u001b[39m.name, status)\n\u001b[32m    776\u001b[39m run_manager.on_tool_end(output, color=color, name=\u001b[38;5;28mself\u001b[39m.name, **kwargs)\n",
      "\u001b[36mFile \u001b[39m\u001b[32mD:\\02File\\05练习项目\\04llm_learning\\myenv\\Lib\\site-packages\\langchain_core\\tools\\base.py:743\u001b[39m, in \u001b[36mBaseTool.run\u001b[39m\u001b[34m(self, tool_input, verbose, start_color, color, callbacks, tags, metadata, run_name, run_id, config, tool_call_id, **kwargs)\u001b[39m\n\u001b[32m    741\u001b[39m     \u001b[38;5;28;01mif\u001b[39;00m config_param := _get_runnable_config_param(\u001b[38;5;28mself\u001b[39m._run):\n\u001b[32m    742\u001b[39m         tool_kwargs = tool_kwargs | {config_param: config}\n\u001b[32m--> \u001b[39m\u001b[32m743\u001b[39m     response = \u001b[43mcontext\u001b[49m\u001b[43m.\u001b[49m\u001b[43mrun\u001b[49m\u001b[43m(\u001b[49m\u001b[38;5;28;43mself\u001b[39;49m\u001b[43m.\u001b[49m\u001b[43m_run\u001b[49m\u001b[43m,\u001b[49m\u001b[43m \u001b[49m\u001b[43m*\u001b[49m\u001b[43mtool_args\u001b[49m\u001b[43m,\u001b[49m\u001b[43m \u001b[49m\u001b[43m*\u001b[49m\u001b[43m*\u001b[49m\u001b[43mtool_kwargs\u001b[49m\u001b[43m)\u001b[49m\n\u001b[32m    744\u001b[39m \u001b[38;5;28;01mif\u001b[39;00m \u001b[38;5;28mself\u001b[39m.response_format == \u001b[33m\"\u001b[39m\u001b[33mcontent_and_artifact\u001b[39m\u001b[33m\"\u001b[39m:\n\u001b[32m    745\u001b[39m     \u001b[38;5;28;01mif\u001b[39;00m \u001b[38;5;129;01mnot\u001b[39;00m \u001b[38;5;28misinstance\u001b[39m(response, \u001b[38;5;28mtuple\u001b[39m) \u001b[38;5;129;01mor\u001b[39;00m \u001b[38;5;28mlen\u001b[39m(response) != \u001b[32m2\u001b[39m:\n",
      "\u001b[36mFile \u001b[39m\u001b[32mD:\\02File\\05练习项目\\04llm_learning\\myenv\\Lib\\site-packages\\langchain_core\\tools\\structured.py:93\u001b[39m, in \u001b[36mStructuredTool._run\u001b[39m\u001b[34m(self, config, run_manager, *args, **kwargs)\u001b[39m\n\u001b[32m     91\u001b[39m     \u001b[38;5;28;01mif\u001b[39;00m config_param := _get_runnable_config_param(\u001b[38;5;28mself\u001b[39m.func):\n\u001b[32m     92\u001b[39m         kwargs[config_param] = config\n\u001b[32m---> \u001b[39m\u001b[32m93\u001b[39m     \u001b[38;5;28;01mreturn\u001b[39;00m \u001b[38;5;28;43mself\u001b[39;49m\u001b[43m.\u001b[49m\u001b[43mfunc\u001b[49m\u001b[43m(\u001b[49m\u001b[43m*\u001b[49m\u001b[43margs\u001b[49m\u001b[43m,\u001b[49m\u001b[43m \u001b[49m\u001b[43m*\u001b[49m\u001b[43m*\u001b[49m\u001b[43mkwargs\u001b[49m\u001b[43m)\u001b[49m\n\u001b[32m     94\u001b[39m msg = \u001b[33m\"\u001b[39m\u001b[33mStructuredTool does not support sync invocation.\u001b[39m\u001b[33m\"\u001b[39m\n\u001b[32m     95\u001b[39m \u001b[38;5;28;01mraise\u001b[39;00m \u001b[38;5;167;01mNotImplementedError\u001b[39;00m(msg)\n",
      "\u001b[36mCell\u001b[39m\u001b[36m \u001b[39m\u001b[32mIn[15]\u001b[39m\u001b[32m, line 46\u001b[39m, in \u001b[36msearch\u001b[39m\u001b[34m(city_name)\u001b[39m\n\u001b[32m     44\u001b[39m data = response.json()\n\u001b[32m     45\u001b[39m \u001b[38;5;66;03m# print(f\"API Response Data: {data}\")\u001b[39;00m\n\u001b[32m---> \u001b[39m\u001b[32m46\u001b[39m tq = \u001b[43mdata\u001b[49m\u001b[43m[\u001b[49m\u001b[33;43m'\u001b[39;49m\u001b[33;43mdata\u001b[39;49m\u001b[33;43m'\u001b[39;49m\u001b[43m]\u001b[49m[\u001b[33m'\u001b[39m\u001b[33mtq\u001b[39m\u001b[33m'\u001b[39m]\n\u001b[32m     47\u001b[39m qw = data[\u001b[33m'\u001b[39m\u001b[33mdata\u001b[39m\u001b[33m'\u001b[39m][\u001b[33m'\u001b[39m\u001b[33mqw\u001b[39m\u001b[33m'\u001b[39m]\n\u001b[32m     48\u001b[39m \u001b[38;5;28;01mreturn\u001b[39;00m \u001b[33mf\u001b[39m\u001b[33m\"\u001b[39m\u001b[33m查询城市当前天气\u001b[39m\u001b[38;5;132;01m{\u001b[39;00mtq\u001b[38;5;132;01m}\u001b[39;00m\u001b[33m，气温\u001b[39m\u001b[38;5;132;01m{\u001b[39;00mqw\u001b[38;5;132;01m}\u001b[39;00m\u001b[33m度。\u001b[39m\u001b[33m\"\u001b[39m\n",
      "\u001b[31mKeyError\u001b[39m: 'data'"
     ]
    }
   ],
   "source": [
    "search(\"大连\")"
   ]
  },
  {
   "cell_type": "code",
   "execution_count": 22,
   "metadata": {},
   "outputs": [],
   "source": [
    "import re\n",
    "def extract_all_matches_or_return_full_text(text):\n",
    "    # pattern = r\"'''json\\s*([\\s\\S]*?)\\s*'''\"\n",
    "    # matches = re.findall(pattern, text)\n",
    "    # 使用正则表达式匹配大括号及其内容\n",
    "    pattern = re.compile(r'(\\{.*?\\})', re.S) # `re.S` 让 `.` 匹配包括换行符在内的所有字符\n",
    "    \n",
    "    # 查找所有匹配项\n",
    "    matches = pattern.findall(text)\n",
    "    \n",
    "    if matches:\n",
    "        # 如果有匹配项，返回所有匹配结果组成的字符串\n",
    "        return \"\\n\".join(match.strip() for match in matches)\n",
    "    else:\n",
    "        # 如果没有匹配项，返回整个文本\n",
    "        return text"
   ]
  },
  {
   "cell_type": "code",
   "execution_count": 23,
   "metadata": {},
   "outputs": [],
   "source": [
    "def parse_plan(res: AIMessage) -> List[str]:\n",
    "    \"\"\"\n",
    "    解析计划字符串，将其转换为列表。\n",
    "    \"\"\"\n",
    "    # print(res)\n",
    "    plan =  extract_all_matches_or_return_full_text(res.content)\n",
    "    # 使用json.loads将字符串转换为Python列表\n",
    "    try:\n",
    "        return json.loads(plan)\n",
    "    except json.JSONDecodeError:\n",
    "        # 如果解析失败，返回一个空列表\n",
    "        return []"
   ]
  },
  {
   "cell_type": "code",
   "execution_count": 24,
   "metadata": {},
   "outputs": [],
   "source": [
    "from langchain_core.prompts import ChatPromptTemplate\n",
    "\n",
    "# 创建一个计划生成的提示模板\n",
    "planner_prompt = ChatPromptTemplate.from_template(\"\"\"\n",
    "    你是一位高效的助手，擅长将复杂的任务分解为一系列简单、具体的步骤，以确保任务可以被准确无误地完成。\n",
    "\n",
    "    规则：\n",
    "    - 你的回答应该直接针对上述目标，提出一个简明的逐步计划。\n",
    "    - 每个步骤都应该是独立且必需的，如果按顺序正确执行这些步骤，将会得到正确的最终答案。\n",
    "    - 最后一个步骤应当能够直接获得最终的答案。\n",
    "    - 输出结果的前后不要出现\"json\"或单引号等无关字符串。\n",
    "    - 输出结果要严格按照<plan_format>的格式。\n",
    "\n",
    "    plan_format：\n",
    "    {{\n",
    "        \"plan\":[\n",
    "            \"第一步说明\",\n",
    "            \"第二步说明\" \n",
    "        ]\n",
    "    }}\n",
    "\n",
    "    根据以上要求，以下是基于示例目标的生成逐步计划：\n",
    "    \n",
    "    示例1：\n",
    "    “计算3+2*4的结果。”\n",
    "\n",
    "    结果：\n",
    "    {{\n",
    "    \"plan\":[\n",
    "    \"计算2*4的结果，等于8\",\n",
    "    \"计算3+8的结果等于11，为最终答案\"\n",
    "    ]\n",
    "    }}\n",
    "\n",
    "    示例2：\n",
    "    “2024年巴黎奥运会男子乒乓球单打冠军的家乡是哪里?”\n",
    "\n",
    "    结果：\n",
    "    {{\n",
    "    \"plan\":[\n",
    "    \"查找2024年巴黎奥运会男子乒乓球单打冠军\",\n",
    "    \"查找该冠军的家乡\"\n",
    "    ]\n",
    "    }}\n",
    "\n",
    "    现在，请根据上述格式和要求，为以下目标制定一个逐步计划：\n",
    "    {messages}\n",
    "    \"\"\")"
   ]
  },
  {
   "cell_type": "code",
   "execution_count": 25,
   "metadata": {},
   "outputs": [],
   "source": [
    "planner = planner_prompt | llm | parse_plan"
   ]
  },
  {
   "cell_type": "code",
   "execution_count": 134,
   "metadata": {},
   "outputs": [
    {
     "data": {
      "text/plain": [
       "{'plan': ['查找2024年巴黎奥运会100米自由泳决赛冠军', '查找该冠军的家乡']}"
      ]
     },
     "execution_count": 134,
     "metadata": {},
     "output_type": "execute_result"
    }
   ],
   "source": [
    "planner.invoke({\"messages\":\"2024年巴黎奥运会100米自由泳决赛冠军的家乡是哪里?请用中文答复\"})"
   ]
  },
  {
   "cell_type": "code",
   "execution_count": 55,
   "metadata": {},
   "outputs": [
    {
     "data": {
      "text/plain": [
       "AIMessage(content='{\\n\"plan\":[\\n\"确定2024年巴黎奥运会100米自由泳决赛的冠军\",\\n\"查找该冠军的个人信息\",\\n\"在个人信息公开信息中找到其家乡\"\\n]\\n}', additional_kwargs={}, response_metadata={'token_usage': {'completion_tokens': 41, 'prompt_tokens': 338, 'total_tokens': 379}, 'model_name': 'GLM-4-Air', 'finish_reason': 'stop'}, id='run-4d5ca9a5-8234-4f12-b763-ff667a183988-0')"
      ]
     },
     "execution_count": 55,
     "metadata": {},
     "output_type": "execute_result"
    }
   ],
   "source": [
    "res"
   ]
  },
  {
   "cell_type": "code",
   "execution_count": 26,
   "metadata": {},
   "outputs": [],
   "source": [
    "from langchain.prompts import ChatPromptTemplate\n",
    "\n",
    "json_prompt_template = \"\"\"任务：你是一个擅长任务拆解和计划更新的助手。你的任务是根据给定的目标、原始计划和已完成的步骤，动态更新当前的执行计划。\n",
    "                \n",
    "                规则： \n",
    "                - 每个步骤必须独立且完整，确保可以被正确执行;\n",
    "                - 不要添加任何多余或重复的步骤;\n",
    "                - 最后一步应直接产出最终答案;\n",
    "                - 如果还需要继续执行，按照<plan_format>格式返回结果;\n",
    "                - 如果所有步骤已完成，按照<response_format>格式返回结果;\n",
    "                - 从<plan_format>和<response_format>中必须且只能选择一种格式返回结果;\n",
    "                - 输出结果必须为JSON格式;\n",
    "                - 结果中不要出现\"json\"等无关字符串。\n",
    "                \n",
    "                目标：{input}\n",
    "                \n",
    "                原始计划：{plan}\n",
    "                \n",
    "                已完成的步骤：{past_steps}\n",
    "               \n",
    "                plan_format：\n",
    "                {{\n",
    "                    \"plan\":[\n",
    "                        \"第一步说明\",\n",
    "                        \"第二步说明\" \n",
    "                    ]\n",
    "                }}\n",
    "                \n",
    "                response_format：\n",
    "                {{\n",
    "                    \"response\":\"最终答案\"\n",
    "                }}\n",
    "                \n",
    "                根据以上要求，以下是基于示例目标、原始计划和已完成步骤更新的计划：\n",
    "                    \n",
    "                示例1：\n",
    "                目标：“2024年巴黎奥运会100米自由泳决赛冠军的家乡是哪里?”\n",
    "                原始计划：“['查找2024年巴黎奥运会100米自由泳决赛冠军的名字', '查找该冠军的家乡']”\n",
    "                已完成步骤：“[('查找2024年巴黎奥运会100米自由泳决赛冠军的名字', '2024年巴黎奥运会男子100米自由泳决赛的冠军是中国选手潘展乐（Zhanle Pan）。')]”\n",
    "            \n",
    "                结果：\n",
    "                {{\n",
    "                \"plan\":[\n",
    "                \"查找潘展乐的家乡\"\n",
    "                ]\n",
    "                }}\n",
    "\n",
    "                示例2：\n",
    "                目标：“2024年巴黎奥运会100米自由泳决赛冠军的家乡是哪里?”\n",
    "                原始计划：“['查找潘展乐的家乡']”\n",
    "                已完成步骤：“[('查找2024年巴黎奥运会100米自由泳决赛冠军的名字', '2024年巴黎奥运会男子100米自由泳决赛的冠军是中国选手潘展乐（Zhanle Pan）。'), ('查找潘展乐的家乡', '潘展乐的家乡是浙江温州。')]”\n",
    "            \n",
    "                结果：\n",
    "                {{\n",
    "                \"response\":[\n",
    "                \"2024年巴黎奥运会100米自由泳决赛冠军潘展乐的家乡是浙江温州。\"\n",
    "                ]\n",
    "                }}\n",
    "                \n",
    "                \"\"\"\n",
    "\n",
    "# 使用ChatPromptTemplate.from_template()方法创建模板对象\n",
    "prompt = ChatPromptTemplate.from_template(json_prompt_template)\n",
    "\n",
    "replanner = prompt | llm | parse_plan"
   ]
  },
  {
   "cell_type": "code",
   "execution_count": 27,
   "metadata": {},
   "outputs": [],
   "source": [
    "# p = PlanExecute(\n",
    "#     input = '2024年巴黎奥运会100米自由泳决赛冠军的家乡是哪里',\n",
    "#     plan = ['查找2024年巴黎奥运会100米自由泳决赛冠军的名字', '查找该冠军的家乡'],\n",
    "#     past_steps = [('查找2024年巴黎奥运会100米自由泳决赛冠军的名字', '2024年巴黎奥运会男子100米自由泳决赛的冠军是中国选手潘展乐（Zhanle Pan）。')]\n",
    "# )\n",
    "p = PlanExecute(\n",
    "    input = '查找2024年巴黎奥运会100米自由泳决赛冠军的家乡。',\n",
    "    plan = ['根据已完成的步骤，2024年巴黎奥运会男子100米自由泳决赛的冠军是中国选手潘展乐。下一步是查找该冠军的家乡。'],\n",
    "    # past_steps = [('查找2024年巴黎奥运会100米自由泳决赛冠军的名字', '2024年巴黎奥运会男子100米自由泳决赛的冠军是中国选手潘展乐（Zhanle Pan）。'), ('查找潘展乐的家乡', '潘展乐的家乡是浙江温州。')]\n",
    "    past_steps = [('查找2024年巴黎奥运会100米自由泳决赛冠军', '2024年巴黎奥运会男子100米自由泳决赛的冠军是中国选手潘展乐，他以46.40秒的新世界纪录成绩夺得了金牌。'), ('根据已完成的步骤，2024年巴黎奥运会男子100米自由泳决赛的冠军是中国选手潘展乐。下一步是查找该冠军的家乡。', '2024年巴黎奥运会男子100米自由泳决赛的冠军潘展乐的家乡是中国浙江省温州市。温州是一个集江、海、湖、岛、瀑、湿地之大成的地方，被誉为“全国游泳之乡”，也是乐水者的天堂。')]\n",
    ")\n",
    "res = replanner.invoke(p)"
   ]
  },
  {
   "cell_type": "code",
   "execution_count": 28,
   "metadata": {},
   "outputs": [
    {
     "data": {
      "text/plain": [
       "{'response': '2024年巴黎奥运会男子100米自由泳决赛的冠军潘展乐的家乡是中国浙江省温州市。'}"
      ]
     },
     "execution_count": 28,
     "metadata": {},
     "output_type": "execute_result"
    }
   ],
   "source": [
    "res"
   ]
  },
  {
   "cell_type": "code",
   "execution_count": 29,
   "metadata": {},
   "outputs": [],
   "source": [
    "from typing import Literal\n",
    "\n",
    "\n",
    "# 定义一个异步主函数\n",
    "\n",
    "# 定义一个异步函数，用于执行步骤\n",
    "def execute_step(state: PlanExecute):\n",
    "    plan = state[\"plan\"]\n",
    "    # plan_str = \"\\n\".join(f\"{i + 1}. {step}\" for i, step in enumerate(plan))\n",
    "    task = plan[0]\n",
    "    # task_formatted = f\"\"\"\n",
    "    # 对于以下计划：\n",
    "    # {plan_str}\n",
    "    # 你的任务是执行第{1}步，\n",
    "    # {task}。\n",
    "    # \"\"\"\n",
    "    agent_response = agent_executor.invoke({\"messages\": task})\n",
    "    # print(f\"智能体查询结果（看有没有function call）agent_res: {agent_response}\")\n",
    "    return {\n",
    "        \"past_steps\": state[\"past_steps\"] + [(task, agent_response[\"messages\"][-1].content)],\n",
    "    }\n",
    "\n",
    "# 定义一个异步函数，用于生成计划步骤\n",
    "def plan_step(state: PlanExecute):\n",
    "    plan = planner.invoke({\"messages\": state[\"input\"]})\n",
    "    print(plan)\n",
    "    return plan\n",
    "\n",
    "# 定义一个异步函数，用于重新计划步骤\n",
    "def replan_step(state: PlanExecute):\n",
    "    output = replanner.invoke(state)\n",
    "    return output\n",
    "\n",
    "# 定义一个函数，用于判断是否结束\n",
    "# 改一下这里**********\n",
    "def should_end(state: PlanExecute) -> Literal[\"agent\", \"__end__\"]:\n",
    "    if (\"response\" in state and state[\"response\"]) or state[\"plan\"] is None:\n",
    "        return \"__end__\"\n",
    "    else:\n",
    "        return \"agent\""
   ]
  },
  {
   "cell_type": "code",
   "execution_count": 30,
   "metadata": {},
   "outputs": [],
   "source": [
    "from langgraph.graph import StateGraph, START\n",
    "\n",
    "# 创建一个状态图，初始化PlanExecute\n",
    "workflow = StateGraph(PlanExecute)\n",
    "\n",
    "# 添加计划节点\n",
    "workflow.add_node(\"planner\", plan_step)\n",
    "\n",
    "# 添加执行步骤节点\n",
    "workflow.add_node(\"agent\", execute_step)\n",
    "\n",
    "# 添加重新计划节点\n",
    "workflow.add_node(\"replan\", replan_step)\n",
    "\n",
    "# 设置从开始到计划节点的边\n",
    "workflow.add_edge(START, \"planner\")\n",
    "\n",
    "# 设置从计划到代理节点的边\n",
    "workflow.add_edge(\"planner\", \"agent\")\n",
    "\n",
    "# 设置从代理到重新计划节点的边\n",
    "workflow.add_edge(\"agent\", \"replan\")\n",
    "\n",
    "# 添加条件边，用于判断下一步操作\n",
    "workflow.add_conditional_edges(\n",
    "    \"replan\",\n",
    "    # 传入判断函数，确定下一个节点\n",
    "    should_end,\n",
    ")\n",
    "\n",
    "# 编译状态图，生成LangChain可运行对象\n",
    "app = workflow.compile()"
   ]
  },
  {
   "attachments": {
    "089bc8ed-e788-4454-a7f2-010c0416193b.png": {
     "image/png": "[encoded data removed]"
    }
   },
   "cell_type": "markdown",
   "metadata": {},
   "source": [
    "![image.png](attachment:089bc8ed-e788-4454-a7f2-010c0416193b.png)"
   ]
  },
  {
   "cell_type": "code",
   "execution_count": 31,
   "metadata": {},
   "outputs": [
    {
     "name": "stdout",
     "output_type": "stream",
     "text": [
      "{'plan': ['查找2024年巴黎奥运会100米自由泳决赛冠军', '查找该冠军的家乡']}\n",
      "{'plan': ['查找2024年巴黎奥运会100米自由泳决赛冠军', '查找该冠军的家乡']}\n",
      "{'past_steps': [('查找2024年巴黎奥运会100米自由泳决赛冠军', '2024年巴黎奥运会男子100米自由泳决赛的冠军是中国选手潘展乐，他以46.40秒的新世界纪录成绩夺得了金牌。')]}\n",
      "{'plan': ['查找潘展乐的家乡']}\n",
      "{'past_steps': [('查找2024年巴黎奥运会100米自由泳决赛冠军', '2024年巴黎奥运会男子100米自由泳决赛的冠军是中国选手潘展乐，他以46.40秒的新世界纪录成绩夺得了金牌。'), ('查找潘展乐的家乡', '潘展乐的家乡是中国浙江省的温州市。温州是一个集江、海、湖、岛、瀑、湿地之大成的地方，被誉为“全国游泳之乡”，也是乐水者的天堂。')]}\n",
      "{'response': '2024年巴黎奥运会100米自由泳决赛冠军的家乡是中国浙江省的温州市。'}\n"
     ]
    }
   ],
   "source": [
    "# 设置配置，递归限制为10\n",
    "config = {\"recursion_limit\": 10}\n",
    "# 输入数据\n",
    "inputs = {\"input\": \"查找2024年巴黎奥运会100米自由泳决赛冠军的家乡。\"}\n",
    "# 异步执行状态图，输出结果\n",
    "for event in app.stream(inputs, config=config):\n",
    "    # print(event)\n",
    "    for k, v in event.items():\n",
    "        if k != \"__end__\":\n",
    "            print(v)"
   ]
  },
  {
   "cell_type": "code",
   "execution_count": 32,
   "metadata": {},
   "outputs": [
    {
     "name": "stdout",
     "output_type": "stream",
     "text": [
      "{'plan': ['查找2024年巴黎奥运会男子乒乓球单打冠军', '确定该冠军的家乡']}\n",
      "{'plan': ['查找2024年巴黎奥运会男子乒乓球单打冠军', '确定该冠军的家乡']}\n",
      "{'past_steps': [('查找2024年巴黎奥运会男子乒乓球单打冠军', '2024年巴黎奥运会男子乒乓球单打冠军是中国选手樊振东，他在金牌赛中以4:1战胜了瑞典选手特鲁尔斯·莫雷加德。比赛于2024年8月4日在巴黎南部体育馆4号馆举行。')]}\n",
      "{'plan': ['查找樊振东的家乡']}\n",
      "{'past_steps': [('查找2024年巴黎奥运会男子乒乓球单打冠军', '2024年巴黎奥运会男子乒乓球单打冠军是中国选手樊振东，他在金牌赛中以4:1战胜了瑞典选手特鲁尔斯·莫雷加德。比赛于2024年8月4日在巴黎南部体育馆4号馆举行。'), ('查找樊振东的家乡', '樊振东的家乡是中国湖南省祁东县。虽然他出生在广州，但他的家庭背景是祁东的，小时候也是由爷爷奶奶在祁东将他带大。')]}\n",
      "{'response': '2024年巴黎奥运会男子乒乓球单打冠军樊振东的家乡是中国湖南省祁东县。'}\n"
     ]
    }
   ],
   "source": [
    "# 设置配置，递归限制为10\n",
    "config = {\"recursion_limit\": 10}\n",
    "# 输入数据\n",
    "inputs = {\"input\": \"2024年巴黎奥运会男子乒乓球单打冠军的家乡是哪里？\"}\n",
    "# 异步执行状态图，输出结果\n",
    "for event in app.stream(inputs, config=config):\n",
    "    # print(event)\n",
    "    for k, v in event.items():\n",
    "        if k != \"__end__\":\n",
    "            print(v)"
   ]
  },
  {
   "cell_type": "code",
   "execution_count": 33,
   "metadata": {},
   "outputs": [
    {
     "name": "stdout",
     "output_type": "stream",
     "text": [
      "{'plan': ['查找唐纳德·特朗普的出生年份', '查找唐纳德·特朗普女儿的名字']}\n",
      "{'plan': ['查找唐纳德·特朗普的出生年份', '查找唐纳德·特朗普女儿的名字']}\n",
      "{'past_steps': [('查找唐纳德·特朗普的出生年份', '唐纳德·特朗普出生于1946年。')]}\n",
      "{'plan': ['查找唐纳德·特朗普女儿的名字']}\n",
      "{'past_steps': [('查找唐纳德·特朗普的出生年份', '唐纳德·特朗普出生于1946年。'), ('查找唐纳德·特朗普女儿的名字', '唐纳德·特朗普的女儿名叫伊万卡·特朗普（Ivanka Trump）。')]}\n",
      "{'response': '特朗普出生于1946年，他的女儿名叫伊万卡·特朗普（Ivanka Trump）。'}\n"
     ]
    }
   ],
   "source": [
    "# 设置配置，递归限制为10\n",
    "config = {\"recursion_limit\": 10}\n",
    "# 输入数据\n",
    "inputs = {\"input\": \"特朗普是哪一年出生的？他的女儿叫什么名字？\"}\n",
    "# 异步执行状态图，输出结果\n",
    "for event in app.stream(inputs, config=config):\n",
    "    # print(event)\n",
    "    for k, v in event.items():\n",
    "        if k != \"__end__\":\n",
    "            print(v)"
   ]
  },
  {
   "cell_type": "code",
   "execution_count": 44,
   "metadata": {},
   "outputs": [
    {
     "name": "stdout",
     "output_type": "stream",
     "text": [
      "{'plan': ['访问天气查询网站或使用天气查询应用', '输入北京的地理位置信息', '获取并阅读当前的天气信息', '记录下北京今天的天气情况']}\n",
      "{'plan': ['访问天气查询网站或使用天气查询应用', '输入北京的地理位置信息', '获取并阅读当前的天气信息', '记录下北京今天的天气情况']}\n",
      "{'past_steps': [('访问天气查询网站或使用天气查询应用', '看起来在尝试访问天气查询网站或使用天气查询应用时，发生了一个错误，提示缺少了 \\'data\\' 键。这可能意味着在处理返回的数据时，我们试图访问一个不存在的数据字段。\\n\\n为了解决这个问题，我们需要检查天气查询服务的响应，并确保我们正确地解析了数据。由于我没有具体的代码或服务API的详细信息，我将提供一个通用的解决方案，你可以根据实际情况调整它。\\n\\n以下是一个示例代码，它尝试获取天气信息并处理可能出现的错误：\\n\\n```python\\n# 假设我们使用一个名为search的函数来获取天气数据\\ndef get_weather(city_name):\\n    try:\\n        # 调用天气查询服务\\n        weather_data = search(city_name)\\n        \\n        # 检查返回的数据中是否有\\'data\\'键\\n        if \\'data\\' in weather_data:\\n            # 正常处理数据\\n            return weather_data[\\'data\\']\\n        else:\\n            # 如果没有\\'data\\'键，打印错误信息或抛出异常\\n            print(\"Error: \\'data\\' key is missing in the response.\")\\n            return None\\n    except KeyError as e:\\n        # 捕获KeyError异常，打印错误信息\\n        print(f\"Error: {e}\")\\n        return None\\n    except Exception as e:\\n        # 捕获其他可能的异常，打印错误信息\\n        print(f\"An unexpected error occurred: {e}\")\\n        return None\\n\\n# 假设这是调用天气查询服务的函数\\ndef search(city_name):\\n    # 这里应该是调用天气查询服务的代码\\n    # 下面是一个模拟的返回值\\n    return {\\n        # 假设返回的数据结构应该是这样的，但实际中可能不同\\n        \"data\": {\\n            \"temperature\": 22,\\n            \"condition\": \"Sunny\"\\n        }\\n    }\\n\\n# 使用示例\\ncity_name = \"London\"\\nweather = get_weather(city_name)\\nif weather:\\n    print(weather)\\nelse:\\n    print(\"Failed to retrieve weather data.\")\\n```\\n\\n请注意，上面的代码是一个示例，实际的函数 `search` 应该是调用天气查询服务的代码，它可能会返回不同的数据结构。你需要根据实际的API文档来调整代码，确保正确地处理返回的数据。\\n\\n如果错误仍然存在，你可能需要检查以下几点：\\n\\n1. 确保API请求是成功的，并且返回了有效的JSON数据。\\n2. 确保你正确地解析了JSON数据，并且尝试访问的字段确实存在于返回的数据中。\\n3. 如果API有分页或数据结构变化，确保你的代码能够适应这些变化。')]}\n",
      "{'plan': ['重新尝试访问天气查询网站或使用天气查询应用', '输入北京的地理位置信息', '获取并阅读当前的天气信息', '记录下北京今天的天气情况']}\n",
      "{'past_steps': [('访问天气查询网站或使用天气查询应用', '看起来在尝试访问天气查询网站或使用天气查询应用时，发生了一个错误，提示缺少了 \\'data\\' 键。这可能意味着在处理返回的数据时，我们试图访问一个不存在的数据字段。\\n\\n为了解决这个问题，我们需要检查天气查询服务的响应，并确保我们正确地解析了数据。由于我没有具体的代码或服务API的详细信息，我将提供一个通用的解决方案，你可以根据实际情况调整它。\\n\\n以下是一个示例代码，它尝试获取天气信息并处理可能出现的错误：\\n\\n```python\\n# 假设我们使用一个名为search的函数来获取天气数据\\ndef get_weather(city_name):\\n    try:\\n        # 调用天气查询服务\\n        weather_data = search(city_name)\\n        \\n        # 检查返回的数据中是否有\\'data\\'键\\n        if \\'data\\' in weather_data:\\n            # 正常处理数据\\n            return weather_data[\\'data\\']\\n        else:\\n            # 如果没有\\'data\\'键，打印错误信息或抛出异常\\n            print(\"Error: \\'data\\' key is missing in the response.\")\\n            return None\\n    except KeyError as e:\\n        # 捕获KeyError异常，打印错误信息\\n        print(f\"Error: {e}\")\\n        return None\\n    except Exception as e:\\n        # 捕获其他可能的异常，打印错误信息\\n        print(f\"An unexpected error occurred: {e}\")\\n        return None\\n\\n# 假设这是调用天气查询服务的函数\\ndef search(city_name):\\n    # 这里应该是调用天气查询服务的代码\\n    # 下面是一个模拟的返回值\\n    return {\\n        # 假设返回的数据结构应该是这样的，但实际中可能不同\\n        \"data\": {\\n            \"temperature\": 22,\\n            \"condition\": \"Sunny\"\\n        }\\n    }\\n\\n# 使用示例\\ncity_name = \"London\"\\nweather = get_weather(city_name)\\nif weather:\\n    print(weather)\\nelse:\\n    print(\"Failed to retrieve weather data.\")\\n```\\n\\n请注意，上面的代码是一个示例，实际的函数 `search` 应该是调用天气查询服务的代码，它可能会返回不同的数据结构。你需要根据实际的API文档来调整代码，确保正确地处理返回的数据。\\n\\n如果错误仍然存在，你可能需要检查以下几点：\\n\\n1. 确保API请求是成功的，并且返回了有效的JSON数据。\\n2. 确保你正确地解析了JSON数据，并且尝试访问的字段确实存在于返回的数据中。\\n3. 如果API有分页或数据结构变化，确保你的代码能够适应这些变化。'), ('重新尝试访问天气查询网站或使用天气查询应用', '看起来您尝试查询的天气服务不支持您指定的城市。这可能是因为该服务数据库中没有该城市的天气数据，或者该城市名称没有被正确识别。\\n\\n为了解决这个问题，您可以尝试以下几种方法：\\n\\n1. **检查城市名称**：确保您输入的城市名称是正确的，包括拼写和格式。有时候，城市的中文名和英文名可能会有所不同，或者城市名称可能有多种拼写方式。\\n\\n2. **使用城市拼音**：如果您使用的是中文城市名称，尝试使用拼音输入城市名称。\\n\\n3. **查询其他城市**：尝试查询其他城市的天气，以确认服务是否正常工作。\\n\\n4. **使用其他服务**：如果当前服务不支持您想要查询的城市，您可以尝试使用其他天气查询服务或应用。\\n\\n5. **联系客服**：如果以上方法都无法解决问题，您可以尝试联系该服务的客服，询问是否可以添加或更新城市数据。\\n\\n如果您需要进一步的帮助，请提供具体的城市名称，我可以尝试为您提供更多帮助。')]}\n",
      "{'plan': ['输入北京的地理位置信息', '获取并阅读当前的天气信息', '记录下北京今天的天气情况']}\n",
      "{'past_steps': [('访问天气查询网站或使用天气查询应用', '看起来在尝试访问天气查询网站或使用天气查询应用时，发生了一个错误，提示缺少了 \\'data\\' 键。这可能意味着在处理返回的数据时，我们试图访问一个不存在的数据字段。\\n\\n为了解决这个问题，我们需要检查天气查询服务的响应，并确保我们正确地解析了数据。由于我没有具体的代码或服务API的详细信息，我将提供一个通用的解决方案，你可以根据实际情况调整它。\\n\\n以下是一个示例代码，它尝试获取天气信息并处理可能出现的错误：\\n\\n```python\\n# 假设我们使用一个名为search的函数来获取天气数据\\ndef get_weather(city_name):\\n    try:\\n        # 调用天气查询服务\\n        weather_data = search(city_name)\\n        \\n        # 检查返回的数据中是否有\\'data\\'键\\n        if \\'data\\' in weather_data:\\n            # 正常处理数据\\n            return weather_data[\\'data\\']\\n        else:\\n            # 如果没有\\'data\\'键，打印错误信息或抛出异常\\n            print(\"Error: \\'data\\' key is missing in the response.\")\\n            return None\\n    except KeyError as e:\\n        # 捕获KeyError异常，打印错误信息\\n        print(f\"Error: {e}\")\\n        return None\\n    except Exception as e:\\n        # 捕获其他可能的异常，打印错误信息\\n        print(f\"An unexpected error occurred: {e}\")\\n        return None\\n\\n# 假设这是调用天气查询服务的函数\\ndef search(city_name):\\n    # 这里应该是调用天气查询服务的代码\\n    # 下面是一个模拟的返回值\\n    return {\\n        # 假设返回的数据结构应该是这样的，但实际中可能不同\\n        \"data\": {\\n            \"temperature\": 22,\\n            \"condition\": \"Sunny\"\\n        }\\n    }\\n\\n# 使用示例\\ncity_name = \"London\"\\nweather = get_weather(city_name)\\nif weather:\\n    print(weather)\\nelse:\\n    print(\"Failed to retrieve weather data.\")\\n```\\n\\n请注意，上面的代码是一个示例，实际的函数 `search` 应该是调用天气查询服务的代码，它可能会返回不同的数据结构。你需要根据实际的API文档来调整代码，确保正确地处理返回的数据。\\n\\n如果错误仍然存在，你可能需要检查以下几点：\\n\\n1. 确保API请求是成功的，并且返回了有效的JSON数据。\\n2. 确保你正确地解析了JSON数据，并且尝试访问的字段确实存在于返回的数据中。\\n3. 如果API有分页或数据结构变化，确保你的代码能够适应这些变化。'), ('访问天气查询网站或使用天气查询应用', '看起来在尝试访问天气查询网站或使用天气查询应用时，发生了一个错误，提示缺少了 \\'data\\' 键。这可能意味着在处理返回的数据时，我们试图访问一个不存在的数据字段。\\n\\n为了解决这个问题，我们需要检查天气查询服务的响应，并确保我们正确地解析了数据。由于我没有具体的代码或服务API的详细信息，我将提供一个通用的解决方案，你可以根据实际情况调整它。\\n\\n以下是一个示例代码，它尝试获取天气信息并处理可能出现的错误：\\n\\n```python\\n# 假设我们使用一个名为search的函数来获取天气数据\\ndef get_weather(city_name):\\n    try:\\n        # 调用天气查询服务\\n        weather_data = search(city_name)\\n        \\n        # 检查返回的数据中是否有\\'data\\'键\\n        if \\'data\\' in weather_data:\\n            # 正常处理数据\\n            return weather_data[\\'data\\']\\n        else:\\n            # 如果没有\\'data\\'键，打印错误信息或抛出异常\\n            print(\"Error: \\'data\\' key is missing in the response.\")\\n            return None\\n    except KeyError as e:\\n        # 捕获KeyError异常，打印错误信息\\n        print(f\"Error: {e}\")\\n        return None\\n    except Exception as e:\\n        # 捕获其他可能的异常，打印错误信息\\n        print(f\"An unexpected error occurred: {e}\")\\n        return None\\n\\n# 假设这是调用天气查询服务的函数\\ndef search(city_name):\\n    # 这里应该是调用天气查询服务的代码\\n    # 下面是一个模拟的返回值\\n    return {\\n        # 假设返回的数据结构应该是这样的，但实际中可能不同\\n        \"data\": {\\n            \"temperature\": 22,\\n            \"condition\": \"Sunny\"\\n        }\\n    }\\n\\n# 使用示例\\ncity_name = \"London\"\\nweather = get_weather(city_name)\\nif weather:\\n    print(weather)\\nelse:\\n    print(\"Failed to retrieve weather data.\")\\n```\\n\\n请注意，上面的代码是一个示例，实际的函数 `search` 应该是调用天气查询服务的代码，它可能会返回不同的数据结构。你需要根据实际的API文档来调整代码，确保正确地处理返回的数据。\\n\\n如果错误仍然存在，你可能需要检查以下几点：\\n\\n1. 确保API请求是成功的，并且返回了有效的JSON数据。\\n2. 确保你正确地解析了JSON数据，并且尝试访问的字段确实存在于返回的数据中。\\n3. 如果API有分页或数据结构变化，确保你的代码能够适应这些变化。'), ('重新尝试访问天气查询网站或使用天气查询应用', '看起来您尝试查询的天气服务不支持您指定的城市。这可能是因为该服务数据库中没有该城市的天气数据，或者该城市名称没有被正确识别。\\n\\n为了解决这个问题，您可以尝试以下几种方法：\\n\\n1. **检查城市名称**：确保您输入的城市名称是正确的，包括拼写和格式。有时候，城市的中文名和英文名可能会有所不同，或者城市名称可能有多种拼写方式。\\n\\n2. **使用城市拼音**：如果您使用的是中文城市名称，尝试使用拼音输入城市名称。\\n\\n3. **查询其他城市**：尝试查询其他城市的天气，以确认服务是否正常工作。\\n\\n4. **使用其他服务**：如果当前服务不支持您想要查询的城市，您可以尝试使用其他天气查询服务或应用。\\n\\n5. **联系客服**：如果以上方法都无法解决问题，您可以尝试联系该服务的客服，询问是否可以添加或更新城市数据。\\n\\n如果您需要进一步的帮助，请提供具体的城市名称，我可以尝试为您提供更多帮助。'), ('输入北京的地理位置信息', \"很抱歉，看起来在尝试获取北京的地理位置信息时发生了错误。但是，您并没有提供具体的操作指令或者请求。如果您需要我提供北京的地理位置信息，我可以直接告诉您：\\n\\n北京是中华人民共和国的首都，位于中国华北地区，东经115°25'至117°30'，北纬39°28'至41°05'之间。北京的中心位置大约在东经116°40'，北纬39°90'。这座城市是中国的政治、文化、国际交流和科技创新中心。如果您需要更详细的地理信息，比如海拔、气候等，请告诉我，我会尽力提供相关信息。\")]}\n",
      "{'plan': ['重新尝试访问天气查询网站或使用天气查询应用']}\n",
      "{'past_steps': [('访问天气查询网站或使用天气查询应用', '看起来在尝试访问天气查询网站或使用天气查询应用时，发生了一个错误，提示缺少了 \\'data\\' 键。这可能意味着在处理返回的数据时，我们试图访问一个不存在的数据字段。\\n\\n为了解决这个问题，我们需要检查天气查询服务的响应，并确保我们正确地解析了数据。由于我没有具体的代码或服务API的详细信息，我将提供一个通用的解决方案，你可以根据实际情况调整它。\\n\\n以下是一个示例代码，它尝试获取天气信息并处理可能出现的错误：\\n\\n```python\\n# 假设我们使用一个名为search的函数来获取天气数据\\ndef get_weather(city_name):\\n    try:\\n        # 调用天气查询服务\\n        weather_data = search(city_name)\\n        \\n        # 检查返回的数据中是否有\\'data\\'键\\n        if \\'data\\' in weather_data:\\n            # 正常处理数据\\n            return weather_data[\\'data\\']\\n        else:\\n            # 如果没有\\'data\\'键，打印错误信息或抛出异常\\n            print(\"Error: \\'data\\' key is missing in the response.\")\\n            return None\\n    except KeyError as e:\\n        # 捕获KeyError异常，打印错误信息\\n        print(f\"Error: {e}\")\\n        return None\\n    except Exception as e:\\n        # 捕获其他可能的异常，打印错误信息\\n        print(f\"An unexpected error occurred: {e}\")\\n        return None\\n\\n# 假设这是调用天气查询服务的函数\\ndef search(city_name):\\n    # 这里应该是调用天气查询服务的代码\\n    # 下面是一个模拟的返回值\\n    return {\\n        # 假设返回的数据结构应该是这样的，但实际中可能不同\\n        \"data\": {\\n            \"temperature\": 22,\\n            \"condition\": \"Sunny\"\\n        }\\n    }\\n\\n# 使用示例\\ncity_name = \"London\"\\nweather = get_weather(city_name)\\nif weather:\\n    print(weather)\\nelse:\\n    print(\"Failed to retrieve weather data.\")\\n```\\n\\n请注意，上面的代码是一个示例，实际的函数 `search` 应该是调用天气查询服务的代码，它可能会返回不同的数据结构。你需要根据实际的API文档来调整代码，确保正确地处理返回的数据。\\n\\n如果错误仍然存在，你可能需要检查以下几点：\\n\\n1. 确保API请求是成功的，并且返回了有效的JSON数据。\\n2. 确保你正确地解析了JSON数据，并且尝试访问的字段确实存在于返回的数据中。\\n3. 如果API有分页或数据结构变化，确保你的代码能够适应这些变化。'), ('访问天气查询网站或使用天气查询应用', '看起来在尝试访问天气查询网站或使用天气查询应用时，发生了一个错误，提示缺少了 \\'data\\' 键。这可能意味着在处理返回的数据时，我们试图访问一个不存在的数据字段。\\n\\n为了解决这个问题，我们需要检查天气查询服务的响应，并确保我们正确地解析了数据。由于我没有具体的代码或服务API的详细信息，我将提供一个通用的解决方案，你可以根据实际情况调整它。\\n\\n以下是一个示例代码，它尝试获取天气信息并处理可能出现的错误：\\n\\n```python\\n# 假设我们使用一个名为search的函数来获取天气数据\\ndef get_weather(city_name):\\n    try:\\n        # 调用天气查询服务\\n        weather_data = search(city_name)\\n        \\n        # 检查返回的数据中是否有\\'data\\'键\\n        if \\'data\\' in weather_data:\\n            # 正常处理数据\\n            return weather_data[\\'data\\']\\n        else:\\n            # 如果没有\\'data\\'键，打印错误信息或抛出异常\\n            print(\"Error: \\'data\\' key is missing in the response.\")\\n            return None\\n    except KeyError as e:\\n        # 捕获KeyError异常，打印错误信息\\n        print(f\"Error: {e}\")\\n        return None\\n    except Exception as e:\\n        # 捕获其他可能的异常，打印错误信息\\n        print(f\"An unexpected error occurred: {e}\")\\n        return None\\n\\n# 假设这是调用天气查询服务的函数\\ndef search(city_name):\\n    # 这里应该是调用天气查询服务的代码\\n    # 下面是一个模拟的返回值\\n    return {\\n        # 假设返回的数据结构应该是这样的，但实际中可能不同\\n        \"data\": {\\n            \"temperature\": 22,\\n            \"condition\": \"Sunny\"\\n        }\\n    }\\n\\n# 使用示例\\ncity_name = \"London\"\\nweather = get_weather(city_name)\\nif weather:\\n    print(weather)\\nelse:\\n    print(\"Failed to retrieve weather data.\")\\n```\\n\\n请注意，上面的代码是一个示例，实际的函数 `search` 应该是调用天气查询服务的代码，它可能会返回不同的数据结构。你需要根据实际的API文档来调整代码，确保正确地处理返回的数据。\\n\\n如果错误仍然存在，你可能需要检查以下几点：\\n\\n1. 确保API请求是成功的，并且返回了有效的JSON数据。\\n2. 确保你正确地解析了JSON数据，并且尝试访问的字段确实存在于返回的数据中。\\n3. 如果API有分页或数据结构变化，确保你的代码能够适应这些变化。'), ('重新尝试访问天气查询网站或使用天气查询应用', '看起来您尝试查询的天气服务不支持您指定的城市。这可能是因为该服务数据库中没有该城市的天气数据，或者该城市名称没有被正确识别。\\n\\n为了解决这个问题，您可以尝试以下几种方法：\\n\\n1. **检查城市名称**：确保您输入的城市名称是正确的，包括拼写和格式。有时候，城市的中文名和英文名可能会有所不同，或者城市名称可能有多种拼写方式。\\n\\n2. **使用城市拼音**：如果您使用的是中文城市名称，尝试使用拼音输入城市名称。\\n\\n3. **查询其他城市**：尝试查询其他城市的天气，以确认服务是否正常工作。\\n\\n4. **使用其他服务**：如果当前服务不支持您想要查询的城市，您可以尝试使用其他天气查询服务或应用。\\n\\n5. **联系客服**：如果以上方法都无法解决问题，您可以尝试联系该服务的客服，询问是否可以添加或更新城市数据。\\n\\n如果您需要进一步的帮助，请提供具体的城市名称，我可以尝试为您提供更多帮助。'), ('访问天气查询网站或使用天气查询应用', '看起来在尝试访问天气查询网站或使用天气查询应用时，发生了一个错误，提示缺少了 \\'data\\' 键。这可能意味着在处理返回的数据时，我们试图访问一个不存在的数据字段。\\n\\n为了解决这个问题，我们需要检查天气查询服务的响应，并确保我们正确地解析了数据。由于我没有具体的代码或服务API的详细信息，我将提供一个通用的解决方案，你可以根据实际情况调整它。\\n\\n以下是一个示例代码，它尝试获取天气信息并处理可能出现的错误：\\n\\n```python\\n# 假设我们使用一个名为search的函数来获取天气数据\\ndef get_weather(city_name):\\n    try:\\n        # 调用天气查询服务\\n        weather_data = search(city_name)\\n        \\n        # 检查返回的数据中是否有\\'data\\'键\\n        if \\'data\\' in weather_data:\\n            # 正常处理数据\\n            return weather_data[\\'data\\']\\n        else:\\n            # 如果没有\\'data\\'键，打印错误信息或抛出异常\\n            print(\"Error: \\'data\\' key is missing in the response.\")\\n            return None\\n    except KeyError as e:\\n        # 捕获KeyError异常，打印错误信息\\n        print(f\"Error: {e}\")\\n        return None\\n    except Exception as e:\\n        # 捕获其他可能的异常，打印错误信息\\n        print(f\"An unexpected error occurred: {e}\")\\n        return None\\n\\n# 假设这是调用天气查询服务的函数\\ndef search(city_name):\\n    # 这里应该是调用天气查询服务的代码\\n    # 下面是一个模拟的返回值\\n    return {\\n        # 假设返回的数据结构应该是这样的，但实际中可能不同\\n        \"data\": {\\n            \"temperature\": 22,\\n            \"condition\": \"Sunny\"\\n        }\\n    }\\n\\n# 使用示例\\ncity_name = \"London\"\\nweather = get_weather(city_name)\\nif weather:\\n    print(weather)\\nelse:\\n    print(\"Failed to retrieve weather data.\")\\n```\\n\\n请注意，上面的代码是一个示例，实际的函数 `search` 应该是调用天气查询服务的代码，它可能会返回不同的数据结构。你需要根据实际的API文档来调整代码，确保正确地处理返回的数据。\\n\\n如果错误仍然存在，你可能需要检查以下几点：\\n\\n1. 确保API请求是成功的，并且返回了有效的JSON数据。\\n2. 确保你正确地解析了JSON数据，并且尝试访问的字段确实存在于返回的数据中。\\n3. 如果API有分页或数据结构变化，确保你的代码能够适应这些变化。'), ('访问天气查询网站或使用天气查询应用', '看起来在尝试访问天气查询网站或使用天气查询应用时，发生了一个错误，提示缺少了 \\'data\\' 键。这可能意味着在处理返回的数据时，我们试图访问一个不存在的数据字段。\\n\\n为了解决这个问题，我们需要检查天气查询服务的响应，并确保我们正确地解析了数据。由于我没有具体的代码或服务API的详细信息，我将提供一个通用的解决方案，你可以根据实际情况调整它。\\n\\n以下是一个示例代码，它尝试获取天气信息并处理可能出现的错误：\\n\\n```python\\n# 假设我们使用一个名为search的函数来获取天气数据\\ndef get_weather(city_name):\\n    try:\\n        # 调用天气查询服务\\n        weather_data = search(city_name)\\n        \\n        # 检查返回的数据中是否有\\'data\\'键\\n        if \\'data\\' in weather_data:\\n            # 正常处理数据\\n            return weather_data[\\'data\\']\\n        else:\\n            # 如果没有\\'data\\'键，打印错误信息或抛出异常\\n            print(\"Error: \\'data\\' key is missing in the response.\")\\n            return None\\n    except KeyError as e:\\n        # 捕获KeyError异常，打印错误信息\\n        print(f\"Error: {e}\")\\n        return None\\n    except Exception as e:\\n        # 捕获其他可能的异常，打印错误信息\\n        print(f\"An unexpected error occurred: {e}\")\\n        return None\\n\\n# 假设这是调用天气查询服务的函数\\ndef search(city_name):\\n    # 这里应该是调用天气查询服务的代码\\n    # 下面是一个模拟的返回值\\n    return {\\n        # 假设返回的数据结构应该是这样的，但实际中可能不同\\n        \"data\": {\\n            \"temperature\": 22,\\n            \"condition\": \"Sunny\"\\n        }\\n    }\\n\\n# 使用示例\\ncity_name = \"London\"\\nweather = get_weather(city_name)\\nif weather:\\n    print(weather)\\nelse:\\n    print(\"Failed to retrieve weather data.\")\\n```\\n\\n请注意，上面的代码是一个示例，实际的函数 `search` 应该是调用天气查询服务的代码，它可能会返回不同的数据结构。你需要根据实际的API文档来调整代码，确保正确地处理返回的数据。\\n\\n如果错误仍然存在，你可能需要检查以下几点：\\n\\n1. 确保API请求是成功的，并且返回了有效的JSON数据。\\n2. 确保你正确地解析了JSON数据，并且尝试访问的字段确实存在于返回的数据中。\\n3. 如果API有分页或数据结构变化，确保你的代码能够适应这些变化。'), ('重新尝试访问天气查询网站或使用天气查询应用', '看起来您尝试查询的天气服务不支持您指定的城市。这可能是因为该服务数据库中没有该城市的天气数据，或者该城市名称没有被正确识别。\\n\\n为了解决这个问题，您可以尝试以下几种方法：\\n\\n1. **检查城市名称**：确保您输入的城市名称是正确的，包括拼写和格式。有时候，城市的中文名和英文名可能会有所不同，或者城市名称可能有多种拼写方式。\\n\\n2. **使用城市拼音**：如果您使用的是中文城市名称，尝试使用拼音输入城市名称。\\n\\n3. **查询其他城市**：尝试查询其他城市的天气，以确认服务是否正常工作。\\n\\n4. **使用其他服务**：如果当前服务不支持您想要查询的城市，您可以尝试使用其他天气查询服务或应用。\\n\\n5. **联系客服**：如果以上方法都无法解决问题，您可以尝试联系该服务的客服，询问是否可以添加或更新城市数据。\\n\\n如果您需要进一步的帮助，请提供具体的城市名称，我可以尝试为您提供更多帮助。'), ('输入北京的地理位置信息', \"很抱歉，看起来在尝试获取北京的地理位置信息时发生了错误。但是，您并没有提供具体的操作指令或者请求。如果您需要我提供北京的地理位置信息，我可以直接告诉您：\\n\\n北京是中华人民共和国的首都，位于中国华北地区，东经115°25'至117°30'，北纬39°28'至41°05'之间。北京的中心位置大约在东经116°40'，北纬39°90'。这座城市是中国的政治、文化、国际交流和科技创新中心。如果您需要更详细的地理信息，比如海拔、气候等，请告诉我，我会尽力提供相关信息。\"), ('重新尝试访问天气查询网站或使用天气查询应用', '看起来您尝试查询的天气服务不支持您指定的城市。这可能是因为该服务数据库中没有该城市的天气数据，或者该城市名称没有被正确识别。\\n\\n为了解决这个问题，您可以尝试以下几种方法：\\n\\n1. **检查城市名称**：确保您输入的城市名称是正确的，包括拼写和格式。有时候，城市的中文名和英文名可能会有所不同，或者城市名称可能有多种拼写方式。\\n\\n2. **使用城市拼音**：如果您使用的是中文城市名称，尝试使用拼音输入城市名称。\\n\\n3. **查询其他城市**：尝试查询其他城市的天气，以确认服务是否正常工作。\\n\\n4. **使用其他服务**：如果当前服务不支持您想要查询的城市，您可以尝试使用其他天气查询服务或应用。\\n\\n5. **联系客服**：如果以上方法都无法解决问题，您可以尝试联系该服务的客服，询问是否可以添加或更新城市数据。\\n\\n如果您需要进一步的帮助，请提供具体的城市名称，我可以尝试为您提供更多帮助。')]}\n",
      "{'plan': ['重新尝试访问天气查询网站或使用天气查询应用']}\n",
      "{'past_steps': [('访问天气查询网站或使用天气查询应用', '看起来在尝试访问天气查询网站或使用天气查询应用时，发生了一个错误，提示缺少了 \\'data\\' 键。这可能意味着在处理返回的数据时，我们试图访问一个不存在的数据字段。\\n\\n为了解决这个问题，我们需要检查天气查询服务的响应，并确保我们正确地解析了数据。由于我没有具体的代码或服务API的详细信息，我将提供一个通用的解决方案，你可以根据实际情况调整它。\\n\\n以下是一个示例代码，它尝试获取天气信息并处理可能出现的错误：\\n\\n```python\\n# 假设我们使用一个名为search的函数来获取天气数据\\ndef get_weather(city_name):\\n    try:\\n        # 调用天气查询服务\\n        weather_data = search(city_name)\\n        \\n        # 检查返回的数据中是否有\\'data\\'键\\n        if \\'data\\' in weather_data:\\n            # 正常处理数据\\n            return weather_data[\\'data\\']\\n        else:\\n            # 如果没有\\'data\\'键，打印错误信息或抛出异常\\n            print(\"Error: \\'data\\' key is missing in the response.\")\\n            return None\\n    except KeyError as e:\\n        # 捕获KeyError异常，打印错误信息\\n        print(f\"Error: {e}\")\\n        return None\\n    except Exception as e:\\n        # 捕获其他可能的异常，打印错误信息\\n        print(f\"An unexpected error occurred: {e}\")\\n        return None\\n\\n# 假设这是调用天气查询服务的函数\\ndef search(city_name):\\n    # 这里应该是调用天气查询服务的代码\\n    # 下面是一个模拟的返回值\\n    return {\\n        # 假设返回的数据结构应该是这样的，但实际中可能不同\\n        \"data\": {\\n            \"temperature\": 22,\\n            \"condition\": \"Sunny\"\\n        }\\n    }\\n\\n# 使用示例\\ncity_name = \"London\"\\nweather = get_weather(city_name)\\nif weather:\\n    print(weather)\\nelse:\\n    print(\"Failed to retrieve weather data.\")\\n```\\n\\n请注意，上面的代码是一个示例，实际的函数 `search` 应该是调用天气查询服务的代码，它可能会返回不同的数据结构。你需要根据实际的API文档来调整代码，确保正确地处理返回的数据。\\n\\n如果错误仍然存在，你可能需要检查以下几点：\\n\\n1. 确保API请求是成功的，并且返回了有效的JSON数据。\\n2. 确保你正确地解析了JSON数据，并且尝试访问的字段确实存在于返回的数据中。\\n3. 如果API有分页或数据结构变化，确保你的代码能够适应这些变化。'), ('访问天气查询网站或使用天气查询应用', '看起来在尝试访问天气查询网站或使用天气查询应用时，发生了一个错误，提示缺少了 \\'data\\' 键。这可能意味着在处理返回的数据时，我们试图访问一个不存在的数据字段。\\n\\n为了解决这个问题，我们需要检查天气查询服务的响应，并确保我们正确地解析了数据。由于我没有具体的代码或服务API的详细信息，我将提供一个通用的解决方案，你可以根据实际情况调整它。\\n\\n以下是一个示例代码，它尝试获取天气信息并处理可能出现的错误：\\n\\n```python\\n# 假设我们使用一个名为search的函数来获取天气数据\\ndef get_weather(city_name):\\n    try:\\n        # 调用天气查询服务\\n        weather_data = search(city_name)\\n        \\n        # 检查返回的数据中是否有\\'data\\'键\\n        if \\'data\\' in weather_data:\\n            # 正常处理数据\\n            return weather_data[\\'data\\']\\n        else:\\n            # 如果没有\\'data\\'键，打印错误信息或抛出异常\\n            print(\"Error: \\'data\\' key is missing in the response.\")\\n            return None\\n    except KeyError as e:\\n        # 捕获KeyError异常，打印错误信息\\n        print(f\"Error: {e}\")\\n        return None\\n    except Exception as e:\\n        # 捕获其他可能的异常，打印错误信息\\n        print(f\"An unexpected error occurred: {e}\")\\n        return None\\n\\n# 假设这是调用天气查询服务的函数\\ndef search(city_name):\\n    # 这里应该是调用天气查询服务的代码\\n    # 下面是一个模拟的返回值\\n    return {\\n        # 假设返回的数据结构应该是这样的，但实际中可能不同\\n        \"data\": {\\n            \"temperature\": 22,\\n            \"condition\": \"Sunny\"\\n        }\\n    }\\n\\n# 使用示例\\ncity_name = \"London\"\\nweather = get_weather(city_name)\\nif weather:\\n    print(weather)\\nelse:\\n    print(\"Failed to retrieve weather data.\")\\n```\\n\\n请注意，上面的代码是一个示例，实际的函数 `search` 应该是调用天气查询服务的代码，它可能会返回不同的数据结构。你需要根据实际的API文档来调整代码，确保正确地处理返回的数据。\\n\\n如果错误仍然存在，你可能需要检查以下几点：\\n\\n1. 确保API请求是成功的，并且返回了有效的JSON数据。\\n2. 确保你正确地解析了JSON数据，并且尝试访问的字段确实存在于返回的数据中。\\n3. 如果API有分页或数据结构变化，确保你的代码能够适应这些变化。'), ('重新尝试访问天气查询网站或使用天气查询应用', '看起来您尝试查询的天气服务不支持您指定的城市。这可能是因为该服务数据库中没有该城市的天气数据，或者该城市名称没有被正确识别。\\n\\n为了解决这个问题，您可以尝试以下几种方法：\\n\\n1. **检查城市名称**：确保您输入的城市名称是正确的，包括拼写和格式。有时候，城市的中文名和英文名可能会有所不同，或者城市名称可能有多种拼写方式。\\n\\n2. **使用城市拼音**：如果您使用的是中文城市名称，尝试使用拼音输入城市名称。\\n\\n3. **查询其他城市**：尝试查询其他城市的天气，以确认服务是否正常工作。\\n\\n4. **使用其他服务**：如果当前服务不支持您想要查询的城市，您可以尝试使用其他天气查询服务或应用。\\n\\n5. **联系客服**：如果以上方法都无法解决问题，您可以尝试联系该服务的客服，询问是否可以添加或更新城市数据。\\n\\n如果您需要进一步的帮助，请提供具体的城市名称，我可以尝试为您提供更多帮助。'), ('访问天气查询网站或使用天气查询应用', '看起来在尝试访问天气查询网站或使用天气查询应用时，发生了一个错误，提示缺少了 \\'data\\' 键。这可能意味着在处理返回的数据时，我们试图访问一个不存在的数据字段。\\n\\n为了解决这个问题，我们需要检查天气查询服务的响应，并确保我们正确地解析了数据。由于我没有具体的代码或服务API的详细信息，我将提供一个通用的解决方案，你可以根据实际情况调整它。\\n\\n以下是一个示例代码，它尝试获取天气信息并处理可能出现的错误：\\n\\n```python\\n# 假设我们使用一个名为search的函数来获取天气数据\\ndef get_weather(city_name):\\n    try:\\n        # 调用天气查询服务\\n        weather_data = search(city_name)\\n        \\n        # 检查返回的数据中是否有\\'data\\'键\\n        if \\'data\\' in weather_data:\\n            # 正常处理数据\\n            return weather_data[\\'data\\']\\n        else:\\n            # 如果没有\\'data\\'键，打印错误信息或抛出异常\\n            print(\"Error: \\'data\\' key is missing in the response.\")\\n            return None\\n    except KeyError as e:\\n        # 捕获KeyError异常，打印错误信息\\n        print(f\"Error: {e}\")\\n        return None\\n    except Exception as e:\\n        # 捕获其他可能的异常，打印错误信息\\n        print(f\"An unexpected error occurred: {e}\")\\n        return None\\n\\n# 假设这是调用天气查询服务的函数\\ndef search(city_name):\\n    # 这里应该是调用天气查询服务的代码\\n    # 下面是一个模拟的返回值\\n    return {\\n        # 假设返回的数据结构应该是这样的，但实际中可能不同\\n        \"data\": {\\n            \"temperature\": 22,\\n            \"condition\": \"Sunny\"\\n        }\\n    }\\n\\n# 使用示例\\ncity_name = \"London\"\\nweather = get_weather(city_name)\\nif weather:\\n    print(weather)\\nelse:\\n    print(\"Failed to retrieve weather data.\")\\n```\\n\\n请注意，上面的代码是一个示例，实际的函数 `search` 应该是调用天气查询服务的代码，它可能会返回不同的数据结构。你需要根据实际的API文档来调整代码，确保正确地处理返回的数据。\\n\\n如果错误仍然存在，你可能需要检查以下几点：\\n\\n1. 确保API请求是成功的，并且返回了有效的JSON数据。\\n2. 确保你正确地解析了JSON数据，并且尝试访问的字段确实存在于返回的数据中。\\n3. 如果API有分页或数据结构变化，确保你的代码能够适应这些变化。'), ('访问天气查询网站或使用天气查询应用', '看起来在尝试访问天气查询网站或使用天气查询应用时，发生了一个错误，提示缺少了 \\'data\\' 键。这可能意味着在处理返回的数据时，我们试图访问一个不存在的数据字段。\\n\\n为了解决这个问题，我们需要检查天气查询服务的响应，并确保我们正确地解析了数据。由于我没有具体的代码或服务API的详细信息，我将提供一个通用的解决方案，你可以根据实际情况调整它。\\n\\n以下是一个示例代码，它尝试获取天气信息并处理可能出现的错误：\\n\\n```python\\n# 假设我们使用一个名为search的函数来获取天气数据\\ndef get_weather(city_name):\\n    try:\\n        # 调用天气查询服务\\n        weather_data = search(city_name)\\n        \\n        # 检查返回的数据中是否有\\'data\\'键\\n        if \\'data\\' in weather_data:\\n            # 正常处理数据\\n            return weather_data[\\'data\\']\\n        else:\\n            # 如果没有\\'data\\'键，打印错误信息或抛出异常\\n            print(\"Error: \\'data\\' key is missing in the response.\")\\n            return None\\n    except KeyError as e:\\n        # 捕获KeyError异常，打印错误信息\\n        print(f\"Error: {e}\")\\n        return None\\n    except Exception as e:\\n        # 捕获其他可能的异常，打印错误信息\\n        print(f\"An unexpected error occurred: {e}\")\\n        return None\\n\\n# 假设这是调用天气查询服务的函数\\ndef search(city_name):\\n    # 这里应该是调用天气查询服务的代码\\n    # 下面是一个模拟的返回值\\n    return {\\n        # 假设返回的数据结构应该是这样的，但实际中可能不同\\n        \"data\": {\\n            \"temperature\": 22,\\n            \"condition\": \"Sunny\"\\n        }\\n    }\\n\\n# 使用示例\\ncity_name = \"London\"\\nweather = get_weather(city_name)\\nif weather:\\n    print(weather)\\nelse:\\n    print(\"Failed to retrieve weather data.\")\\n```\\n\\n请注意，上面的代码是一个示例，实际的函数 `search` 应该是调用天气查询服务的代码，它可能会返回不同的数据结构。你需要根据实际的API文档来调整代码，确保正确地处理返回的数据。\\n\\n如果错误仍然存在，你可能需要检查以下几点：\\n\\n1. 确保API请求是成功的，并且返回了有效的JSON数据。\\n2. 确保你正确地解析了JSON数据，并且尝试访问的字段确实存在于返回的数据中。\\n3. 如果API有分页或数据结构变化，确保你的代码能够适应这些变化。'), ('重新尝试访问天气查询网站或使用天气查询应用', '看起来您尝试查询的天气服务不支持您指定的城市。这可能是因为该服务数据库中没有该城市的天气数据，或者该城市名称没有被正确识别。\\n\\n为了解决这个问题，您可以尝试以下几种方法：\\n\\n1. **检查城市名称**：确保您输入的城市名称是正确的，包括拼写和格式。有时候，城市的中文名和英文名可能会有所不同，或者城市名称可能有多种拼写方式。\\n\\n2. **使用城市拼音**：如果您使用的是中文城市名称，尝试使用拼音输入城市名称。\\n\\n3. **查询其他城市**：尝试查询其他城市的天气，以确认服务是否正常工作。\\n\\n4. **使用其他服务**：如果当前服务不支持您想要查询的城市，您可以尝试使用其他天气查询服务或应用。\\n\\n5. **联系客服**：如果以上方法都无法解决问题，您可以尝试联系该服务的客服，询问是否可以添加或更新城市数据。\\n\\n如果您需要进一步的帮助，请提供具体的城市名称，我可以尝试为您提供更多帮助。'), ('输入北京的地理位置信息', \"很抱歉，看起来在尝试获取北京的地理位置信息时发生了错误。但是，您并没有提供具体的操作指令或者请求。如果您需要我提供北京的地理位置信息，我可以直接告诉您：\\n\\n北京是中华人民共和国的首都，位于中国华北地区，东经115°25'至117°30'，北纬39°28'至41°05'之间。北京的中心位置大约在东经116°40'，北纬39°90'。这座城市是中国的政治、文化、国际交流和科技创新中心。如果您需要更详细的地理信息，比如海拔、气候等，请告诉我，我会尽力提供相关信息。\"), ('访问天气查询网站或使用天气查询应用', '看起来在尝试访问天气查询网站或使用天气查询应用时，发生了一个错误，提示缺少了 \\'data\\' 键。这可能意味着在处理返回的数据时，我们试图访问一个不存在的数据字段。\\n\\n为了解决这个问题，我们需要检查天气查询服务的响应，并确保我们正确地解析了数据。由于我没有具体的代码或服务API的详细信息，我将提供一个通用的解决方案，你可以根据实际情况调整它。\\n\\n以下是一个示例代码，它尝试获取天气信息并处理可能出现的错误：\\n\\n```python\\n# 假设我们使用一个名为search的函数来获取天气数据\\ndef get_weather(city_name):\\n    try:\\n        # 调用天气查询服务\\n        weather_data = search(city_name)\\n        \\n        # 检查返回的数据中是否有\\'data\\'键\\n        if \\'data\\' in weather_data:\\n            # 正常处理数据\\n            return weather_data[\\'data\\']\\n        else:\\n            # 如果没有\\'data\\'键，打印错误信息或抛出异常\\n            print(\"Error: \\'data\\' key is missing in the response.\")\\n            return None\\n    except KeyError as e:\\n        # 捕获KeyError异常，打印错误信息\\n        print(f\"Error: {e}\")\\n        return None\\n    except Exception as e:\\n        # 捕获其他可能的异常，打印错误信息\\n        print(f\"An unexpected error occurred: {e}\")\\n        return None\\n\\n# 假设这是调用天气查询服务的函数\\ndef search(city_name):\\n    # 这里应该是调用天气查询服务的代码\\n    # 下面是一个模拟的返回值\\n    return {\\n        # 假设返回的数据结构应该是这样的，但实际中可能不同\\n        \"data\": {\\n            \"temperature\": 22,\\n            \"condition\": \"Sunny\"\\n        }\\n    }\\n\\n# 使用示例\\ncity_name = \"London\"\\nweather = get_weather(city_name)\\nif weather:\\n    print(weather)\\nelse:\\n    print(\"Failed to retrieve weather data.\")\\n```\\n\\n请注意，上面的代码是一个示例，实际的函数 `search` 应该是调用天气查询服务的代码，它可能会返回不同的数据结构。你需要根据实际的API文档来调整代码，确保正确地处理返回的数据。\\n\\n如果错误仍然存在，你可能需要检查以下几点：\\n\\n1. 确保API请求是成功的，并且返回了有效的JSON数据。\\n2. 确保你正确地解析了JSON数据，并且尝试访问的字段确实存在于返回的数据中。\\n3. 如果API有分页或数据结构变化，确保你的代码能够适应这些变化。'), ('访问天气查询网站或使用天气查询应用', '看起来在尝试访问天气查询网站或使用天气查询应用时，发生了一个错误，提示缺少了 \\'data\\' 键。这可能意味着在处理返回的数据时，我们试图访问一个不存在的数据字段。\\n\\n为了解决这个问题，我们需要检查天气查询服务的响应，并确保我们正确地解析了数据。由于我没有具体的代码或服务API的详细信息，我将提供一个通用的解决方案，你可以根据实际情况调整它。\\n\\n以下是一个示例代码，它尝试获取天气信息并处理可能出现的错误：\\n\\n```python\\n# 假设我们使用一个名为search的函数来获取天气数据\\ndef get_weather(city_name):\\n    try:\\n        # 调用天气查询服务\\n        weather_data = search(city_name)\\n        \\n        # 检查返回的数据中是否有\\'data\\'键\\n        if \\'data\\' in weather_data:\\n            # 正常处理数据\\n            return weather_data[\\'data\\']\\n        else:\\n            # 如果没有\\'data\\'键，打印错误信息或抛出异常\\n            print(\"Error: \\'data\\' key is missing in the response.\")\\n            return None\\n    except KeyError as e:\\n        # 捕获KeyError异常，打印错误信息\\n        print(f\"Error: {e}\")\\n        return None\\n    except Exception as e:\\n        # 捕获其他可能的异常，打印错误信息\\n        print(f\"An unexpected error occurred: {e}\")\\n        return None\\n\\n# 假设这是调用天气查询服务的函数\\ndef search(city_name):\\n    # 这里应该是调用天气查询服务的代码\\n    # 下面是一个模拟的返回值\\n    return {\\n        # 假设返回的数据结构应该是这样的，但实际中可能不同\\n        \"data\": {\\n            \"temperature\": 22,\\n            \"condition\": \"Sunny\"\\n        }\\n    }\\n\\n# 使用示例\\ncity_name = \"London\"\\nweather = get_weather(city_name)\\nif weather:\\n    print(weather)\\nelse:\\n    print(\"Failed to retrieve weather data.\")\\n```\\n\\n请注意，上面的代码是一个示例，实际的函数 `search` 应该是调用天气查询服务的代码，它可能会返回不同的数据结构。你需要根据实际的API文档来调整代码，确保正确地处理返回的数据。\\n\\n如果错误仍然存在，你可能需要检查以下几点：\\n\\n1. 确保API请求是成功的，并且返回了有效的JSON数据。\\n2. 确保你正确地解析了JSON数据，并且尝试访问的字段确实存在于返回的数据中。\\n3. 如果API有分页或数据结构变化，确保你的代码能够适应这些变化。'), ('重新尝试访问天气查询网站或使用天气查询应用', '看起来您尝试查询的天气服务不支持您指定的城市。这可能是因为该服务数据库中没有该城市的天气数据，或者该城市名称没有被正确识别。\\n\\n为了解决这个问题，您可以尝试以下几种方法：\\n\\n1. **检查城市名称**：确保您输入的城市名称是正确的，包括拼写和格式。有时候，城市的中文名和英文名可能会有所不同，或者城市名称可能有多种拼写方式。\\n\\n2. **使用城市拼音**：如果您使用的是中文城市名称，尝试使用拼音输入城市名称。\\n\\n3. **查询其他城市**：尝试查询其他城市的天气，以确认服务是否正常工作。\\n\\n4. **使用其他服务**：如果当前服务不支持您想要查询的城市，您可以尝试使用其他天气查询服务或应用。\\n\\n5. **联系客服**：如果以上方法都无法解决问题，您可以尝试联系该服务的客服，询问是否可以添加或更新城市数据。\\n\\n如果您需要进一步的帮助，请提供具体的城市名称，我可以尝试为您提供更多帮助。'), ('访问天气查询网站或使用天气查询应用', '看起来在尝试访问天气查询网站或使用天气查询应用时，发生了一个错误，提示缺少了 \\'data\\' 键。这可能意味着在处理返回的数据时，我们试图访问一个不存在的数据字段。\\n\\n为了解决这个问题，我们需要检查天气查询服务的响应，并确保我们正确地解析了数据。由于我没有具体的代码或服务API的详细信息，我将提供一个通用的解决方案，你可以根据实际情况调整它。\\n\\n以下是一个示例代码，它尝试获取天气信息并处理可能出现的错误：\\n\\n```python\\n# 假设我们使用一个名为search的函数来获取天气数据\\ndef get_weather(city_name):\\n    try:\\n        # 调用天气查询服务\\n        weather_data = search(city_name)\\n        \\n        # 检查返回的数据中是否有\\'data\\'键\\n        if \\'data\\' in weather_data:\\n            # 正常处理数据\\n            return weather_data[\\'data\\']\\n        else:\\n            # 如果没有\\'data\\'键，打印错误信息或抛出异常\\n            print(\"Error: \\'data\\' key is missing in the response.\")\\n            return None\\n    except KeyError as e:\\n        # 捕获KeyError异常，打印错误信息\\n        print(f\"Error: {e}\")\\n        return None\\n    except Exception as e:\\n        # 捕获其他可能的异常，打印错误信息\\n        print(f\"An unexpected error occurred: {e}\")\\n        return None\\n\\n# 假设这是调用天气查询服务的函数\\ndef search(city_name):\\n    # 这里应该是调用天气查询服务的代码\\n    # 下面是一个模拟的返回值\\n    return {\\n        # 假设返回的数据结构应该是这样的，但实际中可能不同\\n        \"data\": {\\n            \"temperature\": 22,\\n            \"condition\": \"Sunny\"\\n        }\\n    }\\n\\n# 使用示例\\ncity_name = \"London\"\\nweather = get_weather(city_name)\\nif weather:\\n    print(weather)\\nelse:\\n    print(\"Failed to retrieve weather data.\")\\n```\\n\\n请注意，上面的代码是一个示例，实际的函数 `search` 应该是调用天气查询服务的代码，它可能会返回不同的数据结构。你需要根据实际的API文档来调整代码，确保正确地处理返回的数据。\\n\\n如果错误仍然存在，你可能需要检查以下几点：\\n\\n1. 确保API请求是成功的，并且返回了有效的JSON数据。\\n2. 确保你正确地解析了JSON数据，并且尝试访问的字段确实存在于返回的数据中。\\n3. 如果API有分页或数据结构变化，确保你的代码能够适应这些变化。'), ('访问天气查询网站或使用天气查询应用', '看起来在尝试访问天气查询网站或使用天气查询应用时，发生了一个错误，提示缺少了 \\'data\\' 键。这可能意味着在处理返回的数据时，我们试图访问一个不存在的数据字段。\\n\\n为了解决这个问题，我们需要检查天气查询服务的响应，并确保我们正确地解析了数据。由于我没有具体的代码或服务API的详细信息，我将提供一个通用的解决方案，你可以根据实际情况调整它。\\n\\n以下是一个示例代码，它尝试获取天气信息并处理可能出现的错误：\\n\\n```python\\n# 假设我们使用一个名为search的函数来获取天气数据\\ndef get_weather(city_name):\\n    try:\\n        # 调用天气查询服务\\n        weather_data = search(city_name)\\n        \\n        # 检查返回的数据中是否有\\'data\\'键\\n        if \\'data\\' in weather_data:\\n            # 正常处理数据\\n            return weather_data[\\'data\\']\\n        else:\\n            # 如果没有\\'data\\'键，打印错误信息或抛出异常\\n            print(\"Error: \\'data\\' key is missing in the response.\")\\n            return None\\n    except KeyError as e:\\n        # 捕获KeyError异常，打印错误信息\\n        print(f\"Error: {e}\")\\n        return None\\n    except Exception as e:\\n        # 捕获其他可能的异常，打印错误信息\\n        print(f\"An unexpected error occurred: {e}\")\\n        return None\\n\\n# 假设这是调用天气查询服务的函数\\ndef search(city_name):\\n    # 这里应该是调用天气查询服务的代码\\n    # 下面是一个模拟的返回值\\n    return {\\n        # 假设返回的数据结构应该是这样的，但实际中可能不同\\n        \"data\": {\\n            \"temperature\": 22,\\n            \"condition\": \"Sunny\"\\n        }\\n    }\\n\\n# 使用示例\\ncity_name = \"London\"\\nweather = get_weather(city_name)\\nif weather:\\n    print(weather)\\nelse:\\n    print(\"Failed to retrieve weather data.\")\\n```\\n\\n请注意，上面的代码是一个示例，实际的函数 `search` 应该是调用天气查询服务的代码，它可能会返回不同的数据结构。你需要根据实际的API文档来调整代码，确保正确地处理返回的数据。\\n\\n如果错误仍然存在，你可能需要检查以下几点：\\n\\n1. 确保API请求是成功的，并且返回了有效的JSON数据。\\n2. 确保你正确地解析了JSON数据，并且尝试访问的字段确实存在于返回的数据中。\\n3. 如果API有分页或数据结构变化，确保你的代码能够适应这些变化。'), ('重新尝试访问天气查询网站或使用天气查询应用', '看起来您尝试查询的天气服务不支持您指定的城市。这可能是因为该服务数据库中没有该城市的天气数据，或者该城市名称没有被正确识别。\\n\\n为了解决这个问题，您可以尝试以下几种方法：\\n\\n1. **检查城市名称**：确保您输入的城市名称是正确的，包括拼写和格式。有时候，城市的中文名和英文名可能会有所不同，或者城市名称可能有多种拼写方式。\\n\\n2. **使用城市拼音**：如果您使用的是中文城市名称，尝试使用拼音输入城市名称。\\n\\n3. **查询其他城市**：尝试查询其他城市的天气，以确认服务是否正常工作。\\n\\n4. **使用其他服务**：如果当前服务不支持您想要查询的城市，您可以尝试使用其他天气查询服务或应用。\\n\\n5. **联系客服**：如果以上方法都无法解决问题，您可以尝试联系该服务的客服，询问是否可以添加或更新城市数据。\\n\\n如果您需要进一步的帮助，请提供具体的城市名称，我可以尝试为您提供更多帮助。'), ('输入北京的地理位置信息', \"很抱歉，看起来在尝试获取北京的地理位置信息时发生了错误。但是，您并没有提供具体的操作指令或者请求。如果您需要我提供北京的地理位置信息，我可以直接告诉您：\\n\\n北京是中华人民共和国的首都，位于中国华北地区，东经115°25'至117°30'，北纬39°28'至41°05'之间。北京的中心位置大约在东经116°40'，北纬39°90'。这座城市是中国的政治、文化、国际交流和科技创新中心。如果您需要更详细的地理信息，比如海拔、气候等，请告诉我，我会尽力提供相关信息。\"), ('重新尝试访问天气查询网站或使用天气查询应用', '看起来您尝试查询的天气服务不支持您指定的城市。这可能是因为该服务数据库中没有该城市的天气数据，或者该城市名称没有被正确识别。\\n\\n为了解决这个问题，您可以尝试以下几种方法：\\n\\n1. **检查城市名称**：确保您输入的城市名称是正确的，包括拼写和格式。有时候，城市的中文名和英文名可能会有所不同，或者城市名称可能有多种拼写方式。\\n\\n2. **使用城市拼音**：如果您使用的是中文城市名称，尝试使用拼音输入城市名称。\\n\\n3. **查询其他城市**：尝试查询其他城市的天气，以确认服务是否正常工作。\\n\\n4. **使用其他服务**：如果当前服务不支持您想要查询的城市，您可以尝试使用其他天气查询服务或应用。\\n\\n5. **联系客服**：如果以上方法都无法解决问题，您可以尝试联系该服务的客服，询问是否可以添加或更新城市数据。\\n\\n如果您需要进一步的帮助，请提供具体的城市名称，我可以尝试为您提供更多帮助。'), ('重新尝试访问天气查询网站或使用天气查询应用', '看起来您尝试查询的天气服务不支持您指定的城市。这可能是因为该服务数据库中没有该城市的天气数据，或者该城市名称没有被正确识别。\\n\\n为了解决这个问题，您可以尝试以下几种方法：\\n\\n1. **检查城市名称**：确保您输入的城市名称是正确的，包括拼写和格式。有时候，城市的中文名和英文名可能会有所不同，或者城市名称可能有多种拼写方式。\\n\\n2. **使用城市拼音**：如果您使用的是中文城市名称，尝试使用拼音输入城市名称。\\n\\n3. **查询其他城市**：尝试查询其他城市的天气，以确认服务是否正常工作。\\n\\n4. **使用其他服务**：如果当前服务不支持您想要查询的城市，您可以尝试使用其他天气查询服务或应用。\\n\\n5. **联系客服**：如果以上方法都无法解决问题，您可以尝试联系该服务的客服，询问是否可以添加或更新城市数据。\\n\\n如果您需要进一步的帮助，请提供具体的城市名称，我可以尝试为您提供更多帮助。')]}\n"
     ]
    },
    {
     "ename": "GraphRecursionError",
     "evalue": "Recursion limit of 10 reached without hitting a stop condition. You can increase the limit by setting the `recursion_limit` config key.\nFor troubleshooting, visit: https://python.langchain.com/docs/troubleshooting/errors/GRAPH_RECURSION_LIMIT",
     "output_type": "error",
     "traceback": [
      "\u001b[31m---------------------------------------------------------------------------\u001b[39m",
      "\u001b[31mGraphRecursionError\u001b[39m                       Traceback (most recent call last)",
      "\u001b[36mCell\u001b[39m\u001b[36m \u001b[39m\u001b[32mIn[44]\u001b[39m\u001b[32m, line 6\u001b[39m\n\u001b[32m      4\u001b[39m inputs = {\u001b[33m\"\u001b[39m\u001b[33minput\u001b[39m\u001b[33m\"\u001b[39m: \u001b[33m\"\u001b[39m\u001b[33m北京今天的天气怎么样？\u001b[39m\u001b[33m\"\u001b[39m}\n\u001b[32m      5\u001b[39m \u001b[38;5;66;03m# 异步执行状态图，输出结果\u001b[39;00m\n\u001b[32m----> \u001b[39m\u001b[32m6\u001b[39m \u001b[38;5;28;43;01mfor\u001b[39;49;00m\u001b[43m \u001b[49m\u001b[43mevent\u001b[49m\u001b[43m \u001b[49m\u001b[38;5;129;43;01min\u001b[39;49;00m\u001b[43m \u001b[49m\u001b[43mapp\u001b[49m\u001b[43m.\u001b[49m\u001b[43mstream\u001b[49m\u001b[43m(\u001b[49m\u001b[43minputs\u001b[49m\u001b[43m,\u001b[49m\u001b[43m \u001b[49m\u001b[43mconfig\u001b[49m\u001b[43m=\u001b[49m\u001b[43mconfig\u001b[49m\u001b[43m)\u001b[49m\u001b[43m:\u001b[49m\n\u001b[32m      7\u001b[39m \u001b[43m    \u001b[49m\u001b[38;5;66;43;03m# print(event)\u001b[39;49;00m\n\u001b[32m      8\u001b[39m \u001b[43m    \u001b[49m\u001b[38;5;28;43;01mfor\u001b[39;49;00m\u001b[43m \u001b[49m\u001b[43mk\u001b[49m\u001b[43m,\u001b[49m\u001b[43m \u001b[49m\u001b[43mv\u001b[49m\u001b[43m \u001b[49m\u001b[38;5;129;43;01min\u001b[39;49;00m\u001b[43m \u001b[49m\u001b[43mevent\u001b[49m\u001b[43m.\u001b[49m\u001b[43mitems\u001b[49m\u001b[43m(\u001b[49m\u001b[43m)\u001b[49m\u001b[43m:\u001b[49m\n\u001b[32m      9\u001b[39m \u001b[43m        \u001b[49m\u001b[38;5;28;43;01mif\u001b[39;49;00m\u001b[43m \u001b[49m\u001b[43mk\u001b[49m\u001b[43m \u001b[49m\u001b[43m!=\u001b[49m\u001b[43m \u001b[49m\u001b[33;43m\"\u001b[39;49m\u001b[33;43m__end__\u001b[39;49m\u001b[33;43m\"\u001b[39;49m\u001b[43m:\u001b[49m\n",
      "\u001b[36mFile \u001b[39m\u001b[32mD:\\02File\\05练习项目\\04llm_learning\\myenv\\Lib\\site-packages\\langgraph\\pregel\\__init__.py:2453\u001b[39m, in \u001b[36mPregel.stream\u001b[39m\u001b[34m(self, input, config, stream_mode, output_keys, interrupt_before, interrupt_after, checkpoint_during, debug, subgraphs)\u001b[39m\n\u001b[32m   2444\u001b[39m \u001b[38;5;28;01mif\u001b[39;00m loop.status == \u001b[33m\"\u001b[39m\u001b[33mout_of_steps\u001b[39m\u001b[33m\"\u001b[39m:\n\u001b[32m   2445\u001b[39m     msg = create_error_message(\n\u001b[32m   2446\u001b[39m         message=(\n\u001b[32m   2447\u001b[39m             \u001b[33mf\u001b[39m\u001b[33m\"\u001b[39m\u001b[33mRecursion limit of \u001b[39m\u001b[38;5;132;01m{\u001b[39;00mconfig[\u001b[33m'\u001b[39m\u001b[33mrecursion_limit\u001b[39m\u001b[33m'\u001b[39m]\u001b[38;5;132;01m}\u001b[39;00m\u001b[33m reached \u001b[39m\u001b[33m\"\u001b[39m\n\u001b[32m   (...)\u001b[39m\u001b[32m   2451\u001b[39m         error_code=ErrorCode.GRAPH_RECURSION_LIMIT,\n\u001b[32m   2452\u001b[39m     )\n\u001b[32m-> \u001b[39m\u001b[32m2453\u001b[39m     \u001b[38;5;28;01mraise\u001b[39;00m GraphRecursionError(msg)\n\u001b[32m   2454\u001b[39m \u001b[38;5;66;03m# set final channel values as run output\u001b[39;00m\n\u001b[32m   2455\u001b[39m run_manager.on_chain_end(loop.output)\n",
      "\u001b[31mGraphRecursionError\u001b[39m: Recursion limit of 10 reached without hitting a stop condition. You can increase the limit by setting the `recursion_limit` config key.\nFor troubleshooting, visit: https://python.langchain.com/docs/troubleshooting/errors/GRAPH_RECURSION_LIMIT"
     ]
    }
   ],
   "source": [
    "# 设置配置，递归限制为10\n",
    "config = {\"recursion_limit\": 10}\n",
    "# 输入数据\n",
    "inputs = {\"input\": \"北京今天的天气怎么样？\"}\n",
    "# 异步执行状态图，输出结果\n",
    "for event in app.stream(inputs, config=config):\n",
    "    # print(event)\n",
    "    for k, v in event.items():\n",
    "        if k != \"__end__\":\n",
    "            print(v)"
   ]
  },
  {
   "cell_type": "code",
   "execution_count": 146,
   "metadata": {},
   "outputs": [
    {
     "name": "stdout",
     "output_type": "stream",
     "text": [
      "{'plan': ['计算括号内的2+3的结果，等于5', '计算3*5的结果，等于15', '计算1+15的结果，等于16', '计算16-4的结果，等于12，为最终答案']}\n",
      "{'plan': ['计算括号内的2+3的结果，等于5', '计算3*5的结果，等于15', '计算1+15的结果，等于16', '计算16-4的结果，等于12，为最终答案']}\n",
      "{'past_steps': [('计算括号内的2+3的结果，等于5', '计算括号内的2+3的结果确实等于5。这是因为：\\n\\n2 + 3 = 5\\n\\n这是一个简单的数学加法运算。')]}\n",
      "{'plan': ['计算3*5的结果，等于15', '计算1+15的结果，等于16', '计算16-4的结果，等于12，为最终答案']}\n",
      "{'past_steps': [('计算括号内的2+3的结果，等于5', '计算括号内的2+3的结果确实等于5。这是因为：\\n\\n2 + 3 = 5\\n\\n这是一个简单的数学加法运算。'), ('计算3*5的结果，等于15', '是的，3 乘以 5 的结果是 15。这是一个简单的乘法运算。')]}\n",
      "{'plan': ['计算1+15的结果，等于16']}\n",
      "{'past_steps': [('计算括号内的2+3的结果，等于5', '计算括号内的2+3的结果确实等于5。这是因为：\\n\\n2 + 3 = 5\\n\\n这是一个简单的数学加法运算。'), ('计算括号内的2+3的结果，等于5', '计算括号内的2+3的结果确实等于5。这是因为：\\n\\n2 + 3 = 5\\n\\n这是一个简单的数学加法运算。'), ('计算3*5的结果，等于15', '是的，3 乘以 5 的结果是 15。这是一个简单的乘法运算。'), ('计算1+15的结果，等于16', '计算1+15的结果确实是16。这是一个简单的加法运算。')]}\n",
      "{'plan': ['计算1+3*（2+3）-4的结果']}\n",
      "{'past_steps': [('计算括号内的2+3的结果，等于5', '计算括号内的2+3的结果确实等于5。这是因为：\\n\\n2 + 3 = 5\\n\\n这是一个简单的数学加法运算。'), ('计算括号内的2+3的结果，等于5', '计算括号内的2+3的结果确实等于5。这是因为：\\n\\n2 + 3 = 5\\n\\n这是一个简单的数学加法运算。'), ('计算3*5的结果，等于15', '是的，3 乘以 5 的结果是 15。这是一个简单的乘法运算。'), ('计算括号内的2+3的结果，等于5', '计算括号内的2+3的结果确实等于5。这是因为：\\n\\n2 + 3 = 5\\n\\n这是一个简单的数学加法运算。'), ('计算括号内的2+3的结果，等于5', '计算括号内的2+3的结果确实等于5。这是因为：\\n\\n2 + 3 = 5\\n\\n这是一个简单的数学加法运算。'), ('计算3*5的结果，等于15', '是的，3 乘以 5 的结果是 15。这是一个简单的乘法运算。'), ('计算1+15的结果，等于16', '计算1+15的结果确实是16。这是一个简单的加法运算。'), ('计算1+3*（2+3）-4的结果', '要计算表达式 1 + 3 * (2 + 3) - 4 的结果，我们需要遵循数学中的运算顺序，即先进行括号内的运算，然后是乘法和除法，最后是加法和减法。\\n\\n首先计算括号内的表达式：\\n2 + 3 = 5\\n\\n然后将结果乘以3：\\n3 * 5 = 15\\n\\n接下来，将1加到上一步的结果上：\\n1 + 15 = 16\\n\\n最后，从上一步的结果中减去4：\\n16 - 4 = 12\\n\\n所以，表达式 1 + 3 * (2 + 3) - 4 的结果是 12。')]}\n",
      "{'plan': ['计算括号内的2+3的结果，等于5', '计算3*5的结果，等于15', '计算1+15的结果，等于16', '计算1+3*（2+3）-4的结果']}\n",
      "{'past_steps': [('计算括号内的2+3的结果，等于5', '计算括号内的2+3的结果确实等于5。这是因为：\\n\\n2 + 3 = 5\\n\\n这是一个简单的数学加法运算。'), ('计算括号内的2+3的结果，等于5', '计算括号内的2+3的结果确实等于5。这是因为：\\n\\n2 + 3 = 5\\n\\n这是一个简单的数学加法运算。'), ('计算3*5的结果，等于15', '是的，3 乘以 5 的结果是 15。这是一个简单的乘法运算。'), ('计算括号内的2+3的结果，等于5', '计算括号内的2+3的结果确实等于5。这是因为：\\n\\n2 + 3 = 5\\n\\n这是一个简单的数学加法运算。'), ('计算括号内的2+3的结果，等于5', '计算括号内的2+3的结果确实等于5。这是因为：\\n\\n2 + 3 = 5\\n\\n这是一个简单的数学加法运算。'), ('计算3*5的结果，等于15', '是的，3 乘以 5 的结果是 15。这是一个简单的乘法运算。'), ('计算1+15的结果，等于16', '计算1+15的结果确实是16。这是一个简单的加法运算。'), ('计算括号内的2+3的结果，等于5', '计算括号内的2+3的结果确实等于5。这是因为：\\n\\n2 + 3 = 5\\n\\n这是一个简单的数学加法运算。'), ('计算括号内的2+3的结果，等于5', '计算括号内的2+3的结果确实等于5。这是因为：\\n\\n2 + 3 = 5\\n\\n这是一个简单的数学加法运算。'), ('计算3*5的结果，等于15', '是的，3 乘以 5 的结果是 15。这是一个简单的乘法运算。'), ('计算括号内的2+3的结果，等于5', '计算括号内的2+3的结果确实等于5。这是因为：\\n\\n2 + 3 = 5\\n\\n这是一个简单的数学加法运算。'), ('计算括号内的2+3的结果，等于5', '计算括号内的2+3的结果确实等于5。这是因为：\\n\\n2 + 3 = 5\\n\\n这是一个简单的数学加法运算。'), ('计算3*5的结果，等于15', '是的，3 乘以 5 的结果是 15。这是一个简单的乘法运算。'), ('计算1+15的结果，等于16', '计算1+15的结果确实是16。这是一个简单的加法运算。'), ('计算1+3*（2+3）-4的结果', '要计算表达式 1 + 3 * (2 + 3) - 4 的结果，我们需要遵循数学中的运算顺序，即先进行括号内的运算，然后是乘法和除法，最后是加法和减法。\\n\\n首先计算括号内的表达式：\\n2 + 3 = 5\\n\\n然后将结果乘以3：\\n3 * 5 = 15\\n\\n接下来，将1加到上一步的结果上：\\n1 + 15 = 16\\n\\n最后，从上一步的结果中减去4：\\n16 - 4 = 12\\n\\n所以，表达式 1 + 3 * (2 + 3) - 4 的结果是 12。'), ('计算括号内的2+3的结果，等于5', '计算括号内的2+3的结果确实等于5。这是因为：\\n\\n2 + 3 = 5\\n\\n这是一个简单的数学加法运算。')]}\n"
     ]
    },
    {
     "ename": "GraphRecursionError",
     "evalue": "Recursion limit of 10 reached without hitting a stop condition. You can increase the limit by setting the `recursion_limit` config key.\nFor troubleshooting, visit: https://python.langchain.com/docs/troubleshooting/errors/GRAPH_RECURSION_LIMIT",
     "output_type": "error",
     "traceback": [
      "\u001b[31m---------------------------------------------------------------------------\u001b[39m",
      "\u001b[31mGraphRecursionError\u001b[39m                       Traceback (most recent call last)",
      "\u001b[36mCell\u001b[39m\u001b[36m \u001b[39m\u001b[32mIn[146]\u001b[39m\u001b[32m, line 6\u001b[39m\n\u001b[32m      4\u001b[39m inputs = {\u001b[33m\"\u001b[39m\u001b[33minput\u001b[39m\u001b[33m\"\u001b[39m: \u001b[33m\"\u001b[39m\u001b[33m计算1+3*（2+3）-4的结果。\u001b[39m\u001b[33m\"\u001b[39m}\n\u001b[32m      5\u001b[39m \u001b[38;5;66;03m# 异步执行状态图，输出结果\u001b[39;00m\n\u001b[32m----> \u001b[39m\u001b[32m6\u001b[39m \u001b[38;5;28;43;01mfor\u001b[39;49;00m\u001b[43m \u001b[49m\u001b[43mevent\u001b[49m\u001b[43m \u001b[49m\u001b[38;5;129;43;01min\u001b[39;49;00m\u001b[43m \u001b[49m\u001b[43mapp\u001b[49m\u001b[43m.\u001b[49m\u001b[43mstream\u001b[49m\u001b[43m(\u001b[49m\u001b[43minputs\u001b[49m\u001b[43m,\u001b[49m\u001b[43m \u001b[49m\u001b[43mconfig\u001b[49m\u001b[43m=\u001b[49m\u001b[43mconfig\u001b[49m\u001b[43m)\u001b[49m\u001b[43m:\u001b[49m\n\u001b[32m      7\u001b[39m \u001b[43m    \u001b[49m\u001b[38;5;66;43;03m# print(event)\u001b[39;49;00m\n\u001b[32m      8\u001b[39m \u001b[43m    \u001b[49m\u001b[38;5;28;43;01mfor\u001b[39;49;00m\u001b[43m \u001b[49m\u001b[43mk\u001b[49m\u001b[43m,\u001b[49m\u001b[43m \u001b[49m\u001b[43mv\u001b[49m\u001b[43m \u001b[49m\u001b[38;5;129;43;01min\u001b[39;49;00m\u001b[43m \u001b[49m\u001b[43mevent\u001b[49m\u001b[43m.\u001b[49m\u001b[43mitems\u001b[49m\u001b[43m(\u001b[49m\u001b[43m)\u001b[49m\u001b[43m:\u001b[49m\n\u001b[32m      9\u001b[39m \u001b[43m        \u001b[49m\u001b[38;5;28;43;01mif\u001b[39;49;00m\u001b[43m \u001b[49m\u001b[43mk\u001b[49m\u001b[43m \u001b[49m\u001b[43m!=\u001b[49m\u001b[43m \u001b[49m\u001b[33;43m\"\u001b[39;49m\u001b[33;43m__end__\u001b[39;49m\u001b[33;43m\"\u001b[39;49m\u001b[43m:\u001b[49m\n",
      "\u001b[36mFile \u001b[39m\u001b[32mD:\\02File\\05练习项目\\04llm_learning\\myenv\\Lib\\site-packages\\langgraph\\pregel\\__init__.py:2453\u001b[39m, in \u001b[36mPregel.stream\u001b[39m\u001b[34m(self, input, config, stream_mode, output_keys, interrupt_before, interrupt_after, checkpoint_during, debug, subgraphs)\u001b[39m\n\u001b[32m   2444\u001b[39m \u001b[38;5;28;01mif\u001b[39;00m loop.status == \u001b[33m\"\u001b[39m\u001b[33mout_of_steps\u001b[39m\u001b[33m\"\u001b[39m:\n\u001b[32m   2445\u001b[39m     msg = create_error_message(\n\u001b[32m   2446\u001b[39m         message=(\n\u001b[32m   2447\u001b[39m             \u001b[33mf\u001b[39m\u001b[33m\"\u001b[39m\u001b[33mRecursion limit of \u001b[39m\u001b[38;5;132;01m{\u001b[39;00mconfig[\u001b[33m'\u001b[39m\u001b[33mrecursion_limit\u001b[39m\u001b[33m'\u001b[39m]\u001b[38;5;132;01m}\u001b[39;00m\u001b[33m reached \u001b[39m\u001b[33m\"\u001b[39m\n\u001b[32m   (...)\u001b[39m\u001b[32m   2451\u001b[39m         error_code=ErrorCode.GRAPH_RECURSION_LIMIT,\n\u001b[32m   2452\u001b[39m     )\n\u001b[32m-> \u001b[39m\u001b[32m2453\u001b[39m     \u001b[38;5;28;01mraise\u001b[39;00m GraphRecursionError(msg)\n\u001b[32m   2454\u001b[39m \u001b[38;5;66;03m# set final channel values as run output\u001b[39;00m\n\u001b[32m   2455\u001b[39m run_manager.on_chain_end(loop.output)\n",
      "\u001b[31mGraphRecursionError\u001b[39m: Recursion limit of 10 reached without hitting a stop condition. You can increase the limit by setting the `recursion_limit` config key.\nFor troubleshooting, visit: https://python.langchain.com/docs/troubleshooting/errors/GRAPH_RECURSION_LIMIT"
     ]
    }
   ],
   "source": [
    "# 设置配置，递归限制为10\n",
    "config = {\"recursion_limit\": 10}\n",
    "# 输入数据\n",
    "inputs = {\"input\": \"计算1+3*（2+3）-4的结果。\"}\n",
    "# 异步执行状态图，输出结果\n",
    "for event in app.stream(inputs, config=config):\n",
    "    # print(event)\n",
    "    for k, v in event.items():\n",
    "        if k != \"__end__\":\n",
    "            print(v)"
   ]
  },
  {
   "cell_type": "code",
   "execution_count": null,
   "metadata": {},
   "outputs": [],
   "source": []
  }
 ],
 "metadata": {
  "kernelspec": {
   "display_name": "Python 3 (ipykernel)",
   "language": "python",
   "name": "python3"
  },
  "language_info": {
   "codemirror_mode": {
    "name": "ipython",
    "version": 3
   },
   "file_extension": ".py",
   "mimetype": "text/x-python",
   "name": "python",
   "nbconvert_exporter": "python",
   "pygments_lexer": "ipython3",
   "version": "3.12.7"
  }
 },
 "nbformat": 4,
 "nbformat_minor": 4
}
