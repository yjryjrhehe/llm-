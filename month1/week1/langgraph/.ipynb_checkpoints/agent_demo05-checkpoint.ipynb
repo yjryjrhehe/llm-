{
 "cells": [
  {
   "cell_type": "code",
   "execution_count": 22,
   "metadata": {
    "vscode": {
     "languageId": "plaintext"
    }
   },
   "outputs": [],
   "source": [
    "import operator\n",
    "from typing import Annotated, List, Tuple, TypedDict\n",
    "import os\n",
    "from dotenv import load_dotenv\n",
    "from typing import Literal\n",
    "from langchain_core.messages import HumanMessage, AIMessage\n",
    "from langchain_core.tools import tool\n",
    "from langchain_community.chat_models import ChatZhipuAI\n",
    "# pip install langgraph\n",
    "from langgraph.checkpoint.memory import MemorySaver\n",
    "from langgraph.graph import END, START, StateGraph, MessagesState\n",
    "from langgraph.prebuilt import ToolNode\n",
    "import requests\n",
    "import json\n",
    "from tools import search\n",
    "import json"
   ]
  },
  {
   "cell_type": "code",
   "execution_count": 14,
   "metadata": {
    "vscode": {
     "languageId": "plaintext"
    }
   },
   "outputs": [],
   "source": [
    "# 加载 .env 文件中的环境变量\n",
    "load_dotenv(dotenv_path='D:/02File/05练习项目/04llm_learning/KEYs.env', override=True)\n",
    "# 获取 API 密钥\n",
    "llm_api_key = os.environ[\"ZHIPUAI_API_KEY\"] \n",
    "tavily_api_key = os.environ[\"TAVILY_API_KEY\"]\n",
    "\n",
    "llm = ChatZhipuAI(\n",
    "    model=\"GLM-4-Air\",\n",
    "    api_key=llm_api_key,\n",
    "    temperature=0\n",
    ")\n",
    "\n",
    "\n",
    "# 定义一个TypedDict类PlanExecute，用于存储输入、计划、过去的步骤和响应\n",
    "class PlanExecute(TypedDict):\n",
    "    input: str\n",
    "    plan: List[str]\n",
    "    past_steps: Annotated[List[Tuple], operator.add]\n",
    "    response: str\n",
    "\n",
    "from pydantic import BaseModel, Field"
   ]
  },
  {
   "cell_type": "code",
   "execution_count": 124,
   "metadata": {},
   "outputs": [],
   "source": [
    "# 定义工具函数，用于代理调用外部工具\n",
    "from langchain_community.tools.tavily_search import TavilySearchResults\n",
    "tavily_api_key = os.environ[\"TAVILY_API_KEY\"]\n",
    "# 创建TavilySearchResults工具，设置最大结果数为1\n",
    "tools = [TavilySearchResults(max_results=1, tavily_api_key=tavily_api_key)]"
   ]
  },
  {
   "cell_type": "code",
   "execution_count": 125,
   "metadata": {},
   "outputs": [],
   "source": [
    "from langgraph.prebuilt import create_react_agent\n",
    "\n",
    "# 从LangChain的Hub中获取prompt模板，可以进行修改\n",
    "# prompt = hub.pull(\"wfh/react-agent-executor\")\n",
    "# prompt.pretty_print()\n",
    "\n",
    "# 创建一个REACT代理执行器，使用指定的LLM和工具，并应用从Hub中获取的prompt\n",
    "agent_executor = create_react_agent(llm, tools)"
   ]
  },
  {
   "cell_type": "code",
   "execution_count": 129,
   "metadata": {},
   "outputs": [
    {
     "data": {
      "text/plain": [
       "{'messages': [HumanMessage(content='查找2024年巴黎奥运会100米自由泳决赛冠军', additional_kwargs={}, response_metadata={}, id='d574a847-ff50-409b-b017-3d7e288fe24b'),\n",
       "  AIMessage(content='', additional_kwargs={'tool_calls': [{'function': {'arguments': '{\"query\": \"2024年巴黎奥运会100米自由泳决赛冠军\"}', 'name': 'tavily_search_results_json'}, 'id': 'call_-8751680482070084797', 'index': 0, 'type': 'function'}]}, response_metadata={'token_usage': {'completion_tokens': 24, 'prompt_tokens': 200, 'total_tokens': 224}, 'model_name': 'GLM-4-Air', 'finish_reason': 'tool_calls'}, id='run-384049e5-7fbb-4429-9a43-ccbe81c1c404-0', tool_calls=[{'name': 'tavily_search_results_json', 'args': {'query': '2024年巴黎奥运会100米自由泳决赛冠军'}, 'id': 'call_-8751680482070084797', 'type': 'tool_call'}]),\n",
       "  ToolMessage(content='[{\"title\": \"男子100米决赛| 游泳| 2024年巴黎奥运会 - Olympics.com\", \"url\": \"https://www.olympics.com/zh/video/men-s-100m-freestyle-final-swimming-olympic-games-paris-2024\", \"content\": \"巴黎奥运会游泳男子100米自由泳决赛于2024年7月31日在巴黎拉德芳斯体育馆举行。潘展乐（中国）以46.40秒的新世界纪录成绩夺得金牌。\", \"score\": 0.94301796}]', name='tavily_search_results_json', id='993155ca-8c36-45f9-82e6-93b36ab53738', tool_call_id='call_-8751680482070084797', artifact={'query': '2024年巴黎奥运会100米自由泳决赛冠军', 'follow_up_questions': None, 'answer': None, 'images': [], 'results': [{'url': 'https://www.olympics.com/zh/video/men-s-100m-freestyle-final-swimming-olympic-games-paris-2024', 'title': '男子100米决赛| 游泳| 2024年巴黎奥运会 - Olympics.com', 'content': '巴黎奥运会游泳男子100米自由泳决赛于2024年7月31日在巴黎拉德芳斯体育馆举行。潘展乐（中国）以46.40秒的新世界纪录成绩夺得金牌。', 'score': 0.94301796, 'raw_content': None}], 'response_time': 1.15}),\n",
       "  AIMessage(content='2024年巴黎奥运会男子100米自由泳决赛的冠军是中国选手潘展乐，他以46.40秒的新世界纪录成绩夺得了金牌。', additional_kwargs={}, response_metadata={'token_usage': {'completion_tokens': 34, 'prompt_tokens': 326, 'total_tokens': 360}, 'model_name': 'GLM-4-Air', 'finish_reason': 'stop'}, id='run-c4d404a4-dd91-4380-96f6-85cc3bc844a0-0')]}"
      ]
     },
     "execution_count": 129,
     "metadata": {},
     "output_type": "execute_result"
    }
   ],
   "source": [
    "agent_executor.invoke({\"messages\": [(\"user\", \"查找2024年巴黎奥运会100米自由泳决赛冠军\")]})"
   ]
  },
  {
   "cell_type": "code",
   "execution_count": 112,
   "metadata": {},
   "outputs": [],
   "source": [
    "import re\n",
    "def extract_all_matches_or_return_full_text(text):\n",
    "    pattern = r\"'''json\\s*([\\s\\S]*?)\\s*'''\"\n",
    "    matches = re.findall(pattern, text)\n",
    "    \n",
    "    if matches:\n",
    "        # 如果有匹配项，返回所有匹配结果组成的字符串\n",
    "        return \"\\n\".join(match.strip() for match in matches)\n",
    "    else:\n",
    "        # 如果没有匹配项，返回整个文本\n",
    "        return text\n"
   ]
  },
  {
   "cell_type": "code",
   "execution_count": 17,
   "metadata": {},
   "outputs": [],
   "source": [
    "# 定义一个Plan模型类，用于描述未来要执行的计划\n",
    "class Plan(BaseModel):\n",
    "    \"\"\"未来要执行的计划\"\"\"\n",
    "\n",
    "    steps: List[str] = Field(\n",
    "        description=\"需要执行的不同步骤，应该按顺序排列\"\n",
    "    )"
   ]
  },
  {
   "cell_type": "code",
   "execution_count": 118,
   "metadata": {},
   "outputs": [],
   "source": [
    "from langchain_core.prompts import ChatPromptTemplate\n",
    "\n",
    "# 创建一个计划生成的提示模板\n",
    "planner_prompt = ChatPromptTemplate.from_template(\"\"\"\n",
    "    你是一位高效的助手，擅长将复杂的任务分解为一系列简单、具体的步骤，以确保任务可以被准确无误地完成。\n",
    "\n",
    "    要求：\n",
    "    - 你的回答应该直接针对上述目标，提出一个简明的逐步计划。\n",
    "    - 每个步骤都应该是独立且必需的，如果按顺序正确执行这些步骤，将会得到正确的最终答案。\n",
    "    - 避免添加任何不必要的步骤或额外解释。\n",
    "    - 确保每一步骤都包含了所有必要的信息，不跳过任何关键细节。\n",
    "    - 最后一个步骤应当能够直接获得最终的答案。\n",
    "    - 输出结果的前后不要出现\"json\"或单引号等无关字符串。\n",
    "\n",
    "    根据以上要求，以下是基于示例目标的生成逐步计划：\n",
    "    示例：\n",
    "    “计算从2023年1月1日至2025年5月4日之间的总天数。”\n",
    "\n",
    "    结果：\n",
    "    '''\n",
    "    {{\n",
    "    \"plan\":[\n",
    "    \"确认起始日期为2023年1月1日，结束日期为2025年5月4日\",\n",
    "    \"计算2023年的剩余天数（从1月1日起）\",\n",
    "    \"加上2024年的全年天数（注意检查是否为闰年）\",\n",
    "    \"加上2025年直到5月4日为止的天数\",\n",
    "    \"将上述步骤中得到的所有天数加起来，得出总天数作为最终答案\"\n",
    "    ]\n",
    "    }}\n",
    "    '''\n",
    "\n",
    "    现在，请根据上述格式和要求，为以下目标制定一个逐步计划：\n",
    "    {messages}\n",
    "    \"\"\")"
   ]
  },
  {
   "cell_type": "code",
   "execution_count": 113,
   "metadata": {},
   "outputs": [],
   "source": [
    "def parse_plan(res: AIMessage) -> List[str]:\n",
    "    \"\"\"\n",
    "    解析计划字符串，将其转换为列表。\n",
    "    \"\"\"\n",
    "    plan =  extract_all_matches_or_return_full_text(res.content)\n",
    "    # 使用json.loads将字符串转换为Python列表\n",
    "    try:\n",
    "        return json.loads(plan)\n",
    "    except json.JSONDecodeError:\n",
    "        # 如果解析失败，返回一个空列表\n",
    "        return []"
   ]
  },
  {
   "cell_type": "code",
   "execution_count": 119,
   "metadata": {},
   "outputs": [
    {
     "name": "stdout",
     "output_type": "stream",
     "text": [
      "{'plan': ['确定2024年巴黎奥运会100米自由泳决赛的冠军', '查找该冠军的个人信息', '在个人信息公开信息中找到其家乡']}\n"
     ]
    }
   ],
   "source": [
    "# 使用指定的提示模板创建一个计划生成器，使用OpenAI的ChatGPT-4o模型\n",
    "# planner = planner_prompt | llm.with_structured_output(Plan, include_raw=True)\n",
    "planner = planner_prompt | llm\n",
    "\n",
    "# 调用计划生成器，询问“当前澳大利亚公开赛冠军的家乡是哪里？”\n",
    "res = planner.invoke({\"messages\":\"2024年巴黎奥运会100米自由泳决赛冠军的家乡是哪里?请用中文答复\"})\n",
    "\n",
    "# 转换为 Python 列表\n",
    "res_list = json.loads(res.content)\n",
    "\n",
    "print(res_list)"
   ]
  },
  {
   "cell_type": "code",
   "execution_count": 120,
   "metadata": {},
   "outputs": [
    {
     "data": {
      "text/plain": [
       "AIMessage(content='{\\n\"plan\":[\\n\"确定2024年巴黎奥运会100米自由泳决赛的冠军\",\\n\"查找该冠军的个人信息\",\\n\"在个人信息公开信息中找到其家乡\"\\n]\\n}', additional_kwargs={}, response_metadata={'token_usage': {'completion_tokens': 41, 'prompt_tokens': 338, 'total_tokens': 379}, 'model_name': 'GLM-4-Air', 'finish_reason': 'stop'}, id='run-03bcdaae-14b2-4993-a9bb-5e9457dce91c-0')"
      ]
     },
     "execution_count": 120,
     "metadata": {},
     "output_type": "execute_result"
    }
   ],
   "source": [
    "res"
   ]
  },
  {
   "cell_type": "code",
   "execution_count": 121,
   "metadata": {},
   "outputs": [],
   "source": [
    "planner = planner_prompt | llm | parse_plan"
   ]
  },
  {
   "cell_type": "code",
   "execution_count": 122,
   "metadata": {},
   "outputs": [
    {
     "data": {
      "text/plain": [
       "{'plan': ['确定2024年巴黎奥运会100米自由泳决赛的冠军', '查找该冠军的个人信息', '在个人信息公开信息中找到其家乡']}"
      ]
     },
     "execution_count": 122,
     "metadata": {},
     "output_type": "execute_result"
    }
   ],
   "source": [
    "planner.invoke({\"messages\":\"2024年巴黎奥运会100米自由泳决赛冠军的家乡是哪里?请用中文答复\"})"
   ]
  },
  {
   "cell_type": "code",
   "execution_count": 20,
   "metadata": {},
   "outputs": [
    {
     "data": {
      "text/plain": [
       "AIMessage(content='[\\n    \"查找现任澳网冠军的信息\",\\n    \"确认澳网冠军的姓名\",\\n    \"搜索该冠军的个人信息或传记资料\",\\n    \"在资料中找到其家乡信息\",\\n    \"记录下澳网冠军的家乡作为最终答案\"\\n]', additional_kwargs={}, response_metadata={'token_usage': {'completion_tokens': 57, 'prompt_tokens': 330, 'total_tokens': 387}, 'model_name': 'GLM-4-Air', 'finish_reason': 'stop'}, id='run-0bdd912a-689b-4cfe-8efb-5ede75781e26-0')"
      ]
     },
     "execution_count": 20,
     "metadata": {},
     "output_type": "execute_result"
    }
   ],
   "source": [
    "res"
   ]
  },
  {
   "cell_type": "code",
   "execution_count": 62,
   "metadata": {},
   "outputs": [],
   "source": [
    "from typing import Union\n",
    "\n",
    "\n",
    "# 定义一个响应模型类，用于描述用户的响应\n",
    "class Response(BaseModel):\n",
    "    \"\"\"用户响应\"\"\"\n",
    "\n",
    "    response: str\n",
    "\n",
    "\n",
    "# 定义一个行为模型类，用于描述要执行的行为\n",
    "class Act(BaseModel):\n",
    "    \"\"\"要执行的行为\"\"\"\n",
    "\n",
    "    action: Union[Response, Plan] = Field(\n",
    "        description=\"要执行的行为。如果要回应用户，使用Response。如果需要进一步使用工具获取答案，使用Plan。\"\n",
    "    )\n",
    "\n",
    "\n",
    "# 创建一个重新计划的提示模板\n",
    "replanner_prompt = ChatPromptTemplate.from_template(\n",
    "    \"\"\"\n",
    "    你是一个擅长任务拆解和计划更新的助手。你的任务是根据给定的目标、原始计划和已完成的步骤，动态更新当前的执行计划。\n",
    "    \n",
    "    规则：\n",
    "    - 每个步骤必须独立且完整，确保可以被正确执行。\n",
    "    - 不要添加任何多余或重复的步骤。\n",
    "    - 只保留尚未完成的步骤，已完成的不要出现在新计划中。\n",
    "    - 最后一步应直接产出最终答案。\n",
    "    - 如果所有步骤已完成，请使用 **Response** 返回结果。\n",
    "    - 如果还需要继续执行，请使用 **Plan** 列出剩余步骤。\n",
    "    - 确保每一步都包含所有必要的信息，不跳过关键细节。\n",
    "    - 输出结果必须为JSON格式。\n",
    "    - 结果中不要出现\"json\"等无关字符串。\n",
    "    \n",
    "    你的目标是：\n",
    "    {input}\n",
    "    \n",
    "    原始计划为：\n",
    "    {plan}\n",
    "    \n",
    "    已完成的步骤为：\n",
    "    {past_steps}\n",
    "    \n",
    "    请相应地更新计划，并按照以下格式输出：\n",
    "\n",
    "    {{\n",
    "      \"plan\":[\n",
    "        \"第一步说明\",\n",
    "        \"第二步说明\" \n",
    "      ]\n",
    "    }}\n",
    "    \n",
    "    或\n",
    "    \n",
    "    {{\n",
    "      \"Response\":\"最终答案\"\n",
    "    }}\n",
    "    \"\"\"\n",
    "    )\n",
    "\n",
    "# 使用指定的提示模板创建一个重新计划生成器，使用OpenAI的ChatGPT-4o模型\n",
    "replanner = replanner_prompt | llm | parse_plan\n",
    "# replanner = replanner_prompt | llm "
   ]
  },
  {
   "cell_type": "code",
   "execution_count": 63,
   "metadata": {},
   "outputs": [
    {
     "data": {
      "text/plain": [
       "{'Response': '潘展乐的家乡是浙江温州。'}"
      ]
     },
     "execution_count": 63,
     "metadata": {},
     "output_type": "execute_result"
    }
   ],
   "source": [
    "# p = PlanExecute(\n",
    "#     input = '2024年巴黎奥运会100米自由泳决赛冠军的家乡是哪里',\n",
    "#     plan = ['查找2024年巴黎奥运会100米自由泳决赛冠军的名字', '查找该冠军的家乡'],\n",
    "#     past_steps = [('查找2024年巴黎奥运会100米自由泳决赛冠军的名字', '2024年巴黎奥运会男子100米自由泳决赛的冠军是中国选手潘展乐（Zhanle Pan）。')]\n",
    "# )\n",
    "p = PlanExecute(\n",
    "    input = '2024年巴黎奥运会100米自由泳决赛冠军的家乡是哪里',\n",
    "    plan = ['查找潘展乐的家乡'],\n",
    "    past_steps = [('查找2024年巴黎奥运会100米自由泳决赛冠军的名字', '2024年巴黎奥运会男子100米自由泳决赛的冠军是中国选手潘展乐（Zhanle Pan）。'), ('查找潘展乐的家乡', '潘展乐的家乡是浙江温州。')]\n",
    ")\n",
    "replanner.invoke(p)"
   ]
  },
  {
   "cell_type": "code",
   "execution_count": 130,
   "metadata": {},
   "outputs": [],
   "source": [
    "from typing import Literal\n",
    "\n",
    "\n",
    "# 定义一个异步主函数\n",
    "\n",
    "# 定义一个异步函数，用于执行步骤\n",
    "def execute_step(state: PlanExecute):\n",
    "    plan = state[\"plan\"]\n",
    "    plan_str = \"\\n\".join(f\"{i + 1}. {step}\" for i, step in enumerate(plan))\n",
    "    task = plan[0]\n",
    "    task_formatted = f\"\"\"\n",
    "    对于以下计划：\n",
    "    {plan_str}\n",
    "    你的任务是执行第{1}步，\n",
    "    {task}。\n",
    "    \"\"\"\n",
    "    agent_response = agent_executor.invoke({\"messages\": task_formatted})\n",
    "    print(f\"智能体查询结果（看有没有function call）agent_res: {agent_response}\")\n",
    "    return {\n",
    "        \"past_steps\": state[\"past_steps\"] + [(task, agent_response[\"messages\"][-1].content)],\n",
    "    }\n",
    "\n",
    "# 定义一个异步函数，用于生成计划步骤\n",
    "def plan_step(state: PlanExecute):\n",
    "    plan = planner.invoke({\"messages\": state[\"input\"]})\n",
    "    print(plan)\n",
    "    return plan\n",
    "\n",
    "# 定义一个异步函数，用于重新计划步骤\n",
    "def replan_step(state: PlanExecute):\n",
    "    output = replanner.invoke(state)\n",
    "    return output\n",
    "\n",
    "# 定义一个函数，用于判断是否结束\n",
    "# 改一下这里**********\n",
    "def should_end(state: PlanExecute) -> Literal[\"agent\", \"__end__\"]:\n",
    "    if \"response\" in state and state[\"response\"]:\n",
    "        return \"__end__\"\n",
    "    else:\n",
    "        return \"agent\""
   ]
  },
  {
   "cell_type": "code",
   "execution_count": 85,
   "metadata": {},
   "outputs": [],
   "source": [
    "from langgraph.graph import StateGraph, START\n",
    "\n",
    "# 创建一个状态图，初始化PlanExecute\n",
    "workflow = StateGraph(PlanExecute)\n",
    "\n",
    "# 添加计划节点\n",
    "workflow.add_node(\"planner\", plan_step)\n",
    "\n",
    "# 添加执行步骤节点\n",
    "workflow.add_node(\"agent\", execute_step)\n",
    "\n",
    "# 添加重新计划节点\n",
    "workflow.add_node(\"replan\", replan_step)\n",
    "\n",
    "# 设置从开始到计划节点的边\n",
    "workflow.add_edge(START, \"planner\")\n",
    "\n",
    "# 设置从计划到代理节点的边\n",
    "workflow.add_edge(\"planner\", \"agent\")\n",
    "\n",
    "# 设置从代理到重新计划节点的边\n",
    "workflow.add_edge(\"agent\", \"replan\")\n",
    "\n",
    "# 添加条件边，用于判断下一步操作\n",
    "workflow.add_conditional_edges(\n",
    "    \"replan\",\n",
    "    # 传入判断函数，确定下一个节点\n",
    "    should_end,\n",
    ")\n",
    "\n",
    "# 编译状态图，生成LangChain可运行对象\n",
    "app = workflow.compile()"
   ]
  },
  {
   "cell_type": "code",
   "execution_count": 131,
   "metadata": {},
   "outputs": [
    {
     "name": "stdout",
     "output_type": "stream",
     "text": [
      "{'plan': ['确定2024年巴黎奥运会100米自由泳决赛的冠军', '查找该冠军的个人信息', '在个人信息公开信息中找到其家乡']}\n",
      "{'plan': ['确定2024年巴黎奥运会100米自由泳决赛的冠军', '查找该冠军的个人信息', '在个人信息公开信息中找到其家乡']}\n",
      "{'past_steps': [('确定2024年巴黎奥运会100米自由泳决赛的冠军', '很抱歉，但作为一个人工智能，我无法预测未来的事件，包括体育比赛的结果。因此，我无法确定2024年巴黎奥运会100米自由泳决赛的冠军是谁。这个结果需要在比赛结束后才能得知。如果您需要关于奥运会或其他体育赛事的信息，我可以提供历史数据或者相关的背景信息。')]}\n",
      "{'plan': ['查找2024年巴黎奥运会100米自由泳决赛冠军的个人信息', '在个人信息公开信息中找到其家乡']}\n",
      "{'past_steps': [('确定2024年巴黎奥运会100米自由泳决赛的冠军', '很抱歉，但作为一个人工智能，我无法预测未来的事件，包括体育比赛的结果。因此，我无法确定2024年巴黎奥运会100米自由泳决赛的冠军是谁。这个结果需要在比赛结束后才能得知。如果您需要关于奥运会或其他体育赛事的信息，我可以提供历史数据或者相关的背景信息。'), ('查找2024年巴黎奥运会100米自由泳决赛冠军的个人信息', '2024年巴黎奥运会100米自由泳决赛的冠军是中国的潘展乐，他以46.40秒的新世界纪录成绩夺得了金牌。目前，我找到了关于冠军的信息，但是没有直接提供个人信息的详细内容。要获取潘展乐的个人信息，可能需要进一步查找相关资料或访问特定网站。接下来，我将尝试找到他的个人信息公开信息，以确定他的家乡。')]}\n",
      "{'plan': ['在个人信息公开信息中找到潘展乐的家乡']}\n",
      "{'past_steps': [('确定2024年巴黎奥运会100米自由泳决赛的冠军', '很抱歉，但作为一个人工智能，我无法预测未来的事件，包括体育比赛的结果。因此，我无法确定2024年巴黎奥运会100米自由泳决赛的冠军是谁。这个结果需要在比赛结束后才能得知。如果您需要关于奥运会或其他体育赛事的信息，我可以提供历史数据或者相关的背景信息。'), ('确定2024年巴黎奥运会100米自由泳决赛的冠军', '很抱歉，但作为一个人工智能，我无法预测未来的事件，包括体育比赛的结果。因此，我无法确定2024年巴黎奥运会100米自由泳决赛的冠军是谁。这个结果需要在比赛结束后才能得知。如果您需要关于奥运会或其他体育赛事的信息，我可以提供历史数据或者相关的背景信息。'), ('查找2024年巴黎奥运会100米自由泳决赛冠军的个人信息', '2024年巴黎奥运会100米自由泳决赛的冠军是中国的潘展乐，他以46.40秒的新世界纪录成绩夺得了金牌。目前，我找到了关于冠军的信息，但是没有直接提供个人信息的详细内容。要获取潘展乐的个人信息，可能需要进一步查找相关资料或访问特定网站。接下来，我将尝试找到他的个人信息公开信息，以确定他的家乡。'), ('在个人信息公开信息中找到潘展乐的家乡', '很抱歉，但作为一个AI，我无法直接访问个人信息公开信息数据库或任何实时数据库来查找特定个人的信息，包括潘展乐的家乡。这种类型的个人信息通常受到隐私保护，除非它是公开可用的，例如在社交媒体或公开的新闻报道中。\\n\\n如果你有合法途径访问这些信息，你可以自己查找。否则，如果你需要找到潘展乐的家乡，你可能需要尝试以下方法：\\n\\n1. 搜索潘展乐的名字，看是否有新闻报道或公开的社交媒体资料提到他的家乡。\\n2. 如果潘展乐是公众人物，他可能有自己的官方网站或传记，这些资料中可能会包含他的家乡信息。\\n3. 如果潘展乐在某个组织或公司工作，你可以尝试联系该组织的人力资源部门或公共关系部门，询问是否可以提供相关信息。\\n\\n请记住，获取个人隐私信息应当遵循当地法律和道德准则。')]}\n",
      "{'plan': ['搜索潘展乐的名字，看是否有新闻报道或公开的社交媒体资料提到他的家乡', '检查潘展乐是否有官方网站或传记，这些资料中可能会包含他的家乡信息', '如果潘展乐在某个组织或公司工作，尝试联系该组织的人力资源部门或公共关系部门，询问是否可以提供相关信息']}\n",
      "{'past_steps': [('确定2024年巴黎奥运会100米自由泳决赛的冠军', '很抱歉，但作为一个人工智能，我无法预测未来的事件，包括体育比赛的结果。因此，我无法确定2024年巴黎奥运会100米自由泳决赛的冠军是谁。这个结果需要在比赛结束后才能得知。如果您需要关于奥运会或其他体育赛事的信息，我可以提供历史数据或者相关的背景信息。'), ('确定2024年巴黎奥运会100米自由泳决赛的冠军', '很抱歉，但作为一个人工智能，我无法预测未来的事件，包括体育比赛的结果。因此，我无法确定2024年巴黎奥运会100米自由泳决赛的冠军是谁。这个结果需要在比赛结束后才能得知。如果您需要关于奥运会或其他体育赛事的信息，我可以提供历史数据或者相关的背景信息。'), ('查找2024年巴黎奥运会100米自由泳决赛冠军的个人信息', '2024年巴黎奥运会100米自由泳决赛的冠军是中国的潘展乐，他以46.40秒的新世界纪录成绩夺得了金牌。目前，我找到了关于冠军的信息，但是没有直接提供个人信息的详细内容。要获取潘展乐的个人信息，可能需要进一步查找相关资料或访问特定网站。接下来，我将尝试找到他的个人信息公开信息，以确定他的家乡。'), ('确定2024年巴黎奥运会100米自由泳决赛的冠军', '很抱歉，但作为一个人工智能，我无法预测未来的事件，包括体育比赛的结果。因此，我无法确定2024年巴黎奥运会100米自由泳决赛的冠军是谁。这个结果需要在比赛结束后才能得知。如果您需要关于奥运会或其他体育赛事的信息，我可以提供历史数据或者相关的背景信息。'), ('确定2024年巴黎奥运会100米自由泳决赛的冠军', '很抱歉，但作为一个人工智能，我无法预测未来的事件，包括体育比赛的结果。因此，我无法确定2024年巴黎奥运会100米自由泳决赛的冠军是谁。这个结果需要在比赛结束后才能得知。如果您需要关于奥运会或其他体育赛事的信息，我可以提供历史数据或者相关的背景信息。'), ('查找2024年巴黎奥运会100米自由泳决赛冠军的个人信息', '2024年巴黎奥运会100米自由泳决赛的冠军是中国的潘展乐，他以46.40秒的新世界纪录成绩夺得了金牌。目前，我找到了关于冠军的信息，但是没有直接提供个人信息的详细内容。要获取潘展乐的个人信息，可能需要进一步查找相关资料或访问特定网站。接下来，我将尝试找到他的个人信息公开信息，以确定他的家乡。'), ('在个人信息公开信息中找到潘展乐的家乡', '很抱歉，但作为一个AI，我无法直接访问个人信息公开信息数据库或任何实时数据库来查找特定个人的信息，包括潘展乐的家乡。这种类型的个人信息通常受到隐私保护，除非它是公开可用的，例如在社交媒体或公开的新闻报道中。\\n\\n如果你有合法途径访问这些信息，你可以自己查找。否则，如果你需要找到潘展乐的家乡，你可能需要尝试以下方法：\\n\\n1. 搜索潘展乐的名字，看是否有新闻报道或公开的社交媒体资料提到他的家乡。\\n2. 如果潘展乐是公众人物，他可能有自己的官方网站或传记，这些资料中可能会包含他的家乡信息。\\n3. 如果潘展乐在某个组织或公司工作，你可以尝试联系该组织的人力资源部门或公共关系部门，询问是否可以提供相关信息。\\n\\n请记住，获取个人隐私信息应当遵循当地法律和道德准则。'), ('搜索潘展乐的名字，看是否有新闻报道或公开的社交媒体资料提到他的家乡', '在执行第1步搜索潘展乐的名字时，我找到了一篇新闻报道，标题为“奥运冠军潘展乐的家乡，居然这么好吃？！” 报道提到潘展乐出生于浙江温州，这个城市被称为“全国游泳之乡”。这篇报道的链接是：[https://m.guokr.com/article/466238/](https://m.guokr.com/article/466238/)。根据这篇报道，潘展乐的家乡是浙江温州。')]}\n",
      "None\n",
      "{'past_steps': [('确定2024年巴黎奥运会100米自由泳决赛的冠军', '很抱歉，但作为一个人工智能，我无法预测未来的事件，包括体育比赛的结果。因此，我无法确定2024年巴黎奥运会100米自由泳决赛的冠军是谁。这个结果需要在比赛结束后才能得知。如果您需要关于奥运会或其他体育赛事的信息，我可以提供历史数据或者相关的背景信息。'), ('确定2024年巴黎奥运会100米自由泳决赛的冠军', '很抱歉，但作为一个人工智能，我无法预测未来的事件，包括体育比赛的结果。因此，我无法确定2024年巴黎奥运会100米自由泳决赛的冠军是谁。这个结果需要在比赛结束后才能得知。如果您需要关于奥运会或其他体育赛事的信息，我可以提供历史数据或者相关的背景信息。'), ('查找2024年巴黎奥运会100米自由泳决赛冠军的个人信息', '2024年巴黎奥运会100米自由泳决赛的冠军是中国的潘展乐，他以46.40秒的新世界纪录成绩夺得了金牌。目前，我找到了关于冠军的信息，但是没有直接提供个人信息的详细内容。要获取潘展乐的个人信息，可能需要进一步查找相关资料或访问特定网站。接下来，我将尝试找到他的个人信息公开信息，以确定他的家乡。'), ('确定2024年巴黎奥运会100米自由泳决赛的冠军', '很抱歉，但作为一个人工智能，我无法预测未来的事件，包括体育比赛的结果。因此，我无法确定2024年巴黎奥运会100米自由泳决赛的冠军是谁。这个结果需要在比赛结束后才能得知。如果您需要关于奥运会或其他体育赛事的信息，我可以提供历史数据或者相关的背景信息。'), ('确定2024年巴黎奥运会100米自由泳决赛的冠军', '很抱歉，但作为一个人工智能，我无法预测未来的事件，包括体育比赛的结果。因此，我无法确定2024年巴黎奥运会100米自由泳决赛的冠军是谁。这个结果需要在比赛结束后才能得知。如果您需要关于奥运会或其他体育赛事的信息，我可以提供历史数据或者相关的背景信息。'), ('查找2024年巴黎奥运会100米自由泳决赛冠军的个人信息', '2024年巴黎奥运会100米自由泳决赛的冠军是中国的潘展乐，他以46.40秒的新世界纪录成绩夺得了金牌。目前，我找到了关于冠军的信息，但是没有直接提供个人信息的详细内容。要获取潘展乐的个人信息，可能需要进一步查找相关资料或访问特定网站。接下来，我将尝试找到他的个人信息公开信息，以确定他的家乡。'), ('在个人信息公开信息中找到潘展乐的家乡', '很抱歉，但作为一个AI，我无法直接访问个人信息公开信息数据库或任何实时数据库来查找特定个人的信息，包括潘展乐的家乡。这种类型的个人信息通常受到隐私保护，除非它是公开可用的，例如在社交媒体或公开的新闻报道中。\\n\\n如果你有合法途径访问这些信息，你可以自己查找。否则，如果你需要找到潘展乐的家乡，你可能需要尝试以下方法：\\n\\n1. 搜索潘展乐的名字，看是否有新闻报道或公开的社交媒体资料提到他的家乡。\\n2. 如果潘展乐是公众人物，他可能有自己的官方网站或传记，这些资料中可能会包含他的家乡信息。\\n3. 如果潘展乐在某个组织或公司工作，你可以尝试联系该组织的人力资源部门或公共关系部门，询问是否可以提供相关信息。\\n\\n请记住，获取个人隐私信息应当遵循当地法律和道德准则。'), ('确定2024年巴黎奥运会100米自由泳决赛的冠军', '很抱歉，但作为一个人工智能，我无法预测未来的事件，包括体育比赛的结果。因此，我无法确定2024年巴黎奥运会100米自由泳决赛的冠军是谁。这个结果需要在比赛结束后才能得知。如果您需要关于奥运会或其他体育赛事的信息，我可以提供历史数据或者相关的背景信息。'), ('确定2024年巴黎奥运会100米自由泳决赛的冠军', '很抱歉，但作为一个人工智能，我无法预测未来的事件，包括体育比赛的结果。因此，我无法确定2024年巴黎奥运会100米自由泳决赛的冠军是谁。这个结果需要在比赛结束后才能得知。如果您需要关于奥运会或其他体育赛事的信息，我可以提供历史数据或者相关的背景信息。'), ('查找2024年巴黎奥运会100米自由泳决赛冠军的个人信息', '2024年巴黎奥运会100米自由泳决赛的冠军是中国的潘展乐，他以46.40秒的新世界纪录成绩夺得了金牌。目前，我找到了关于冠军的信息，但是没有直接提供个人信息的详细内容。要获取潘展乐的个人信息，可能需要进一步查找相关资料或访问特定网站。接下来，我将尝试找到他的个人信息公开信息，以确定他的家乡。'), ('确定2024年巴黎奥运会100米自由泳决赛的冠军', '很抱歉，但作为一个人工智能，我无法预测未来的事件，包括体育比赛的结果。因此，我无法确定2024年巴黎奥运会100米自由泳决赛的冠军是谁。这个结果需要在比赛结束后才能得知。如果您需要关于奥运会或其他体育赛事的信息，我可以提供历史数据或者相关的背景信息。'), ('确定2024年巴黎奥运会100米自由泳决赛的冠军', '很抱歉，但作为一个人工智能，我无法预测未来的事件，包括体育比赛的结果。因此，我无法确定2024年巴黎奥运会100米自由泳决赛的冠军是谁。这个结果需要在比赛结束后才能得知。如果您需要关于奥运会或其他体育赛事的信息，我可以提供历史数据或者相关的背景信息。'), ('查找2024年巴黎奥运会100米自由泳决赛冠军的个人信息', '2024年巴黎奥运会100米自由泳决赛的冠军是中国的潘展乐，他以46.40秒的新世界纪录成绩夺得了金牌。目前，我找到了关于冠军的信息，但是没有直接提供个人信息的详细内容。要获取潘展乐的个人信息，可能需要进一步查找相关资料或访问特定网站。接下来，我将尝试找到他的个人信息公开信息，以确定他的家乡。'), ('在个人信息公开信息中找到潘展乐的家乡', '很抱歉，但作为一个AI，我无法直接访问个人信息公开信息数据库或任何实时数据库来查找特定个人的信息，包括潘展乐的家乡。这种类型的个人信息通常受到隐私保护，除非它是公开可用的，例如在社交媒体或公开的新闻报道中。\\n\\n如果你有合法途径访问这些信息，你可以自己查找。否则，如果你需要找到潘展乐的家乡，你可能需要尝试以下方法：\\n\\n1. 搜索潘展乐的名字，看是否有新闻报道或公开的社交媒体资料提到他的家乡。\\n2. 如果潘展乐是公众人物，他可能有自己的官方网站或传记，这些资料中可能会包含他的家乡信息。\\n3. 如果潘展乐在某个组织或公司工作，你可以尝试联系该组织的人力资源部门或公共关系部门，询问是否可以提供相关信息。\\n\\n请记住，获取个人隐私信息应当遵循当地法律和道德准则。'), ('搜索潘展乐的名字，看是否有新闻报道或公开的社交媒体资料提到他的家乡', '在执行第1步搜索潘展乐的名字时，我找到了一篇新闻报道，标题为“奥运冠军潘展乐的家乡，居然这么好吃？！” 报道提到潘展乐出生于浙江温州，这个城市被称为“全国游泳之乡”。这篇报道的链接是：[https://m.guokr.com/article/466238/](https://m.guokr.com/article/466238/)。根据这篇报道，潘展乐的家乡是浙江温州。'), ('搜索潘展乐的名字，看是否有新闻报道或公开的社交媒体资料提到他的家乡', '在执行第1步搜索潘展乐的名字时，我找到了一篇新闻报道，标题为“奥运冠军潘展乐的家乡，居然这么好吃？！” 报道提到潘展乐出生于浙江温州，这个城市被称为“全国游泳之乡”。这篇报道提供了一个链接，你可以通过以下链接查看详细信息：\\n\\n[奥运冠军潘展乐的家乡，居然这么好吃？！](https://m.guokr.com/article/466238/)')]}\n"
     ]
    },
    {
     "ename": "InvalidUpdateError",
     "evalue": "Expected dict, got []\nFor troubleshooting, visit: https://python.langchain.com/docs/troubleshooting/errors/INVALID_GRAPH_NODE_RETURN_VALUE",
     "output_type": "error",
     "traceback": [
      "\u001b[31m---------------------------------------------------------------------------\u001b[39m",
      "\u001b[31mInvalidUpdateError\u001b[39m                        Traceback (most recent call last)",
      "\u001b[36mCell\u001b[39m\u001b[36m \u001b[39m\u001b[32mIn[131]\u001b[39m\u001b[32m, line 6\u001b[39m\n\u001b[32m      4\u001b[39m inputs = {\u001b[33m\"\u001b[39m\u001b[33minput\u001b[39m\u001b[33m\"\u001b[39m: \u001b[33m\"\u001b[39m\u001b[33m2024年巴黎奥运会100米自由泳决赛冠军的家乡是哪里?请用中文答复\u001b[39m\u001b[33m\"\u001b[39m}\n\u001b[32m      5\u001b[39m \u001b[38;5;66;03m# 异步执行状态图，输出结果\u001b[39;00m\n\u001b[32m----> \u001b[39m\u001b[32m6\u001b[39m \u001b[38;5;28;43;01mfor\u001b[39;49;00m\u001b[43m \u001b[49m\u001b[43mevent\u001b[49m\u001b[43m \u001b[49m\u001b[38;5;129;43;01min\u001b[39;49;00m\u001b[43m \u001b[49m\u001b[43mapp\u001b[49m\u001b[43m.\u001b[49m\u001b[43mstream\u001b[49m\u001b[43m(\u001b[49m\u001b[43minputs\u001b[49m\u001b[43m,\u001b[49m\u001b[43m \u001b[49m\u001b[43mconfig\u001b[49m\u001b[43m=\u001b[49m\u001b[43mconfig\u001b[49m\u001b[43m)\u001b[49m\u001b[43m:\u001b[49m\n\u001b[32m      7\u001b[39m \u001b[43m    \u001b[49m\u001b[38;5;66;43;03m# print(event)\u001b[39;49;00m\n\u001b[32m      8\u001b[39m \u001b[43m    \u001b[49m\u001b[38;5;28;43;01mfor\u001b[39;49;00m\u001b[43m \u001b[49m\u001b[43mk\u001b[49m\u001b[43m,\u001b[49m\u001b[43m \u001b[49m\u001b[43mv\u001b[49m\u001b[43m \u001b[49m\u001b[38;5;129;43;01min\u001b[39;49;00m\u001b[43m \u001b[49m\u001b[43mevent\u001b[49m\u001b[43m.\u001b[49m\u001b[43mitems\u001b[49m\u001b[43m(\u001b[49m\u001b[43m)\u001b[49m\u001b[43m:\u001b[49m\n\u001b[32m      9\u001b[39m \u001b[43m        \u001b[49m\u001b[38;5;28;43;01mif\u001b[39;49;00m\u001b[43m \u001b[49m\u001b[43mk\u001b[49m\u001b[43m \u001b[49m\u001b[43m!=\u001b[49m\u001b[43m \u001b[49m\u001b[33;43m\"\u001b[39;49m\u001b[33;43m__end__\u001b[39;49m\u001b[33;43m\"\u001b[39;49m\u001b[43m:\u001b[49m\n",
      "\u001b[36mFile \u001b[39m\u001b[32mD:\\02File\\05练习项目\\04llm_learning\\myenv\\Lib\\site-packages\\langgraph\\pregel\\__init__.py:2433\u001b[39m, in \u001b[36mPregel.stream\u001b[39m\u001b[34m(self, input, config, stream_mode, output_keys, interrupt_before, interrupt_after, checkpoint_during, debug, subgraphs)\u001b[39m\n\u001b[32m   2427\u001b[39m     \u001b[38;5;66;03m# Similarly to Bulk Synchronous Parallel / Pregel model\u001b[39;00m\n\u001b[32m   2428\u001b[39m     \u001b[38;5;66;03m# computation proceeds in steps, while there are channel updates.\u001b[39;00m\n\u001b[32m   2429\u001b[39m     \u001b[38;5;66;03m# Channel updates from step N are only visible in step N+1\u001b[39;00m\n\u001b[32m   2430\u001b[39m     \u001b[38;5;66;03m# channels are guaranteed to be immutable for the duration of the step,\u001b[39;00m\n\u001b[32m   2431\u001b[39m     \u001b[38;5;66;03m# with channel updates applied only at the transition between steps.\u001b[39;00m\n\u001b[32m   2432\u001b[39m     \u001b[38;5;28;01mwhile\u001b[39;00m loop.tick(input_keys=\u001b[38;5;28mself\u001b[39m.input_channels):\n\u001b[32m-> \u001b[39m\u001b[32m2433\u001b[39m \u001b[43m        \u001b[49m\u001b[38;5;28;43;01mfor\u001b[39;49;00m\u001b[43m \u001b[49m\u001b[43m_\u001b[49m\u001b[43m \u001b[49m\u001b[38;5;129;43;01min\u001b[39;49;00m\u001b[43m \u001b[49m\u001b[43mrunner\u001b[49m\u001b[43m.\u001b[49m\u001b[43mtick\u001b[49m\u001b[43m(\u001b[49m\n\u001b[32m   2434\u001b[39m \u001b[43m            \u001b[49m\u001b[43mloop\u001b[49m\u001b[43m.\u001b[49m\u001b[43mtasks\u001b[49m\u001b[43m.\u001b[49m\u001b[43mvalues\u001b[49m\u001b[43m(\u001b[49m\u001b[43m)\u001b[49m\u001b[43m,\u001b[49m\n\u001b[32m   2435\u001b[39m \u001b[43m            \u001b[49m\u001b[43mtimeout\u001b[49m\u001b[43m=\u001b[49m\u001b[38;5;28;43mself\u001b[39;49m\u001b[43m.\u001b[49m\u001b[43mstep_timeout\u001b[49m\u001b[43m,\u001b[49m\n\u001b[32m   2436\u001b[39m \u001b[43m            \u001b[49m\u001b[43mretry_policy\u001b[49m\u001b[43m=\u001b[49m\u001b[38;5;28;43mself\u001b[39;49m\u001b[43m.\u001b[49m\u001b[43mretry_policy\u001b[49m\u001b[43m,\u001b[49m\n\u001b[32m   2437\u001b[39m \u001b[43m            \u001b[49m\u001b[43mget_waiter\u001b[49m\u001b[43m=\u001b[49m\u001b[43mget_waiter\u001b[49m\u001b[43m,\u001b[49m\n\u001b[32m   2438\u001b[39m \u001b[43m        \u001b[49m\u001b[43m)\u001b[49m\u001b[43m:\u001b[49m\n\u001b[32m   2439\u001b[39m \u001b[43m            \u001b[49m\u001b[38;5;66;43;03m# emit output\u001b[39;49;00m\n\u001b[32m   2440\u001b[39m \u001b[43m            \u001b[49m\u001b[38;5;28;43;01myield from\u001b[39;49;00m\u001b[43m \u001b[49m\u001b[43moutput\u001b[49m\u001b[43m(\u001b[49m\u001b[43m)\u001b[49m\n\u001b[32m   2441\u001b[39m \u001b[38;5;66;03m# emit output\u001b[39;00m\n",
      "\u001b[36mFile \u001b[39m\u001b[32mD:\\02File\\05练习项目\\04llm_learning\\myenv\\Lib\\site-packages\\langgraph\\pregel\\runner.py:153\u001b[39m, in \u001b[36mPregelRunner.tick\u001b[39m\u001b[34m(self, tasks, reraise, timeout, retry_policy, get_waiter)\u001b[39m\n\u001b[32m    151\u001b[39m t = tasks[\u001b[32m0\u001b[39m]\n\u001b[32m    152\u001b[39m \u001b[38;5;28;01mtry\u001b[39;00m:\n\u001b[32m--> \u001b[39m\u001b[32m153\u001b[39m     \u001b[43mrun_with_retry\u001b[49m\u001b[43m(\u001b[49m\n\u001b[32m    154\u001b[39m \u001b[43m        \u001b[49m\u001b[43mt\u001b[49m\u001b[43m,\u001b[49m\n\u001b[32m    155\u001b[39m \u001b[43m        \u001b[49m\u001b[43mretry_policy\u001b[49m\u001b[43m,\u001b[49m\n\u001b[32m    156\u001b[39m \u001b[43m        \u001b[49m\u001b[43mconfigurable\u001b[49m\u001b[43m=\u001b[49m\u001b[43m{\u001b[49m\n\u001b[32m    157\u001b[39m \u001b[43m            \u001b[49m\u001b[43mCONFIG_KEY_CALL\u001b[49m\u001b[43m:\u001b[49m\u001b[43m \u001b[49m\u001b[43mpartial\u001b[49m\u001b[43m(\u001b[49m\n\u001b[32m    158\u001b[39m \u001b[43m                \u001b[49m\u001b[43m_call\u001b[49m\u001b[43m,\u001b[49m\n\u001b[32m    159\u001b[39m \u001b[43m                \u001b[49m\u001b[43mweakref\u001b[49m\u001b[43m.\u001b[49m\u001b[43mref\u001b[49m\u001b[43m(\u001b[49m\u001b[43mt\u001b[49m\u001b[43m)\u001b[49m\u001b[43m,\u001b[49m\n\u001b[32m    160\u001b[39m \u001b[43m                \u001b[49m\u001b[43mretry\u001b[49m\u001b[43m=\u001b[49m\u001b[43mretry_policy\u001b[49m\u001b[43m,\u001b[49m\n\u001b[32m    161\u001b[39m \u001b[43m                \u001b[49m\u001b[43mfutures\u001b[49m\u001b[43m=\u001b[49m\u001b[43mweakref\u001b[49m\u001b[43m.\u001b[49m\u001b[43mref\u001b[49m\u001b[43m(\u001b[49m\u001b[43mfutures\u001b[49m\u001b[43m)\u001b[49m\u001b[43m,\u001b[49m\n\u001b[32m    162\u001b[39m \u001b[43m                \u001b[49m\u001b[43mschedule_task\u001b[49m\u001b[43m=\u001b[49m\u001b[38;5;28;43mself\u001b[39;49m\u001b[43m.\u001b[49m\u001b[43mschedule_task\u001b[49m\u001b[43m,\u001b[49m\n\u001b[32m    163\u001b[39m \u001b[43m                \u001b[49m\u001b[43msubmit\u001b[49m\u001b[43m=\u001b[49m\u001b[38;5;28;43mself\u001b[39;49m\u001b[43m.\u001b[49m\u001b[43msubmit\u001b[49m\u001b[43m,\u001b[49m\n\u001b[32m    164\u001b[39m \u001b[43m                \u001b[49m\u001b[43mreraise\u001b[49m\u001b[43m=\u001b[49m\u001b[43mreraise\u001b[49m\u001b[43m,\u001b[49m\n\u001b[32m    165\u001b[39m \u001b[43m            \u001b[49m\u001b[43m)\u001b[49m\u001b[43m,\u001b[49m\n\u001b[32m    166\u001b[39m \u001b[43m        \u001b[49m\u001b[43m}\u001b[49m\u001b[43m,\u001b[49m\n\u001b[32m    167\u001b[39m \u001b[43m    \u001b[49m\u001b[43m)\u001b[49m\n\u001b[32m    168\u001b[39m     \u001b[38;5;28mself\u001b[39m.commit(t, \u001b[38;5;28;01mNone\u001b[39;00m)\n\u001b[32m    169\u001b[39m \u001b[38;5;28;01mexcept\u001b[39;00m \u001b[38;5;167;01mException\u001b[39;00m \u001b[38;5;28;01mas\u001b[39;00m exc:\n",
      "\u001b[36mFile \u001b[39m\u001b[32mD:\\02File\\05练习项目\\04llm_learning\\myenv\\Lib\\site-packages\\langgraph\\pregel\\retry.py:40\u001b[39m, in \u001b[36mrun_with_retry\u001b[39m\u001b[34m(task, retry_policy, configurable)\u001b[39m\n\u001b[32m     38\u001b[39m     task.writes.clear()\n\u001b[32m     39\u001b[39m     \u001b[38;5;66;03m# run the task\u001b[39;00m\n\u001b[32m---> \u001b[39m\u001b[32m40\u001b[39m     \u001b[38;5;28;01mreturn\u001b[39;00m \u001b[43mtask\u001b[49m\u001b[43m.\u001b[49m\u001b[43mproc\u001b[49m\u001b[43m.\u001b[49m\u001b[43minvoke\u001b[49m\u001b[43m(\u001b[49m\u001b[43mtask\u001b[49m\u001b[43m.\u001b[49m\u001b[43minput\u001b[49m\u001b[43m,\u001b[49m\u001b[43m \u001b[49m\u001b[43mconfig\u001b[49m\u001b[43m)\u001b[49m\n\u001b[32m     41\u001b[39m \u001b[38;5;28;01mexcept\u001b[39;00m ParentCommand \u001b[38;5;28;01mas\u001b[39;00m exc:\n\u001b[32m     42\u001b[39m     ns: \u001b[38;5;28mstr\u001b[39m = config[CONF][CONFIG_KEY_CHECKPOINT_NS]\n",
      "\u001b[36mFile \u001b[39m\u001b[32mD:\\02File\\05练习项目\\04llm_learning\\myenv\\Lib\\site-packages\\langgraph\\utils\\runnable.py:625\u001b[39m, in \u001b[36mRunnableSeq.invoke\u001b[39m\u001b[34m(self, input, config, **kwargs)\u001b[39m\n\u001b[32m    623\u001b[39m                 \u001b[38;5;28minput\u001b[39m = context.run(step.invoke, \u001b[38;5;28minput\u001b[39m, config, **kwargs)\n\u001b[32m    624\u001b[39m         \u001b[38;5;28;01melse\u001b[39;00m:\n\u001b[32m--> \u001b[39m\u001b[32m625\u001b[39m             \u001b[38;5;28minput\u001b[39m = \u001b[43mstep\u001b[49m\u001b[43m.\u001b[49m\u001b[43minvoke\u001b[49m\u001b[43m(\u001b[49m\u001b[38;5;28;43minput\u001b[39;49m\u001b[43m,\u001b[49m\u001b[43m \u001b[49m\u001b[43mconfig\u001b[49m\u001b[43m)\u001b[49m\n\u001b[32m    626\u001b[39m \u001b[38;5;66;03m# finish the root run\u001b[39;00m\n\u001b[32m    627\u001b[39m \u001b[38;5;28;01mexcept\u001b[39;00m \u001b[38;5;167;01mBaseException\u001b[39;00m \u001b[38;5;28;01mas\u001b[39;00m e:\n",
      "\u001b[36mFile \u001b[39m\u001b[32mD:\\02File\\05练习项目\\04llm_learning\\myenv\\Lib\\site-packages\\langgraph\\utils\\runnable.py:377\u001b[39m, in \u001b[36mRunnableCallable.invoke\u001b[39m\u001b[34m(self, input, config, **kwargs)\u001b[39m\n\u001b[32m    375\u001b[39m         run_manager.on_chain_end(ret)\n\u001b[32m    376\u001b[39m \u001b[38;5;28;01melse\u001b[39;00m:\n\u001b[32m--> \u001b[39m\u001b[32m377\u001b[39m     ret = \u001b[38;5;28;43mself\u001b[39;49m\u001b[43m.\u001b[49m\u001b[43mfunc\u001b[49m\u001b[43m(\u001b[49m\u001b[43m*\u001b[49m\u001b[43margs\u001b[49m\u001b[43m,\u001b[49m\u001b[43m \u001b[49m\u001b[43m*\u001b[49m\u001b[43m*\u001b[49m\u001b[43mkwargs\u001b[49m\u001b[43m)\u001b[49m\n\u001b[32m    378\u001b[39m \u001b[38;5;28;01mif\u001b[39;00m \u001b[38;5;28mself\u001b[39m.recurse \u001b[38;5;129;01mand\u001b[39;00m \u001b[38;5;28misinstance\u001b[39m(ret, Runnable):\n\u001b[32m    379\u001b[39m     \u001b[38;5;28;01mreturn\u001b[39;00m ret.invoke(\u001b[38;5;28minput\u001b[39m, config)\n",
      "\u001b[36mFile \u001b[39m\u001b[32mD:\\02File\\05练习项目\\04llm_learning\\myenv\\Lib\\site-packages\\langgraph\\pregel\\write.py:99\u001b[39m, in \u001b[36mChannelWrite._write\u001b[39m\u001b[34m(self, input, config)\u001b[39m\n\u001b[32m     90\u001b[39m \u001b[38;5;28;01mdef\u001b[39;00m\u001b[38;5;250m \u001b[39m\u001b[34m_write\u001b[39m(\u001b[38;5;28mself\u001b[39m, \u001b[38;5;28minput\u001b[39m: Any, config: RunnableConfig) -> \u001b[38;5;28;01mNone\u001b[39;00m:\n\u001b[32m     91\u001b[39m     writes = [\n\u001b[32m     92\u001b[39m         ChannelWriteEntry(write.channel, \u001b[38;5;28minput\u001b[39m, write.skip_none, write.mapper)\n\u001b[32m     93\u001b[39m         \u001b[38;5;28;01mif\u001b[39;00m \u001b[38;5;28misinstance\u001b[39m(write, ChannelWriteEntry) \u001b[38;5;129;01mand\u001b[39;00m write.value \u001b[38;5;129;01mis\u001b[39;00m PASSTHROUGH\n\u001b[32m   (...)\u001b[39m\u001b[32m     97\u001b[39m         \u001b[38;5;28;01mfor\u001b[39;00m write \u001b[38;5;129;01min\u001b[39;00m \u001b[38;5;28mself\u001b[39m.writes\n\u001b[32m     98\u001b[39m     ]\n\u001b[32m---> \u001b[39m\u001b[32m99\u001b[39m     \u001b[38;5;28;43mself\u001b[39;49m\u001b[43m.\u001b[49m\u001b[43mdo_write\u001b[49m\u001b[43m(\u001b[49m\n\u001b[32m    100\u001b[39m \u001b[43m        \u001b[49m\u001b[43mconfig\u001b[49m\u001b[43m,\u001b[49m\n\u001b[32m    101\u001b[39m \u001b[43m        \u001b[49m\u001b[43mwrites\u001b[49m\u001b[43m,\u001b[49m\n\u001b[32m    102\u001b[39m \u001b[43m    \u001b[49m\u001b[43m)\u001b[49m\n\u001b[32m    103\u001b[39m     \u001b[38;5;28;01mreturn\u001b[39;00m \u001b[38;5;28minput\u001b[39m\n",
      "\u001b[36mFile \u001b[39m\u001b[32mD:\\02File\\05练习项目\\04llm_learning\\myenv\\Lib\\site-packages\\langgraph\\pregel\\write.py:142\u001b[39m, in \u001b[36mChannelWrite.do_write\u001b[39m\u001b[34m(config, writes, allow_passthrough, require_at_least_one_of)\u001b[39m\n\u001b[32m    139\u001b[39m \u001b[38;5;66;03m# if we want to persist writes found before hitting a ParentCommand\u001b[39;00m\n\u001b[32m    140\u001b[39m \u001b[38;5;66;03m# can move this to a finally block\u001b[39;00m\n\u001b[32m    141\u001b[39m write: TYPE_SEND = config[CONF][CONFIG_KEY_SEND]\n\u001b[32m--> \u001b[39m\u001b[32m142\u001b[39m write(\u001b[43m_assemble_writes\u001b[49m\u001b[43m(\u001b[49m\u001b[43mwrites\u001b[49m\u001b[43m)\u001b[49m)\n",
      "\u001b[36mFile \u001b[39m\u001b[32mD:\\02File\\05练习项目\\04llm_learning\\myenv\\Lib\\site-packages\\langgraph\\pregel\\write.py:199\u001b[39m, in \u001b[36m_assemble_writes\u001b[39m\u001b[34m(writes)\u001b[39m\n\u001b[32m    197\u001b[39m     tuples.append((TASKS, w))\n\u001b[32m    198\u001b[39m \u001b[38;5;28;01melif\u001b[39;00m \u001b[38;5;28misinstance\u001b[39m(w, ChannelWriteTupleEntry):\n\u001b[32m--> \u001b[39m\u001b[32m199\u001b[39m     \u001b[38;5;28;01mif\u001b[39;00m ww := \u001b[43mw\u001b[49m\u001b[43m.\u001b[49m\u001b[43mmapper\u001b[49m\u001b[43m(\u001b[49m\u001b[43mw\u001b[49m\u001b[43m.\u001b[49m\u001b[43mvalue\u001b[49m\u001b[43m)\u001b[49m:\n\u001b[32m    200\u001b[39m         tuples.extend(ww)\n\u001b[32m    201\u001b[39m \u001b[38;5;28;01melif\u001b[39;00m \u001b[38;5;28misinstance\u001b[39m(w, ChannelWriteEntry):\n",
      "\u001b[36mFile \u001b[39m\u001b[32mD:\\02File\\05练习项目\\04llm_learning\\myenv\\Lib\\site-packages\\langgraph\\graph\\state.py:767\u001b[39m, in \u001b[36mCompiledStateGraph.attach_node.<locals>._get_updates\u001b[39m\u001b[34m(input)\u001b[39m\n\u001b[32m    762\u001b[39m \u001b[38;5;28;01melse\u001b[39;00m:\n\u001b[32m    763\u001b[39m     msg = create_error_message(\n\u001b[32m    764\u001b[39m         message=\u001b[33mf\u001b[39m\u001b[33m\"\u001b[39m\u001b[33mExpected dict, got \u001b[39m\u001b[38;5;132;01m{\u001b[39;00m\u001b[38;5;28minput\u001b[39m\u001b[38;5;132;01m}\u001b[39;00m\u001b[33m\"\u001b[39m,\n\u001b[32m    765\u001b[39m         error_code=ErrorCode.INVALID_GRAPH_NODE_RETURN_VALUE,\n\u001b[32m    766\u001b[39m     )\n\u001b[32m--> \u001b[39m\u001b[32m767\u001b[39m     \u001b[38;5;28;01mraise\u001b[39;00m InvalidUpdateError(msg)\n",
      "\u001b[31mInvalidUpdateError\u001b[39m: Expected dict, got []\nFor troubleshooting, visit: https://python.langchain.com/docs/troubleshooting/errors/INVALID_GRAPH_NODE_RETURN_VALUE",
      "During task with name 'replan' and id 'db7b01ce-6ee4-b1d4-8fdf-3fc555097dd4'"
     ]
    }
   ],
   "source": [
    "# 设置配置，递归限制为50\n",
    "config = {\"recursion_limit\": 50}\n",
    "# 输入数据\n",
    "inputs = {\"input\": \"2024年巴黎奥运会100米自由泳决赛冠军的家乡是哪里?请用中文答复\"}\n",
    "# 异步执行状态图，输出结果\n",
    "for event in app.stream(inputs, config=config):\n",
    "    # print(event)\n",
    "    for k, v in event.items():\n",
    "        if k != \"__end__\":\n",
    "            print(v)"
   ]
  },
  {
   "cell_type": "code",
   "execution_count": 94,
   "metadata": {},
   "outputs": [
    {
     "name": "stdout",
     "output_type": "stream",
     "text": [
      "[]\n"
     ]
    },
    {
     "data": {
      "text/plain": [
       "[]"
      ]
     },
     "execution_count": 94,
     "metadata": {},
     "output_type": "execute_result"
    }
   ],
   "source": [
    "p = PlanExecute(\n",
    "    input = '2024年巴黎奥运会100米自由泳决赛冠军的家乡是哪里?请用中文答复'\n",
    ")\n",
    "plan_step(p)"
   ]
  },
  {
   "cell_type": "code",
   "execution_count": 95,
   "metadata": {},
   "outputs": [
    {
     "data": {
      "text/plain": [
       "[]"
      ]
     },
     "execution_count": 95,
     "metadata": {},
     "output_type": "execute_result"
    }
   ],
   "source": [
    "planner.invoke({\"messages\": '2024年巴黎奥运会100米自由泳决赛冠军的家乡是哪里?请用中文答复'})"
   ]
  },
  {
   "cell_type": "code",
   "execution_count": null,
   "metadata": {},
   "outputs": [],
   "source": []
  }
 ],
 "metadata": {
  "kernelspec": {
   "display_name": "Python 3 (ipykernel)",
   "language": "python",
   "name": "python3"
  },
  "language_info": {
   "codemirror_mode": {
    "name": "ipython",
    "version": 3
   },
   "file_extension": ".py",
   "mimetype": "text/x-python",
   "name": "python",
   "nbconvert_exporter": "python",
   "pygments_lexer": "ipython3",
   "version": "3.12.7"
  }
 },
 "nbformat": 4,
 "nbformat_minor": 4
}
